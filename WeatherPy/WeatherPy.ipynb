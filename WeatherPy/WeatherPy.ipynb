{
 "cells": [
  {
   "cell_type": "markdown",
   "metadata": {},
   "source": [
    "# WeatherPy\n",
    "----\n",
    "\n",
    "#### Note\n",
    "* Instructions have been included for each segment. You do not have to follow them exactly, but they are included to help you think through the steps."
   ]
  },
  {
   "cell_type": "code",
   "execution_count": 2,
   "metadata": {},
   "outputs": [
    {
     "name": "stdout",
     "output_type": "stream",
     "text": [
      "Collecting citipy\n",
      "  Using cached citipy-0.0.5.tar.gz (557 kB)\n",
      "Collecting kdtree>=0.12\n",
      "  Using cached kdtree-0.16-py2.py3-none-any.whl (7.7 kB)\n",
      "Building wheels for collected packages: citipy\n",
      "  Building wheel for citipy (setup.py): started\n",
      "  Building wheel for citipy (setup.py): finished with status 'done'\n",
      "  Created wheel for citipy: filename=citipy-0.0.5-py3-none-any.whl size=559707 sha256=b51d13ba3e75871d5a3028599b0fa3b39c614a2215ead305acf1a21e75ea673a\n",
      "  Stored in directory: c:\\users\\alext\\appdata\\local\\pip\\cache\\wheels\\eb\\07\\14\\1c448d9fabf3aceac66270933ecae15693974a1b7f91266841\n",
      "Successfully built citipy\n",
      "Installing collected packages: kdtree, citipy\n",
      "Successfully installed citipy-0.0.5 kdtree-0.16\n"
     ]
    }
   ],
   "source": [
    "#!pip install citipy"
   ]
  },
  {
   "cell_type": "code",
   "execution_count": 1,
   "metadata": {
    "scrolled": true
   },
   "outputs": [],
   "source": [
    "# Dependencies and Setup\n",
    "import matplotlib.pyplot as plt\n",
    "import pandas as pd\n",
    "import numpy as np\n",
    "import requests\n",
    "import time\n",
    "import json\n",
    "from scipy.stats import linregress\n",
    "\n",
    "# Import API key\n",
    "from api_keys import weather_api_key\n",
    "\n",
    "# Incorporated citipy to determine city based on latitude and longitude\n",
    "from citipy import citipy\n",
    "\n",
    "# Output File (CSV)\n",
    "output_data_file = \"output_data/cities.csv\"\n",
    "\n",
    "# Range of latitudes and longitudes\n",
    "lat_range = (-90, 90)\n",
    "lng_range = (-180, 180)"
   ]
  },
  {
   "cell_type": "markdown",
   "metadata": {},
   "source": [
    "## Generate Cities List"
   ]
  },
  {
   "cell_type": "code",
   "execution_count": 2,
   "metadata": {},
   "outputs": [
    {
     "data": {
      "text/plain": [
       "588"
      ]
     },
     "execution_count": 2,
     "metadata": {},
     "output_type": "execute_result"
    }
   ],
   "source": [
    "# List for holding lat_lngs and cities\n",
    "lat_lngs = []\n",
    "cities = []\n",
    "\n",
    "# Create a set of random lat and lng combinations\n",
    "lats = np.random.uniform(lat_range[0], lat_range[1], size=1500)\n",
    "lngs = np.random.uniform(lng_range[0], lng_range[1], size=1500)\n",
    "lat_lngs = zip(lats, lngs)\n",
    "\n",
    "# Identify nearest city for each lat, lng combination\n",
    "for lat_lng in lat_lngs:\n",
    "    city = citipy.nearest_city(lat_lng[0], lat_lng[1]).city_name\n",
    "    \n",
    "    # If the city is unique, then add it to a our cities list\n",
    "    if city not in cities:\n",
    "        cities.append(city)\n",
    "\n",
    "# Print the city count to confirm sufficient count\n",
    "len(cities)"
   ]
  },
  {
   "cell_type": "markdown",
   "metadata": {},
   "source": [
    "### Perform API Calls\n",
    "* Perform a weather check on each city using a series of successive API calls.\n",
    "* Include a print log of each city as it'sbeing processed (with the city number and city name).\n"
   ]
  },
  {
   "cell_type": "code",
   "execution_count": 3,
   "metadata": {},
   "outputs": [
    {
     "name": "stdout",
     "output_type": "stream",
     "text": [
      "Beginning Data Retrieval\n",
      "------------------------------\n",
      "Processing Record 1 of Set 1  | Kanniyākumāri\n",
      "Processing Record 2 of Set 1  | Coquimbo\n",
      "Processing Record 3 of Set 1  | Ushuaia\n",
      "Processing Record 4 of Set 1  | Barrow\n",
      "Processing Record 5 of Set 1  | Saint-Paul\n",
      "Processing Record 6 of Set 1  | Mizdah\n",
      "Processing Record 7 of Set 1  | Rikitea\n",
      "Processing Record 8 of Set 1  | Albany\n",
      "Processing Record 9 of Set 1  | Dunda\n",
      "Processing Record 10 of Set 1  | Pacific Grove\n",
      "Processing Record 11 of Set 1  | Kapaa\n",
      "Processing Record 12 of Set 1  | Flinders\n",
      "Processing Record 13 of Set 1  | Qaanaaq\n",
      "Processing Record 14 of Set 1  | Nikolskoye\n",
      "Processing Record 15 of Set 1  | Puerto Ayora\n",
      "City not found. Skipping...\n",
      "Processing Record 16 of Set 1  | Mitsamiouli\n",
      "Processing Record 17 of Set 1  | Rāzole\n",
      "Processing Record 18 of Set 1  | New Norfolk\n",
      "Processing Record 19 of Set 1  | George Town\n",
      "Processing Record 20 of Set 1  | Chui\n",
      "Processing Record 21 of Set 1  | Punta Arenas\n",
      "Processing Record 22 of Set 1  | San Quintín\n",
      "City not found. Skipping...\n",
      "Processing Record 23 of Set 1  | Dikson\n",
      "Processing Record 24 of Set 1  | Cherskiy\n",
      "Processing Record 25 of Set 1  | Zatoka\n",
      "Processing Record 26 of Set 1  | Chokurdakh\n",
      "Processing Record 27 of Set 1  | Sur\n",
      "Processing Record 28 of Set 1  | Tupelo\n",
      "Processing Record 29 of Set 1  | Brae\n",
      "Processing Record 30 of Set 1  | East London\n",
      "Processing Record 31 of Set 1  | Gamba\n",
      "Processing Record 32 of Set 1  | Raglan\n",
      "City not found. Skipping...\n",
      "Processing Record 33 of Set 1  | Lebu\n",
      "Processing Record 34 of Set 1  | Ziniaré\n",
      "Processing Record 35 of Set 1  | Rancho Palos Verdes\n",
      "Processing Record 36 of Set 1  | Tasiilaq\n",
      "Processing Record 37 of Set 1  | Nemuro\n",
      "Processing Record 38 of Set 1  | Hilo\n",
      "Processing Record 39 of Set 1  | Padilla\n",
      "Processing Record 40 of Set 1  | Saint-Pierre\n",
      "Processing Record 41 of Set 1  | Busselton\n",
      "Processing Record 42 of Set 1  | Bredasdorp\n",
      "Processing Record 43 of Set 1  | Benguela\n",
      "Processing Record 44 of Set 1  | Gambēla\n",
      "Processing Record 45 of Set 1  | Cabo San Lucas\n",
      "Processing Record 46 of Set 1  | Buchanan\n",
      "Processing Record 47 of Set 1  | Pevek\n",
      "Processing Record 48 of Set 1  | Faya\n",
      "Processing Record 49 of Set 1  | Wanning\n",
      "Processing Record 50 of Set 1  | Rincon\n",
      "City not found. Skipping...\n",
      "Processing Record 1 of Set 2  | Boddam\n",
      "Processing Record 2 of Set 2  | Mayo\n",
      "Processing Record 3 of Set 2  | Lac-Mégantic\n",
      "Processing Record 4 of Set 2  | Bauchi\n",
      "Processing Record 5 of Set 2  | Mataura\n",
      "City not found. Skipping...\n",
      "Processing Record 6 of Set 2  | Fuerte Olimpo\n",
      "Processing Record 7 of Set 2  | Bossangoa\n",
      "Processing Record 8 of Set 2  | Provideniya\n",
      "Processing Record 9 of Set 2  | Santa Marta\n",
      "Processing Record 10 of Set 2  | Zhezkazgan\n",
      "Processing Record 11 of Set 2  | La Palma\n",
      "City not found. Skipping...\n",
      "Processing Record 12 of Set 2  | Port Hedland\n",
      "Processing Record 13 of Set 2  | Mar del Plata\n",
      "Processing Record 14 of Set 2  | Cape Town\n",
      "Processing Record 15 of Set 2  | Mahébourg\n",
      "Processing Record 16 of Set 2  | Rosetta\n",
      "Processing Record 17 of Set 2  | Nishihara\n",
      "Processing Record 18 of Set 2  | Adrar\n",
      "Processing Record 19 of Set 2  | Khatanga\n",
      "Processing Record 20 of Set 2  | Saint Paul Harbor\n",
      "Processing Record 21 of Set 2  | Iqaluit\n",
      "Processing Record 22 of Set 2  | Saskylakh\n",
      "Processing Record 23 of Set 2  | Caravelas\n",
      "Processing Record 24 of Set 2  | Yeppoon\n",
      "Processing Record 25 of Set 2  | Lipin Bor\n",
      "Processing Record 26 of Set 2  | Arnedo\n",
      "Processing Record 27 of Set 2  | Saint-Philippe\n",
      "Processing Record 28 of Set 2  | Bethel\n",
      "City not found. Skipping...\n",
      "Processing Record 29 of Set 2  | Minyar\n",
      "Processing Record 30 of Set 2  | Ewo\n",
      "Processing Record 31 of Set 2  | Paraíso\n",
      "Processing Record 32 of Set 2  | Noumea\n",
      "City not found. Skipping...\n",
      "Processing Record 33 of Set 2  | Hermanus\n",
      "Processing Record 34 of Set 2  | Djebeniana\n",
      "Processing Record 35 of Set 2  | Saldanha\n",
      "Processing Record 36 of Set 2  | Port Alfred\n",
      "Processing Record 37 of Set 2  | Minas\n",
      "Processing Record 38 of Set 2  | Mahibadhoo\n",
      "Processing Record 39 of Set 2  | Cardoso\n",
      "Processing Record 40 of Set 2  | Narsaq\n",
      "Processing Record 41 of Set 2  | Kavieng\n",
      "Processing Record 42 of Set 2  | Khani\n",
      "Processing Record 43 of Set 2  | Carnarvon\n",
      "Processing Record 44 of Set 2  | Lovozero\n",
      "City not found. Skipping...\n",
      "Processing Record 45 of Set 2  | Āsbe Teferī\n",
      "Processing Record 46 of Set 2  | Serra\n",
      "Processing Record 47 of Set 2  | Khovd\n",
      "Processing Record 48 of Set 2  | Thompson\n",
      "Processing Record 49 of Set 2  | Bluff\n",
      "Processing Record 50 of Set 2  | Souillac\n",
      "Processing Record 1 of Set 3  | Mount Isa\n",
      "Processing Record 2 of Set 3  | Wajir\n",
      "Processing Record 3 of Set 3  | Salinópolis\n",
      "Processing Record 4 of Set 3  | Kambove\n",
      "Processing Record 5 of Set 3  | Airai\n",
      "Processing Record 6 of Set 3  | Laguna\n",
      "Processing Record 7 of Set 3  | Cayenne\n",
      "Processing Record 8 of Set 3  | Jadu\n",
      "Processing Record 9 of Set 3  | Te Anau\n",
      "Processing Record 10 of Set 3  | Upernavik\n",
      "Processing Record 11 of Set 3  | Hasaki\n",
      "City not found. Skipping...\n",
      "Processing Record 12 of Set 3  | Dholka\n",
      "Processing Record 13 of Set 3  | Klaksvík\n",
      "Processing Record 14 of Set 3  | San Patricio\n",
      "Processing Record 15 of Set 3  | Vostok\n",
      "Processing Record 16 of Set 3  | Mwene-Ditu\n",
      "Processing Record 17 of Set 3  | Hwange\n",
      "Processing Record 18 of Set 3  | Srednekolymsk\n",
      "Processing Record 19 of Set 3  | Acajutla\n",
      "Processing Record 20 of Set 3  | Loikaw\n",
      "Processing Record 21 of Set 3  | Mahon\n",
      "Processing Record 22 of Set 3  | Pechora\n",
      "Processing Record 23 of Set 3  | Pavlogradka\n",
      "City not found. Skipping...\n",
      "Processing Record 24 of Set 3  | Kumul\n",
      "Processing Record 25 of Set 3  | Gorontalo\n",
      "Processing Record 26 of Set 3  | Nanortalik\n",
      "Processing Record 27 of Set 3  | Rome\n",
      "Processing Record 28 of Set 3  | Torbay\n",
      "Processing Record 29 of Set 3  | Fortuna\n",
      "Processing Record 30 of Set 3  | Ribeira Grande\n",
      "Processing Record 31 of Set 3  | Boldeşti\n",
      "Processing Record 32 of Set 3  | Severnoye\n",
      "City not found. Skipping...\n",
      "Processing Record 33 of Set 3  | Vaini\n",
      "Processing Record 34 of Set 3  | Mehamn\n",
      "Processing Record 35 of Set 3  | Bambous Virieux\n",
      "Processing Record 36 of Set 3  | Sorong\n",
      "Processing Record 37 of Set 3  | Esim\n",
      "Processing Record 38 of Set 3  | Aloleng\n",
      "Processing Record 39 of Set 3  | Hendek\n",
      "Processing Record 40 of Set 3  | Talnakh\n",
      "Processing Record 41 of Set 3  | Clyde River\n",
      "Processing Record 42 of Set 3  | Berdigestyakh\n",
      "Processing Record 43 of Set 3  | Kokopo\n",
      "Processing Record 44 of Set 3  | Chapais\n",
      "Processing Record 45 of Set 3  | Saint Anthony\n",
      "Processing Record 46 of Set 3  | Nara\n",
      "Processing Record 47 of Set 3  | Freeport\n",
      "Processing Record 48 of Set 3  | Makat\n",
      "Processing Record 49 of Set 3  | Punta Alta\n",
      "Processing Record 50 of Set 3  | Padang\n",
      "Processing Record 1 of Set 4  | Kasongo-Lunda\n",
      "Processing Record 2 of Set 4  | Jamestown\n",
      "Processing Record 3 of Set 4  | Kysyl-Syr\n",
      "Processing Record 4 of Set 4  | Egvekinot\n",
      "Processing Record 5 of Set 4  | Hithadhoo\n",
      "Processing Record 6 of Set 4  | Aklavik\n",
      "Processing Record 7 of Set 4  | Beloha\n",
      "Processing Record 8 of Set 4  | Alice Springs\n",
      "Processing Record 9 of Set 4  | São José da Coroa Grande\n",
      "Processing Record 10 of Set 4  | Miandrivazo\n",
      "Processing Record 11 of Set 4  | Tiarei\n",
      "Processing Record 12 of Set 4  | São Félix do Xingu\n",
      "Processing Record 13 of Set 4  | Cururupu\n",
      "Processing Record 14 of Set 4  | Ushirombo\n",
      "City not found. Skipping...\n",
      "Processing Record 15 of Set 4  | Coahuayana Viejo\n",
      "Processing Record 16 of Set 4  | Portland\n",
      "Processing Record 17 of Set 4  | Trairi\n",
      "Processing Record 18 of Set 4  | Dawei\n",
      "Processing Record 19 of Set 4  | Alyangula\n",
      "Processing Record 20 of Set 4  | Atuona\n",
      "Processing Record 21 of Set 4  | Hobyo\n",
      "Processing Record 22 of Set 4  | Houma\n",
      "Processing Record 23 of Set 4  | Faanui\n",
      "Processing Record 24 of Set 4  | Hong Kong\n",
      "Processing Record 25 of Set 4  | Byron Bay\n",
      "Processing Record 26 of Set 4  | Tiksi\n",
      "Processing Record 27 of Set 4  | Norman Wells\n",
      "City not found. Skipping...\n",
      "Processing Record 28 of Set 4  | Tuktoyaktuk\n",
      "Processing Record 29 of Set 4  | Ulaangom\n",
      "Processing Record 30 of Set 4  | Voinka\n",
      "Processing Record 31 of Set 4  | Iberia\n",
      "Processing Record 32 of Set 4  | Morozovsk\n",
      "Processing Record 33 of Set 4  | Vanavara\n",
      "Processing Record 34 of Set 4  | Avarua\n",
      "Processing Record 35 of Set 4  | Yulara\n",
      "Processing Record 36 of Set 4  | Grindavik\n",
      "Processing Record 37 of Set 4  | Butaritari\n",
      "Processing Record 38 of Set 4  | Pontianak\n",
      "Processing Record 39 of Set 4  | Asău\n",
      "Processing Record 40 of Set 4  | Itoman\n",
      "Processing Record 41 of Set 4  | Bundaberg\n",
      "Processing Record 42 of Set 4  | Katsuura\n",
      "Processing Record 43 of Set 4  | Makakilo City\n",
      "Processing Record 44 of Set 4  | Mendi\n",
      "Processing Record 45 of Set 4  | Tautira\n",
      "Processing Record 46 of Set 4  | Ngunguru\n",
      "City not found. Skipping...\n",
      "Processing Record 47 of Set 4  | Kostino\n",
      "Processing Record 48 of Set 4  | Jishou\n",
      "Processing Record 49 of Set 4  | Antalaha\n",
      "Processing Record 50 of Set 4  | Rawson\n",
      "Processing Record 1 of Set 5  | Lompoc\n",
      "Processing Record 2 of Set 5  | Klyuchi\n",
      "Processing Record 3 of Set 5  | Kiryat Gat\n",
      "Processing Record 4 of Set 5  | Tamandaré\n",
      "Processing Record 5 of Set 5  | Tilichiki\n",
      "Processing Record 6 of Set 5  | Sibu\n",
      "Processing Record 7 of Set 5  | Lüderitz\n",
      "Processing Record 8 of Set 5  | Dombarovskiy\n",
      "Processing Record 9 of Set 5  | Maragogi\n",
      "Processing Record 10 of Set 5  | Santa Rosa\n",
      "Processing Record 11 of Set 5  | Hamilton\n",
      "Processing Record 12 of Set 5  | Usvyaty\n",
      "Processing Record 13 of Set 5  | Los Llanos de Aridane\n",
      "Processing Record 14 of Set 5  | Seinäjoki\n",
      "Processing Record 15 of Set 5  | Grand Gaube\n",
      "City not found. Skipping...\n",
      "Processing Record 16 of Set 5  | Callaway\n",
      "Processing Record 17 of Set 5  | Belaya Gora\n",
      "Processing Record 18 of Set 5  | Jinchang\n",
      "Processing Record 19 of Set 5  | Matamoros\n",
      "Processing Record 20 of Set 5  | Almaznyy\n",
      "Processing Record 21 of Set 5  | Kumluca\n",
      "Processing Record 22 of Set 5  | Mossamedes\n",
      "Processing Record 23 of Set 5  | Española\n",
      "City not found. Skipping...\n",
      "Processing Record 24 of Set 5  | Tokmak\n",
      "Processing Record 25 of Set 5  | Williams Lake\n",
      "Processing Record 26 of Set 5  | Cidreira\n",
      "Processing Record 27 of Set 5  | Arraial do Cabo\n",
      "Processing Record 28 of Set 5  | Terbuny\n",
      "Processing Record 29 of Set 5  | Richards Bay\n",
      "Processing Record 30 of Set 5  | Okhotsk\n",
      "Processing Record 31 of Set 5  | Sioux Lookout\n",
      "Processing Record 32 of Set 5  | Abhā\n",
      "Processing Record 33 of Set 5  | Geraldton\n",
      "Processing Record 34 of Set 5  | Gatton\n",
      "Processing Record 35 of Set 5  | Tsaratanana\n",
      "Processing Record 36 of Set 5  | São Marcos\n",
      "Processing Record 37 of Set 5  | Madera\n",
      "Processing Record 38 of Set 5  | Kaeo\n",
      "Processing Record 39 of Set 5  | Catia La Mar\n",
      "Processing Record 40 of Set 5  | Abalak\n",
      "Processing Record 41 of Set 5  | Edd\n",
      "Processing Record 42 of Set 5  | Doha\n",
      "Processing Record 43 of Set 5  | Savannah Bight\n",
      "Processing Record 44 of Set 5  | Ostrovnoy\n",
      "Processing Record 45 of Set 5  | Castro\n",
      "Processing Record 46 of Set 5  | Ossora\n",
      "City not found. Skipping...\n",
      "Processing Record 47 of Set 5  | Singtam\n",
      "City not found. Skipping...\n",
      "Processing Record 48 of Set 5  | Longyearbyen\n",
      "Processing Record 49 of Set 5  | Ciudad Bolivar\n",
      "Processing Record 50 of Set 5  | Lejanías\n",
      "Processing Record 1 of Set 6  | Pavlodar\n",
      "Processing Record 2 of Set 6  | Marabu\n",
      "Processing Record 3 of Set 6  | Huilong\n",
      "Processing Record 4 of Set 6  | Hobart\n",
      "Processing Record 5 of Set 6  | Bratsk\n",
      "Processing Record 6 of Set 6  | Ponta do Sol\n",
      "Processing Record 7 of Set 6  | Lagoa\n",
      "Processing Record 8 of Set 6  | Paita\n",
      "Processing Record 9 of Set 6  | Itaguaí\n",
      "Processing Record 10 of Set 6  | Severnyy\n",
      "Processing Record 11 of Set 6  | Ulladulla\n",
      "Processing Record 12 of Set 6  | Sept-Îles\n",
      "Processing Record 13 of Set 6  | Muros\n",
      "Processing Record 14 of Set 6  | Hutang\n",
      "Processing Record 15 of Set 6  | Dingle\n",
      "Processing Record 16 of Set 6  | Severo-Kuril'sk\n",
      "Processing Record 17 of Set 6  | Bengkulu\n",
      "Processing Record 18 of Set 6  | Anse-Bertrand\n",
      "Processing Record 19 of Set 6  | Loudi\n",
      "Processing Record 20 of Set 6  | Acapulco de Juárez\n",
      "Processing Record 21 of Set 6  | Wonthaggi\n",
      "Processing Record 22 of Set 6  | Biak\n",
      "Processing Record 23 of Set 6  | Port-Gentil\n",
      "Processing Record 24 of Set 6  | Camacha\n",
      "Processing Record 25 of Set 6  | Vao\n",
      "Processing Record 26 of Set 6  | Charters Towers\n",
      "City not found. Skipping...\n",
      "Processing Record 27 of Set 6  | Isangel\n",
      "Processing Record 28 of Set 6  | Fort-Shevchenko\n",
      "City not found. Skipping...\n",
      "Processing Record 29 of Set 6  | Rudnya\n",
      "Processing Record 30 of Set 6  | Tanabe\n",
      "Processing Record 31 of Set 6  | Bulungu\n",
      "Processing Record 32 of Set 6  | Oussouye\n",
      "Processing Record 33 of Set 6  | Norsup\n",
      "Processing Record 34 of Set 6  | Beisfjord\n",
      "Processing Record 35 of Set 6  | Husavik\n",
      "Processing Record 36 of Set 6  | Verkhoyansk\n",
      "Processing Record 37 of Set 6  | Karratha\n",
      "Processing Record 38 of Set 6  | Chirnside\n",
      "Processing Record 39 of Set 6  | Shenjiamen\n",
      "Processing Record 40 of Set 6  | Honiara\n",
      "Processing Record 41 of Set 6  | Dubbo\n",
      "Processing Record 42 of Set 6  | Tunkas\n",
      "Processing Record 43 of Set 6  | Hulan Ergi\n",
      "Processing Record 44 of Set 6  | Disna\n",
      "City not found. Skipping...\n",
      "Processing Record 45 of Set 6  | Kaitangata\n",
      "Processing Record 46 of Set 6  | Port Elizabeth\n",
      "Processing Record 47 of Set 6  | Lake Wales\n",
      "Processing Record 48 of Set 6  | Bāfq\n",
      "Processing Record 49 of Set 6  | Yerbogachën\n",
      "Processing Record 50 of Set 6  | Puerto El Triunfo\n",
      "Processing Record 1 of Set 7  | Aktash\n",
      "Processing Record 2 of Set 7  | Constitución\n",
      "Processing Record 3 of Set 7  | Tromsø\n",
      "Processing Record 4 of Set 7  | Turukhansk\n",
      "Processing Record 5 of Set 7  | Codrington\n",
      "Processing Record 6 of Set 7  | Bonthe\n",
      "Processing Record 7 of Set 7  | Houston\n",
      "Processing Record 8 of Set 7  | Tsimmerbude\n",
      "Processing Record 9 of Set 7  | Naze\n",
      "Processing Record 10 of Set 7  | Hay River\n",
      "City not found. Skipping...\n",
      "Processing Record 11 of Set 7  | Mayumba\n",
      "Processing Record 12 of Set 7  | Lander\n",
      "Processing Record 13 of Set 7  | Bathsheba\n",
      "Processing Record 14 of Set 7  | Erzin\n",
      "Processing Record 15 of Set 7  | Colac\n",
      "City not found. Skipping...\n",
      "Processing Record 16 of Set 7  | Bac Lieu\n",
      "Processing Record 17 of Set 7  | Yellowknife\n",
      "Processing Record 18 of Set 7  | Ginir\n",
      "Processing Record 19 of Set 7  | Hambantota\n",
      "Processing Record 20 of Set 7  | Umluj\n",
      "Processing Record 21 of Set 7  | Quatre Cocos\n",
      "Processing Record 22 of Set 7  | Sola\n",
      "Processing Record 23 of Set 7  | Saint George\n",
      "Processing Record 24 of Set 7  | Teya\n",
      "Processing Record 25 of Set 7  | Carbonia\n",
      "Processing Record 26 of Set 7  | Leningradskiy\n",
      "Processing Record 27 of Set 7  | Petropavlovsk-Kamchatskiy\n",
      "Processing Record 28 of Set 7  | Malpe\n",
      "Processing Record 29 of Set 7  | Piedade\n",
      "Processing Record 30 of Set 7  | Neryungri\n",
      "Processing Record 31 of Set 7  | Camaná\n",
      "Processing Record 32 of Set 7  | Hastings\n",
      "City not found. Skipping...\n",
      "Processing Record 33 of Set 7  | Smirnykh\n",
      "Processing Record 34 of Set 7  | Monroe\n",
      "Processing Record 35 of Set 7  | Vila Velha\n",
      "Processing Record 36 of Set 7  | Sayyan\n",
      "City not found. Skipping...\n",
      "City not found. Skipping...\n",
      "Processing Record 37 of Set 7  | Malanje\n",
      "Processing Record 38 of Set 7  | Trelew\n",
      "Processing Record 39 of Set 7  | Helong\n",
      "Processing Record 40 of Set 7  | San Antonio\n",
      "Processing Record 41 of Set 7  | Najrān\n",
      "Processing Record 42 of Set 7  | Waipawa\n",
      "Processing Record 43 of Set 7  | Tripoli\n",
      "Processing Record 44 of Set 7  | Soběslav\n",
      "Processing Record 45 of Set 7  | Kamina\n",
      "Processing Record 46 of Set 7  | Wattegama\n",
      "Processing Record 47 of Set 7  | Bahía Honda\n",
      "Processing Record 48 of Set 7  | Caluquembe\n",
      "Processing Record 49 of Set 7  | Maxixe\n",
      "Processing Record 50 of Set 7  | Dāmghān\n",
      "Processing Record 1 of Set 8  | Turbat\n",
      "Processing Record 2 of Set 8  | Henties Bay\n",
      "Processing Record 3 of Set 8  | Berlevåg\n",
      "Processing Record 4 of Set 8  | Cairns\n",
      "Processing Record 5 of Set 8  | Hindaun\n",
      "Processing Record 6 of Set 8  | Touros\n",
      "Processing Record 7 of Set 8  | Talaya\n",
      "Processing Record 8 of Set 8  | Duluth\n",
      "Processing Record 9 of Set 8  | Cockburn Town\n",
      "City not found. Skipping...\n",
      "Processing Record 10 of Set 8  | Pisco\n",
      "Processing Record 11 of Set 8  | Lata\n",
      "Processing Record 12 of Set 8  | Dul'durga\n",
      "Processing Record 13 of Set 8  | Andahuaylas\n",
      "Processing Record 14 of Set 8  | Savannakhet\n",
      "Processing Record 15 of Set 8  | Olinda\n",
      "Processing Record 16 of Set 8  | Sitka\n",
      "Processing Record 17 of Set 8  | Bandarbeyla\n",
      "Processing Record 18 of Set 8  | Beringovskiy\n",
      "Processing Record 19 of Set 8  | Mopti\n",
      "Processing Record 20 of Set 8  | Grafton\n",
      "Processing Record 21 of Set 8  | Salmās\n",
      "Processing Record 22 of Set 8  | Stann Creek Town\n",
      "City not found. Skipping...\n",
      "City not found. Skipping...\n",
      "Processing Record 23 of Set 8  | Itaituba\n",
      "Processing Record 24 of Set 8  | Niono\n",
      "Processing Record 25 of Set 8  | Ronneby\n",
      "Processing Record 26 of Set 8  | Porto-Novo\n",
      "Processing Record 27 of Set 8  | Aasiaat\n",
      "Processing Record 28 of Set 8  | New Glasgow\n",
      "Processing Record 29 of Set 8  | Elizabeth City\n",
      "Processing Record 30 of Set 8  | Aswān\n",
      "Processing Record 31 of Set 8  | Jieshi\n",
      "Processing Record 32 of Set 8  | Bulgan\n",
      "Processing Record 33 of Set 8  | Salalah\n",
      "Processing Record 34 of Set 8  | Atasū\n",
      "Processing Record 35 of Set 8  | Cap Malheureux\n",
      "Processing Record 36 of Set 8  | Marawi\n",
      "Processing Record 37 of Set 8  | Mormugao\n",
      "Processing Record 38 of Set 8  | Lavrentiya\n",
      "Processing Record 39 of Set 8  | Hervey Bay\n",
      "Processing Record 40 of Set 8  | Mahoba\n",
      "Processing Record 41 of Set 8  | Cherëmukhovo\n",
      "Processing Record 42 of Set 8  | Aquiraz\n",
      "Processing Record 43 of Set 8  | Espinosa\n",
      "Processing Record 44 of Set 8  | Lorengau\n",
      "Processing Record 45 of Set 8  | Patacamaya\n",
      "Processing Record 46 of Set 8  | Shelopugino\n",
      "Processing Record 47 of Set 8  | Kemijärvi\n",
      "Processing Record 48 of Set 8  | Storozhevaya\n",
      "Processing Record 49 of Set 8  | Bairiki Village\n",
      "Processing Record 50 of Set 8  | Karpogory\n",
      "Processing Record 1 of Set 9  | Fort Nelson\n",
      "Processing Record 2 of Set 9  | Leirvik\n",
      "Processing Record 3 of Set 9  | Port Hardy\n",
      "Processing Record 4 of Set 9  | Batagay-Alyta\n",
      "Processing Record 5 of Set 9  | Ambilobe\n",
      "Processing Record 6 of Set 9  | Itaueira\n",
      "Processing Record 7 of Set 9  | Suez\n",
      "Processing Record 8 of Set 9  | São Filipe\n",
      "Processing Record 9 of Set 9  | Bambanglipuro\n",
      "Processing Record 10 of Set 9  | Tres Arroyos\n",
      "Processing Record 11 of Set 9  | Toba Tek Singh\n",
      "Processing Record 12 of Set 9  | Zheleznodorozhnyy\n",
      "Processing Record 13 of Set 9  | Gisborne\n",
      "Processing Record 14 of Set 9  | Sulangan\n",
      "Processing Record 15 of Set 9  | Nacala\n",
      "Processing Record 16 of Set 9  | Tuatapere\n",
      "Processing Record 17 of Set 9  | Poum\n",
      "City not found. Skipping...\n",
      "Processing Record 18 of Set 9  | Vondrozo\n",
      "Processing Record 19 of Set 9  | Ontario\n",
      "Processing Record 20 of Set 9  | Westport\n",
      "Processing Record 21 of Set 9  | Oranjemund\n",
      "Processing Record 22 of Set 9  | Salaberry-de-Valleyfield\n",
      "Processing Record 23 of Set 9  | Labuhan\n",
      "Processing Record 24 of Set 9  | Antofagasta\n",
      "City not found. Skipping...\n",
      "Processing Record 25 of Set 9  | Zhigansk\n",
      "Processing Record 26 of Set 9  | Seoul\n",
      "Processing Record 27 of Set 9  | Camagüey\n",
      "Processing Record 28 of Set 9  | Marovoay\n",
      "Processing Record 29 of Set 9  | Aykhal\n",
      "Processing Record 30 of Set 9  | Barraute\n",
      "Processing Record 31 of Set 9  | Moïssala\n",
      "Processing Record 32 of Set 9  | Tabas\n",
      "Processing Record 33 of Set 9  | Kendari\n",
      "Processing Record 34 of Set 9  | Kutum\n",
      "Processing Record 35 of Set 9  | Pangai\n",
      "Processing Record 36 of Set 9  | Simao\n",
      "City not found. Skipping...\n",
      "Processing Record 37 of Set 9  | Kruisfontein\n",
      "Processing Record 38 of Set 9  | Kattivākkam\n",
      "Processing Record 39 of Set 9  | Nome\n",
      "Processing Record 40 of Set 9  | Jardim\n",
      "Processing Record 41 of Set 9  | Slonim\n",
      "Processing Record 42 of Set 9  | Lubao\n",
      "Processing Record 43 of Set 9  | Vallenar\n",
      "Processing Record 44 of Set 9  | Pareora\n",
      "Processing Record 45 of Set 9  | Tura\n",
      "Processing Record 46 of Set 9  | Novikovo\n",
      "Processing Record 47 of Set 9  | Kannapolis\n",
      "City not found. Skipping...\n",
      "Processing Record 48 of Set 9  | Avera\n",
      "Processing Record 49 of Set 9  | Ilulissat\n",
      "Processing Record 50 of Set 9  | Gunjur\n",
      "Processing Record 1 of Set 10  | Eresós\n",
      "Processing Record 2 of Set 10  | Koumac\n",
      "Processing Record 3 of Set 10  | Aksu\n",
      "Processing Record 4 of Set 10  | Meleuz\n",
      "Processing Record 5 of Set 10  | Nueva Loja\n",
      "Processing Record 6 of Set 10  | Tadine\n",
      "Processing Record 7 of Set 10  | Okha\n",
      "Processing Record 8 of Set 10  | Itarema\n",
      "Processing Record 9 of Set 10  | Ystad\n",
      "Processing Record 10 of Set 10  | Esperance\n",
      "Processing Record 11 of Set 10  | Renfrew\n",
      "Processing Record 12 of Set 10  | Alofi\n",
      "Processing Record 13 of Set 10  | Armidale\n",
      "Processing Record 14 of Set 10  | Jambi City\n",
      "Processing Record 15 of Set 10  | Natitingou\n",
      "Processing Record 16 of Set 10  | Libenge\n",
      "Processing Record 17 of Set 10  | Tombouctou\n",
      "Processing Record 18 of Set 10  | Bariloche\n",
      "Processing Record 19 of Set 10  | Cap-aux-Meules\n",
      "Processing Record 20 of Set 10  | La Sarre\n",
      "City not found. Skipping...\n",
      "Processing Record 21 of Set 10  | Pilar\n",
      "Processing Record 22 of Set 10  | Eloy\n",
      "Processing Record 23 of Set 10  | Kabin Buri\n",
      "Processing Record 24 of Set 10  | Saint-Ambroise\n",
      "Processing Record 25 of Set 10  | Abu Samrah\n",
      "Processing Record 26 of Set 10  | Praia da Vitória\n",
      "Processing Record 27 of Set 10  | Paamiut\n",
      "Processing Record 28 of Set 10  | Ancud\n",
      "Processing Record 29 of Set 10  | Kunming\n",
      "Processing Record 30 of Set 10  | Solnechnyy\n",
      "Processing Record 31 of Set 10  | Prainha\n",
      "City not found. Skipping...\n",
      "Processing Record 32 of Set 10  | Dongfeng\n",
      "Processing Record 33 of Set 10  | Ovejas\n",
      "Processing Record 34 of Set 10  | Yangi Marg`ilon\n",
      "Processing Record 35 of Set 10  | Coyhaique\n",
      "Processing Record 36 of Set 10  | Lumeje\n",
      "Processing Record 37 of Set 10  | Valle de Allende\n",
      "Processing Record 38 of Set 10  | Río Gallegos\n",
      "Processing Record 39 of Set 10  | Illapel\n",
      "City not found. Skipping...\n",
      "Processing Record 40 of Set 10  | Ţahţā\n",
      "Processing Record 41 of Set 10  | Ojinaga\n",
      "Processing Record 42 of Set 10  | Dicabisagan\n",
      "Processing Record 43 of Set 10  | Masakin\n",
      "Processing Record 44 of Set 10  | Coos Bay\n",
      "Processing Record 45 of Set 10  | Bulawayo\n",
      "Processing Record 46 of Set 10  | Bria\n",
      "Processing Record 47 of Set 10  | San Luis\n",
      "Processing Record 48 of Set 10  | Fukuechō\n",
      "City not found. Skipping...\n",
      "Processing Record 49 of Set 10  | São Gabriel da Cachoeira\n",
      "Processing Record 50 of Set 10  | Tsarychanka\n",
      "Processing Record 1 of Set 11  | Kahului\n",
      "Processing Record 2 of Set 11  | Sweetwater\n",
      "Processing Record 3 of Set 11  | Vardø\n",
      "Processing Record 4 of Set 11  | Jasper\n",
      "Processing Record 5 of Set 11  | Altay\n",
      "Processing Record 6 of Set 11  | Vilhena\n",
      "Processing Record 7 of Set 11  | Sobolevo\n",
      "Processing Record 8 of Set 11  | Chimbote\n",
      "Processing Record 9 of Set 11  | Ayagoz\n",
      "Processing Record 10 of Set 11  | Mâncio Lima\n",
      "Processing Record 11 of Set 11  | Corralillo\n",
      "Processing Record 12 of Set 11  | El Batey\n",
      "Processing Record 13 of Set 11  | Bereket\n",
      "Processing Record 14 of Set 11  | Atoyac\n",
      "Processing Record 15 of Set 11  | Kumylzhenskaya\n",
      "Processing Record 16 of Set 11  | Sal Rei\n",
      "City not found. Skipping...\n",
      "Processing Record 17 of Set 11  | Puerto Cabezas\n",
      "Processing Record 18 of Set 11  | Mandiana\n",
      "Processing Record 19 of Set 11  | Gravdal\n",
      "Processing Record 20 of Set 11  | Flin Flon\n",
      "Processing Record 21 of Set 11  | Bilibino\n",
      "City not found. Skipping...\n",
      "Processing Record 22 of Set 11  | Karlovasi\n",
      "Processing Record 23 of Set 11  | Kashgar\n",
      "Processing Record 24 of Set 11  | Laas\n",
      "Processing Record 25 of Set 11  | Guerrero Negro\n",
      "Processing Record 26 of Set 11  | Guatire\n",
      "Processing Record 27 of Set 11  | Juradó\n",
      "Processing Record 28 of Set 11  | Ushtobe\n",
      "Processing Record 29 of Set 11  | Valparaíso\n",
      "Processing Record 30 of Set 11  | Nokaneng\n",
      "City not found. Skipping...\n",
      "Processing Record 31 of Set 11  | Botwood\n",
      "Processing Record 32 of Set 11  | Manokwari\n",
      "Processing Record 33 of Set 11  | Atambua\n",
      "Processing Record 34 of Set 11  | Smithers\n",
      "Processing Record 35 of Set 11  | Angoche\n",
      "City not found. Skipping...\n",
      "Processing Record 36 of Set 11  | Inhambane\n",
      "City not found. Skipping...\n",
      "Processing Record 37 of Set 11  | Shimoda\n",
      "Processing Record 38 of Set 11  | Kalmunai\n",
      "Processing Record 39 of Set 11  | Shumskiy\n",
      "Processing Record 40 of Set 11  | Rutana Province\n",
      "Processing Record 41 of Set 11  | Margate\n",
      "Processing Record 42 of Set 11  | Palmer\n",
      "Processing Record 43 of Set 11  | Amuntai\n",
      "City not found. Skipping...\n",
      "Processing Record 44 of Set 11  | Tual\n"
     ]
    }
   ],
   "source": [
    "url = \"http://api.openweathermap.org/data/2.5/weather?units=Imperial&APPID=\" + weather_api_key \n",
    "\n",
    "city_name = []\n",
    "lat = []\n",
    "lng = []\n",
    "max_temp = []\n",
    "humidity = []\n",
    "cloudiness = []\n",
    "wind_speed = []\n",
    "country = []\n",
    "date = []\n",
    "\n",
    "\n",
    "record = 1\n",
    "city_record= 1\n",
    "\n",
    "# Header print statement\n",
    "print(f\"Beginning Data Retrieval\")\n",
    "print(f\"-\"*30)\n",
    "\n",
    "#Loop through the cities in the city list by making requests and storing response\n",
    "for city in cities:\n",
    "    try:\n",
    "        response = requests.get(f\"{url}&q={city}\").json() \n",
    "        #print(response)\n",
    "        city_name.append(response[\"name\"])\n",
    "        cloudiness.append(response[\"clouds\"][\"all\"])\n",
    "        country.append(response[\"sys\"][\"country\"])\n",
    "        date.append(response[\"dt\"])\n",
    "        humidity.append(response[\"main\"][\"humidity\"])\n",
    "        max_temp.append(response[\"main\"][\"temp_max\"])\n",
    "        lat.append(response[\"coord\"][\"lat\"])\n",
    "        lng.append(response[\"coord\"][\"lon\"])\n",
    "        wind_speed.append(response[\"wind\"][\"speed\"])\n",
    "        #city_record = response[\"name\"]\n",
    "        \n",
    "        \n",
    "        print(f\"Processing Record {record} of Set {city_record}  | {response ['name']}\")\n",
    "\n",
    "        \n",
    "        if record == 50 : \n",
    "            city_record= city_record + 1\n",
    "            record = 0\n",
    "        \n",
    "\n",
    "        record= record + 1\n",
    "\n",
    "    except:\n",
    "        print(\"City not found. Skipping...\")"
   ]
  },
  {
   "cell_type": "markdown",
   "metadata": {},
   "source": [
    "### Convert Raw Data to DataFrame\n",
    "* Export the city data into a .csv.\n",
    "* Display the DataFrame"
   ]
  },
  {
   "cell_type": "code",
   "execution_count": 4,
   "metadata": {},
   "outputs": [
    {
     "data": {
      "text/html": [
       "<div>\n",
       "<style scoped>\n",
       "    .dataframe tbody tr th:only-of-type {\n",
       "        vertical-align: middle;\n",
       "    }\n",
       "\n",
       "    .dataframe tbody tr th {\n",
       "        vertical-align: top;\n",
       "    }\n",
       "\n",
       "    .dataframe thead th {\n",
       "        text-align: right;\n",
       "    }\n",
       "</style>\n",
       "<table border=\"1\" class=\"dataframe\">\n",
       "  <thead>\n",
       "    <tr style=\"text-align: right;\">\n",
       "      <th></th>\n",
       "      <th>City</th>\n",
       "      <th>Lat</th>\n",
       "      <th>Lng</th>\n",
       "      <th>Max Temp</th>\n",
       "      <th>Humidity</th>\n",
       "      <th>Cloudiness</th>\n",
       "      <th>Wind Speed</th>\n",
       "      <th>Country</th>\n",
       "      <th>Date</th>\n",
       "    </tr>\n",
       "  </thead>\n",
       "  <tbody>\n",
       "    <tr>\n",
       "      <th>0</th>\n",
       "      <td>Kanniyākumāri</td>\n",
       "      <td>8.08</td>\n",
       "      <td>77.57</td>\n",
       "      <td>80.17</td>\n",
       "      <td>76</td>\n",
       "      <td>98</td>\n",
       "      <td>16.35</td>\n",
       "      <td>IN</td>\n",
       "      <td>1605837943</td>\n",
       "    </tr>\n",
       "    <tr>\n",
       "      <th>1</th>\n",
       "      <td>Coquimbo</td>\n",
       "      <td>-29.95</td>\n",
       "      <td>-71.34</td>\n",
       "      <td>54.68</td>\n",
       "      <td>83</td>\n",
       "      <td>33</td>\n",
       "      <td>2.06</td>\n",
       "      <td>CL</td>\n",
       "      <td>1605837911</td>\n",
       "    </tr>\n",
       "    <tr>\n",
       "      <th>2</th>\n",
       "      <td>Ushuaia</td>\n",
       "      <td>-54.80</td>\n",
       "      <td>-68.30</td>\n",
       "      <td>50.00</td>\n",
       "      <td>66</td>\n",
       "      <td>40</td>\n",
       "      <td>12.75</td>\n",
       "      <td>AR</td>\n",
       "      <td>1605837943</td>\n",
       "    </tr>\n",
       "    <tr>\n",
       "      <th>3</th>\n",
       "      <td>Barrow</td>\n",
       "      <td>71.29</td>\n",
       "      <td>-156.79</td>\n",
       "      <td>21.20</td>\n",
       "      <td>85</td>\n",
       "      <td>90</td>\n",
       "      <td>13.87</td>\n",
       "      <td>US</td>\n",
       "      <td>1605837943</td>\n",
       "    </tr>\n",
       "    <tr>\n",
       "      <th>4</th>\n",
       "      <td>Saint-Paul</td>\n",
       "      <td>-21.01</td>\n",
       "      <td>55.27</td>\n",
       "      <td>69.80</td>\n",
       "      <td>60</td>\n",
       "      <td>40</td>\n",
       "      <td>5.82</td>\n",
       "      <td>RE</td>\n",
       "      <td>1605837944</td>\n",
       "    </tr>\n",
       "    <tr>\n",
       "      <th>...</th>\n",
       "      <td>...</td>\n",
       "      <td>...</td>\n",
       "      <td>...</td>\n",
       "      <td>...</td>\n",
       "      <td>...</td>\n",
       "      <td>...</td>\n",
       "      <td>...</td>\n",
       "      <td>...</td>\n",
       "      <td>...</td>\n",
       "    </tr>\n",
       "    <tr>\n",
       "      <th>539</th>\n",
       "      <td>Rutana Province</td>\n",
       "      <td>-3.87</td>\n",
       "      <td>30.10</td>\n",
       "      <td>56.86</td>\n",
       "      <td>99</td>\n",
       "      <td>7</td>\n",
       "      <td>2.80</td>\n",
       "      <td>BI</td>\n",
       "      <td>1605838117</td>\n",
       "    </tr>\n",
       "    <tr>\n",
       "      <th>540</th>\n",
       "      <td>Margate</td>\n",
       "      <td>51.38</td>\n",
       "      <td>1.39</td>\n",
       "      <td>42.01</td>\n",
       "      <td>60</td>\n",
       "      <td>0</td>\n",
       "      <td>1.01</td>\n",
       "      <td>GB</td>\n",
       "      <td>1605838118</td>\n",
       "    </tr>\n",
       "    <tr>\n",
       "      <th>541</th>\n",
       "      <td>Palmer</td>\n",
       "      <td>42.16</td>\n",
       "      <td>-72.33</td>\n",
       "      <td>42.01</td>\n",
       "      <td>56</td>\n",
       "      <td>75</td>\n",
       "      <td>8.05</td>\n",
       "      <td>US</td>\n",
       "      <td>1605838118</td>\n",
       "    </tr>\n",
       "    <tr>\n",
       "      <th>542</th>\n",
       "      <td>Amuntai</td>\n",
       "      <td>-2.42</td>\n",
       "      <td>115.25</td>\n",
       "      <td>92.97</td>\n",
       "      <td>51</td>\n",
       "      <td>10</td>\n",
       "      <td>0.65</td>\n",
       "      <td>ID</td>\n",
       "      <td>1605838118</td>\n",
       "    </tr>\n",
       "    <tr>\n",
       "      <th>543</th>\n",
       "      <td>Tual</td>\n",
       "      <td>-5.67</td>\n",
       "      <td>132.75</td>\n",
       "      <td>84.45</td>\n",
       "      <td>72</td>\n",
       "      <td>85</td>\n",
       "      <td>7.92</td>\n",
       "      <td>ID</td>\n",
       "      <td>1605838119</td>\n",
       "    </tr>\n",
       "  </tbody>\n",
       "</table>\n",
       "<p>544 rows × 9 columns</p>\n",
       "</div>"
      ],
      "text/plain": [
       "                City    Lat     Lng  Max Temp  Humidity  Cloudiness  \\\n",
       "0      Kanniyākumāri   8.08   77.57     80.17        76          98   \n",
       "1           Coquimbo -29.95  -71.34     54.68        83          33   \n",
       "2            Ushuaia -54.80  -68.30     50.00        66          40   \n",
       "3             Barrow  71.29 -156.79     21.20        85          90   \n",
       "4         Saint-Paul -21.01   55.27     69.80        60          40   \n",
       "..               ...    ...     ...       ...       ...         ...   \n",
       "539  Rutana Province  -3.87   30.10     56.86        99           7   \n",
       "540          Margate  51.38    1.39     42.01        60           0   \n",
       "541           Palmer  42.16  -72.33     42.01        56          75   \n",
       "542          Amuntai  -2.42  115.25     92.97        51          10   \n",
       "543             Tual  -5.67  132.75     84.45        72          85   \n",
       "\n",
       "     Wind Speed Country        Date  \n",
       "0         16.35      IN  1605837943  \n",
       "1          2.06      CL  1605837911  \n",
       "2         12.75      AR  1605837943  \n",
       "3         13.87      US  1605837943  \n",
       "4          5.82      RE  1605837944  \n",
       "..          ...     ...         ...  \n",
       "539        2.80      BI  1605838117  \n",
       "540        1.01      GB  1605838118  \n",
       "541        8.05      US  1605838118  \n",
       "542        0.65      ID  1605838118  \n",
       "543        7.92      ID  1605838119  \n",
       "\n",
       "[544 rows x 9 columns]"
      ]
     },
     "execution_count": 4,
     "metadata": {},
     "output_type": "execute_result"
    }
   ],
   "source": [
    "weather_data= {\n",
    "    \"City\": city_name,\n",
    "    \"Lat\": lat,\n",
    "    \"Lng\": lng,\n",
    "    \"Max Temp\": max_temp,\n",
    "    \"Humidity\": humidity,\n",
    "    \"Cloudiness\": cloudiness,\n",
    "    \"Wind Speed\": wind_speed,\n",
    "    \"Country\":country,\n",
    "    \"Date\": date,\n",
    "}\n",
    "\n",
    "weather_df= pd.DataFrame(weather_data)\n",
    "weather_df\n",
    "#save as csv"
   ]
  },
  {
   "cell_type": "code",
   "execution_count": 5,
   "metadata": {},
   "outputs": [
    {
     "data": {
      "text/html": [
       "<div>\n",
       "<style scoped>\n",
       "    .dataframe tbody tr th:only-of-type {\n",
       "        vertical-align: middle;\n",
       "    }\n",
       "\n",
       "    .dataframe tbody tr th {\n",
       "        vertical-align: top;\n",
       "    }\n",
       "\n",
       "    .dataframe thead th {\n",
       "        text-align: right;\n",
       "    }\n",
       "</style>\n",
       "<table border=\"1\" class=\"dataframe\">\n",
       "  <thead>\n",
       "    <tr style=\"text-align: right;\">\n",
       "      <th></th>\n",
       "      <th>Lat</th>\n",
       "      <th>Lng</th>\n",
       "      <th>Max Temp</th>\n",
       "      <th>Humidity</th>\n",
       "      <th>Cloudiness</th>\n",
       "      <th>Wind Speed</th>\n",
       "      <th>Date</th>\n",
       "    </tr>\n",
       "  </thead>\n",
       "  <tbody>\n",
       "    <tr>\n",
       "      <th>count</th>\n",
       "      <td>544.000000</td>\n",
       "      <td>544.000000</td>\n",
       "      <td>544.000000</td>\n",
       "      <td>544.000000</td>\n",
       "      <td>544.000000</td>\n",
       "      <td>544.000000</td>\n",
       "      <td>5.440000e+02</td>\n",
       "    </tr>\n",
       "    <tr>\n",
       "      <th>mean</th>\n",
       "      <td>18.230938</td>\n",
       "      <td>19.851801</td>\n",
       "      <td>55.849044</td>\n",
       "      <td>74.775735</td>\n",
       "      <td>50.992647</td>\n",
       "      <td>8.552408</td>\n",
       "      <td>1.605838e+09</td>\n",
       "    </tr>\n",
       "    <tr>\n",
       "      <th>std</th>\n",
       "      <td>33.330283</td>\n",
       "      <td>91.036734</td>\n",
       "      <td>25.082427</td>\n",
       "      <td>18.278420</td>\n",
       "      <td>40.191896</td>\n",
       "      <td>6.358179</td>\n",
       "      <td>8.534029e+01</td>\n",
       "    </tr>\n",
       "    <tr>\n",
       "      <th>min</th>\n",
       "      <td>-54.800000</td>\n",
       "      <td>-179.170000</td>\n",
       "      <td>-14.800000</td>\n",
       "      <td>15.000000</td>\n",
       "      <td>0.000000</td>\n",
       "      <td>0.220000</td>\n",
       "      <td>1.605838e+09</td>\n",
       "    </tr>\n",
       "    <tr>\n",
       "      <th>25%</th>\n",
       "      <td>-9.457500</td>\n",
       "      <td>-65.152500</td>\n",
       "      <td>37.360000</td>\n",
       "      <td>66.000000</td>\n",
       "      <td>3.000000</td>\n",
       "      <td>3.845000</td>\n",
       "      <td>1.605838e+09</td>\n",
       "    </tr>\n",
       "    <tr>\n",
       "      <th>50%</th>\n",
       "      <td>21.125000</td>\n",
       "      <td>26.650000</td>\n",
       "      <td>62.820000</td>\n",
       "      <td>79.000000</td>\n",
       "      <td>52.000000</td>\n",
       "      <td>6.930000</td>\n",
       "      <td>1.605838e+09</td>\n",
       "    </tr>\n",
       "    <tr>\n",
       "      <th>75%</th>\n",
       "      <td>47.212500</td>\n",
       "      <td>101.130000</td>\n",
       "      <td>75.952500</td>\n",
       "      <td>89.000000</td>\n",
       "      <td>92.000000</td>\n",
       "      <td>11.410000</td>\n",
       "      <td>1.605838e+09</td>\n",
       "    </tr>\n",
       "    <tr>\n",
       "      <th>max</th>\n",
       "      <td>78.220000</td>\n",
       "      <td>179.320000</td>\n",
       "      <td>95.000000</td>\n",
       "      <td>100.000000</td>\n",
       "      <td>100.000000</td>\n",
       "      <td>47.200000</td>\n",
       "      <td>1.605838e+09</td>\n",
       "    </tr>\n",
       "  </tbody>\n",
       "</table>\n",
       "</div>"
      ],
      "text/plain": [
       "              Lat         Lng    Max Temp    Humidity  Cloudiness  Wind Speed  \\\n",
       "count  544.000000  544.000000  544.000000  544.000000  544.000000  544.000000   \n",
       "mean    18.230938   19.851801   55.849044   74.775735   50.992647    8.552408   \n",
       "std     33.330283   91.036734   25.082427   18.278420   40.191896    6.358179   \n",
       "min    -54.800000 -179.170000  -14.800000   15.000000    0.000000    0.220000   \n",
       "25%     -9.457500  -65.152500   37.360000   66.000000    3.000000    3.845000   \n",
       "50%     21.125000   26.650000   62.820000   79.000000   52.000000    6.930000   \n",
       "75%     47.212500  101.130000   75.952500   89.000000   92.000000   11.410000   \n",
       "max     78.220000  179.320000   95.000000  100.000000  100.000000   47.200000   \n",
       "\n",
       "               Date  \n",
       "count  5.440000e+02  \n",
       "mean   1.605838e+09  \n",
       "std    8.534029e+01  \n",
       "min    1.605838e+09  \n",
       "25%    1.605838e+09  \n",
       "50%    1.605838e+09  \n",
       "75%    1.605838e+09  \n",
       "max    1.605838e+09  "
      ]
     },
     "execution_count": 5,
     "metadata": {},
     "output_type": "execute_result"
    }
   ],
   "source": [
    "weather_df.describe()"
   ]
  },
  {
   "cell_type": "markdown",
   "metadata": {},
   "source": [
    "## Inspect the data and remove the cities where the humidity > 100%.\n",
    "----\n",
    "Skip this step if there are no cities that have humidity > 100%. "
   ]
  },
  {
   "cell_type": "code",
   "execution_count": 6,
   "metadata": {},
   "outputs": [
    {
     "data": {
      "text/plain": [
       "Int64Index([], dtype='int64')"
      ]
     },
     "execution_count": 6,
     "metadata": {},
     "output_type": "execute_result"
    }
   ],
   "source": [
    "#  Get the indices of cities that have humidity over 100%.\n",
    "weather_df.loc[weather_df[\"Humidity\"]>100].index"
   ]
  },
  {
   "cell_type": "code",
   "execution_count": 7,
   "metadata": {},
   "outputs": [],
   "source": [
    "# Make a new DataFrame equal to the city data to drop all humidity outliers by index.\n",
    "# Passing \"inplace=False\" will make a copy of the city_data DataFrame, which we call \"clean_city_data\".\n",
    "weather_df=weather_df.loc[weather_df[\"Humidity\"]<=100]"
   ]
  },
  {
   "cell_type": "markdown",
   "metadata": {},
   "source": [
    "## Plotting the Data\n",
    "* Use proper labeling of the plots using plot titles (including date of analysis) and axes labels.\n",
    "* Save the plotted figures as .pngs."
   ]
  },
  {
   "cell_type": "markdown",
   "metadata": {},
   "source": [
    "## Latitude vs. Temperature Plot"
   ]
  },
  {
   "cell_type": "code",
   "execution_count": 8,
   "metadata": {},
   "outputs": [],
   "source": [
    "def lat_scatter_plot(y_axis, y_label):\n",
    "    x_axis= weather_df[\"Lat\"]\n",
    "    plt.scatter(x_axis, weather_df[y_axis])\n",
    "    \n",
    "    plt.title(f'City Latitude vs. {y_axis}')\n",
    "    plt.ylabel(y_label)\n",
    "    plt.xlabel('Latitude')\n",
    "    \n",
    "    plt.show()"
   ]
  },
  {
   "cell_type": "code",
   "execution_count": 9,
   "metadata": {},
   "outputs": [
    {
     "data": {
      "image/png": "[encoded data removed]",
      "text/plain": [
       "<Figure size 432x288 with 1 Axes>"
      ]
     },
     "metadata": {
      "needs_background": "light"
     },
     "output_type": "display_data"
    }
   ],
   "source": [
    "lat_scatter_plot(\"Max Temp\", \"Max Temperature (F)\")"
   ]
  },
  {
   "cell_type": "code",
   "execution_count": null,
   "metadata": {
    "scrolled": true
   },
   "outputs": [],
   "source": []
  },
  {
   "cell_type": "markdown",
   "metadata": {},
   "source": [
    "## Latitude vs. Humidity Plot"
   ]
  },
  {
   "cell_type": "code",
   "execution_count": 10,
   "metadata": {},
   "outputs": [],
   "source": [
    "def lat_scatter_plot(y_axis, y_label):\n",
    "    x_axis= weather_df[\"Lat\"]\n",
    "    plt.scatter(x_axis, weather_df[y_axis])\n",
    "    \n",
    "    plt.title(f'City Latitude vs. {y_axis}')\n",
    "    plt.ylabel(y_label)\n",
    "    plt.xlabel('Latitude')\n",
    "    \n",
    "    plt.show()"
   ]
  },
  {
   "cell_type": "code",
   "execution_count": 11,
   "metadata": {},
   "outputs": [
    {
     "data": {
      "image/png": "[encoded data removed]",
      "text/plain": [
       "<Figure size 432x288 with 1 Axes>"
      ]
     },
     "metadata": {
      "needs_background": "light"
     },
     "output_type": "display_data"
    }
   ],
   "source": [
    "lat_scatter_plot(\"Humidity\", \"Humidity (%)\")"
   ]
  },
  {
   "cell_type": "markdown",
   "metadata": {},
   "source": [
    "## Latitude vs. Cloudiness Plot"
   ]
  },
  {
   "cell_type": "code",
   "execution_count": 12,
   "metadata": {},
   "outputs": [],
   "source": [
    "def lat_scatter_plot(y_axis, y_label):\n",
    "    x_axis= weather_df[\"Lat\"]\n",
    "    plt.scatter(x_axis, weather_df[y_axis])\n",
    "    \n",
    "    plt.title(f'City Latitude vs. {y_axis}')\n",
    "    plt.ylabel(y_label)\n",
    "    plt.xlabel('Latitude')\n",
    "    \n",
    "    plt.show()"
   ]
  },
  {
   "cell_type": "code",
   "execution_count": 13,
   "metadata": {},
   "outputs": [
    {
     "data": {
      "image/png": "[encoded data removed]",
      "text/plain": [
       "<Figure size 432x288 with 1 Axes>"
      ]
     },
     "metadata": {
      "needs_background": "light"
     },
     "output_type": "display_data"
    }
   ],
   "source": [
    "lat_scatter_plot(\"Cloudiness\", \"Cloudiness (%)\")"
   ]
  },
  {
   "cell_type": "code",
   "execution_count": null,
   "metadata": {},
   "outputs": [],
   "source": []
  },
  {
   "cell_type": "markdown",
   "metadata": {},
   "source": [
    "## Latitude vs. Wind Speed Plot"
   ]
  },
  {
   "cell_type": "code",
   "execution_count": 14,
   "metadata": {},
   "outputs": [],
   "source": [
    "def lat_scatter_plot(y_axis, y_label):\n",
    "    x_axis= weather_df[\"Lat\"]\n",
    "    plt.scatter(x_axis, weather_df[y_axis])\n",
    "    \n",
    "    plt.title(f'City Latitude vs. {y_axis}')\n",
    "    plt.ylabel(y_label)\n",
    "    plt.xlabel('Latitude')\n",
    "    \n",
    "    plt.show()"
   ]
  },
  {
   "cell_type": "code",
   "execution_count": 15,
   "metadata": {},
   "outputs": [
    {
     "data": {
      "image/png": "[encoded data removed]",
      "text/plain": [
       "<Figure size 432x288 with 1 Axes>"
      ]
     },
     "metadata": {
      "needs_background": "light"
     },
     "output_type": "display_data"
    }
   ],
   "source": [
    "lat_scatter_plot(\"Wind Speed\", \"Wind Speed (mph)\")"
   ]
  },
  {
   "cell_type": "code",
   "execution_count": null,
   "metadata": {},
   "outputs": [],
   "source": []
  },
  {
   "cell_type": "markdown",
   "metadata": {},
   "source": [
    "## Linear Regression"
   ]
  },
  {
   "cell_type": "markdown",
   "metadata": {},
   "source": [
    "####  Northern Hemisphere - Max Temp vs. Latitude Linear Regression"
   ]
  },
  {
   "cell_type": "code",
   "execution_count": null,
   "metadata": {},
   "outputs": [],
   "source": []
  },
  {
   "cell_type": "code",
   "execution_count": 25,
   "metadata": {},
   "outputs": [
    {
     "name": "stdout",
     "output_type": "stream",
     "text": [
      "The r-value is: 0.46937863826630627\n"
     ]
    },
    {
     "data": {
      "image/png": "[encoded data removed]",
      "text/plain": [
       "<Figure size 432x288 with 1 Axes>"
      ]
     },
     "metadata": {
      "needs_background": "light"
     },
     "output_type": "display_data"
    }
   ],
   "source": []
  },
  {
   "cell_type": "markdown",
   "metadata": {},
   "source": [
    "####  Southern Hemisphere - Max Temp vs. Latitude Linear Regression"
   ]
  },
  {
   "cell_type": "code",
   "execution_count": 26,
   "metadata": {},
   "outputs": [
    {
     "name": "stdout",
     "output_type": "stream",
     "text": [
      "The r-value is: 0.6082708688906918\n"
     ]
    },
    {
     "data": {
      "image/png": "[encoded data removed]",
      "text/plain": [
       "<Figure size 432x288 with 1 Axes>"
      ]
     },
     "metadata": {
      "needs_background": "light"
     },
     "output_type": "display_data"
    }
   ],
   "source": []
  },
  {
   "cell_type": "markdown",
   "metadata": {},
   "source": [
    "####  Northern Hemisphere - Humidity (%) vs. Latitude Linear Regression"
   ]
  },
  {
   "cell_type": "code",
   "execution_count": 27,
   "metadata": {},
   "outputs": [
    {
     "name": "stdout",
     "output_type": "stream",
     "text": [
      "The r-value is: 0.000543987878808455\n"
     ]
    },
    {
     "data": {
      "image/png": "[encoded data removed]",
      "text/plain": [
       "<Figure size 432x288 with 1 Axes>"
      ]
     },
     "metadata": {
      "needs_background": "light"
     },
     "output_type": "display_data"
    }
   ],
   "source": []
  },
  {
   "cell_type": "markdown",
   "metadata": {},
   "source": [
    "####  Southern Hemisphere - Humidity (%) vs. Latitude Linear Regression"
   ]
  },
  {
   "cell_type": "code",
   "execution_count": 28,
   "metadata": {},
   "outputs": [
    {
     "name": "stdout",
     "output_type": "stream",
     "text": [
      "The r-value is: 0.014985174297345524\n"
     ]
    },
    {
     "data": {
      "image/png": "[encoded data removed]",
      "text/plain": [
       "<Figure size 432x288 with 1 Axes>"
      ]
     },
     "metadata": {
      "needs_background": "light"
     },
     "output_type": "display_data"
    }
   ],
   "source": []
  },
  {
   "cell_type": "markdown",
   "metadata": {},
   "source": [
    "####  Northern Hemisphere - Cloudiness (%) vs. Latitude Linear Regression"
   ]
  },
  {
   "cell_type": "code",
   "execution_count": 29,
   "metadata": {},
   "outputs": [
    {
     "name": "stdout",
     "output_type": "stream",
     "text": [
      "The r-value is: 0.0020898727664228514\n"
     ]
    },
    {
     "data": {
      "image/png": "[encoded data removed]",
      "text/plain": [
       "<Figure size 432x288 with 1 Axes>"
      ]
     },
     "metadata": {
      "needs_background": "light"
     },
     "output_type": "display_data"
    }
   ],
   "source": []
  },
  {
   "cell_type": "markdown",
   "metadata": {},
   "source": [
    "####  Southern Hemisphere - Cloudiness (%) vs. Latitude Linear Regression"
   ]
  },
  {
   "cell_type": "code",
   "execution_count": 30,
   "metadata": {},
   "outputs": [
    {
     "name": "stdout",
     "output_type": "stream",
     "text": [
      "The r-value is: 0.0035263772085582894\n"
     ]
    },
    {
     "data": {
      "image/png": "[encoded data removed]",
      "text/plain": [
       "<Figure size 432x288 with 1 Axes>"
      ]
     },
     "metadata": {
      "needs_background": "light"
     },
     "output_type": "display_data"
    }
   ],
   "source": []
  },
  {
   "cell_type": "markdown",
   "metadata": {},
   "source": [
    "####  Northern Hemisphere - Wind Speed (mph) vs. Latitude Linear Regression"
   ]
  },
  {
   "cell_type": "code",
   "execution_count": 31,
   "metadata": {},
   "outputs": [
    {
     "name": "stdout",
     "output_type": "stream",
     "text": [
      "The r-value is: 0.04019723576144484\n"
     ]
    },
    {
     "data": {
      "image/png": "[encoded data removed]",
      "text/plain": [
       "<Figure size 432x288 with 1 Axes>"
      ]
     },
     "metadata": {
      "needs_background": "light"
     },
     "output_type": "display_data"
    }
   ],
   "source": []
  },
  {
   "cell_type": "markdown",
   "metadata": {},
   "source": [
    "####  Southern Hemisphere - Wind Speed (mph) vs. Latitude Linear Regression"
   ]
  },
  {
   "cell_type": "code",
   "execution_count": 32,
   "metadata": {},
   "outputs": [
    {
     "name": "stdout",
     "output_type": "stream",
     "text": [
      "The r-value is: 0.017128274759839232\n"
     ]
    },
    {
     "data": {
      "image/png": "[encoded data removed]",
      "text/plain": [
       "<Figure size 432x288 with 1 Axes>"
      ]
     },
     "metadata": {
      "needs_background": "light"
     },
     "output_type": "display_data"
    }
   ],
   "source": []
  },
  {
   "cell_type": "code",
   "execution_count": null,
   "metadata": {},
   "outputs": [],
   "source": []
  }
 ],
 "metadata": {
  "anaconda-cloud": {},
  "kernel_info": {
   "name": "python3"
  },
  "kernelspec": {
   "display_name": "Python [conda env:PythonData]",
   "language": "python",
   "name": "conda-env-PythonData-py"
  },
  "language_info": {
   "codemirror_mode": {
    "name": "ipython",
    "version": 3
   },
   "file_extension": ".py",
   "mimetype": "text/x-python",
   "name": "python",
   "nbconvert_exporter": "python",
   "pygments_lexer": "ipython3",
   "version": "3.6.10"
  },
  "latex_envs": {
   "LaTeX_envs_menu_present": true,
   "autoclose": false,
   "autocomplete": true,
   "bibliofile": "biblio.bib",
   "cite_by": "apalike",
   "current_citInitial": 1,
   "eqLabelWithNumbers": true,
   "eqNumInitial": 1,
   "hotkeys": {
    "equation": "Ctrl-E",
    "itemize": "Ctrl-I"
   },
   "labels_anchors": false,
   "latex_user_defs": false,
   "report_style_numbering": false,
   "user_envs_cfg": false
  },
  "nteract": {
   "version": "0.12.3"
  }
 },
 "nbformat": 4,
 "nbformat_minor": 2
}
