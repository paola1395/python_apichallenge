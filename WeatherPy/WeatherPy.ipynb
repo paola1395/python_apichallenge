{
 "cells": [
  {
   "cell_type": "markdown",
   "metadata": {},
   "source": [
    "# WeatherPy\n",
    "----\n",
    "\n",
    "#### Note\n",
    "* Instructions have been included for each segment. You do not have to follow them exactly, but they are included to help you think through the steps."
   ]
  },
  {
   "cell_type": "code",
   "execution_count": 2,
   "metadata": {},
   "outputs": [
    {
     "name": "stdout",
     "output_type": "stream",
     "text": [
      "Collecting citipy\n",
      "  Using cached citipy-0.0.5.tar.gz (557 kB)\n",
      "Collecting kdtree>=0.12\n",
      "  Using cached kdtree-0.16-py2.py3-none-any.whl (7.7 kB)\n",
      "Building wheels for collected packages: citipy\n",
      "  Building wheel for citipy (setup.py): started\n",
      "  Building wheel for citipy (setup.py): finished with status 'done'\n",
      "  Created wheel for citipy: filename=citipy-0.0.5-py3-none-any.whl size=559707 sha256=b51d13ba3e75871d5a3028599b0fa3b39c614a2215ead305acf1a21e75ea673a\n",
      "  Stored in directory: c:\\users\\alext\\appdata\\local\\pip\\cache\\wheels\\eb\\07\\14\\1c448d9fabf3aceac66270933ecae15693974a1b7f91266841\n",
      "Successfully built citipy\n",
      "Installing collected packages: kdtree, citipy\n",
      "Successfully installed citipy-0.0.5 kdtree-0.16\n"
     ]
    }
   ],
   "source": [
    "#!pip install citipy"
   ]
  },
  {
   "cell_type": "code",
   "execution_count": 43,
   "metadata": {
    "scrolled": true
   },
   "outputs": [],
   "source": [
    "# Dependencies and Setup\n",
    "import matplotlib.pyplot as plt\n",
    "import pandas as pd\n",
    "import numpy as np\n",
    "import requests\n",
    "import time\n",
    "import json\n",
    "from scipy.stats import linregress\n",
    "\n",
    "# Import API key\n",
    "from api_keys import weather_api_key\n",
    "\n",
    "# Incorporated citipy to determine city based on latitude and longitude\n",
    "from citipy import citipy\n",
    "\n",
    "# Output File (CSV)\n",
    "output_data_file = \"output_data/cities.csv\"\n",
    "\n",
    "# Range of latitudes and longitudes\n",
    "lat_range = (-90, 90)\n",
    "lng_range = (-180, 180)"
   ]
  },
  {
   "cell_type": "markdown",
   "metadata": {},
   "source": [
    "## Generate Cities List"
   ]
  },
  {
   "cell_type": "code",
   "execution_count": 44,
   "metadata": {},
   "outputs": [
    {
     "data": {
      "text/plain": [
       "632"
      ]
     },
     "execution_count": 44,
     "metadata": {},
     "output_type": "execute_result"
    }
   ],
   "source": [
    "# List for holding lat_lngs and cities\n",
    "lat_lngs = []\n",
    "cities = []\n",
    "\n",
    "# Create a set of random lat and lng combinations\n",
    "lats = np.random.uniform(lat_range[0], lat_range[1], size=1500)\n",
    "lngs = np.random.uniform(lng_range[0], lng_range[1], size=1500)\n",
    "lat_lngs = zip(lats, lngs)\n",
    "\n",
    "# Identify nearest city for each lat, lng combination\n",
    "for lat_lng in lat_lngs:\n",
    "    city = citipy.nearest_city(lat_lng[0], lat_lng[1]).city_name\n",
    "    \n",
    "    # If the city is unique, then add it to a our cities list\n",
    "    if city not in cities:\n",
    "        cities.append(city)\n",
    "\n",
    "# Print the city count to confirm sufficient count\n",
    "len(cities)"
   ]
  },
  {
   "cell_type": "markdown",
   "metadata": {},
   "source": [
    "### Perform API Calls\n",
    "* Perform a weather check on each city using a series of successive API calls.\n",
    "* Include a print log of each city as it'sbeing processed (with the city number and city name).\n"
   ]
  },
  {
   "cell_type": "code",
   "execution_count": 45,
   "metadata": {},
   "outputs": [
    {
     "name": "stdout",
     "output_type": "stream",
     "text": [
      "Beginning Data Retrieval\n",
      "------------------------------\n",
      "Processing Record 1 of Set 1  | Ushuaia\n",
      "Processing Record 2 of Set 1  | Hofn\n",
      "Processing Record 3 of Set 1  | Port Hedland\n",
      "Processing Record 4 of Set 1  | Mar del Plata\n",
      "Processing Record 5 of Set 1  | Kapaa\n",
      "Processing Record 6 of Set 1  | Rocha\n",
      "Processing Record 7 of Set 1  | Yucca Valley\n",
      "Processing Record 8 of Set 1  | Batemans Bay\n",
      "Processing Record 9 of Set 1  | Mangit\n",
      "Processing Record 10 of Set 1  | Rio Grande\n",
      "Processing Record 11 of Set 1  | Saint George\n",
      "Processing Record 12 of Set 1  | Kosh-Agach\n",
      "Processing Record 13 of Set 1  | Bredasdorp\n",
      "Processing Record 14 of Set 1  | Nikolskoye\n",
      "Processing Record 15 of Set 1  | Atuona\n",
      "Processing Record 16 of Set 1  | Beringovskiy\n",
      "Processing Record 17 of Set 1  | Bluff\n",
      "Processing Record 18 of Set 1  | Muravlenko\n",
      "Processing Record 19 of Set 1  | Ribeira Grande\n",
      "Processing Record 20 of Set 1  | Tyukhtet\n",
      "Processing Record 21 of Set 1  | Busselton\n",
      "Processing Record 22 of Set 1  | Sakakah\n",
      "City not found. Skipping...\n",
      "Processing Record 23 of Set 1  | Vaini\n",
      "Processing Record 24 of Set 1  | Almaznyy\n",
      "City not found. Skipping...\n",
      "City not found. Skipping...\n",
      "Processing Record 25 of Set 1  | Rikitea\n",
      "Processing Record 26 of Set 1  | Tezu\n",
      "City not found. Skipping...\n",
      "Processing Record 27 of Set 1  | Albany\n",
      "City not found. Skipping...\n",
      "Processing Record 28 of Set 1  | Upernavik\n",
      "Processing Record 29 of Set 1  | Barrow\n",
      "Processing Record 30 of Set 1  | Esperance\n",
      "Processing Record 31 of Set 1  | Butaritari\n",
      "City not found. Skipping...\n",
      "Processing Record 32 of Set 1  | Severo-Kuril'sk\n",
      "Processing Record 33 of Set 1  | New Norfolk\n",
      "Processing Record 34 of Set 1  | Ilulissat\n",
      "Processing Record 35 of Set 1  | Hilo\n",
      "City not found. Skipping...\n",
      "Processing Record 36 of Set 1  | Torbay\n",
      "Processing Record 37 of Set 1  | Chui\n",
      "Processing Record 38 of Set 1  | Leningradskiy\n",
      "Processing Record 39 of Set 1  | Rawson\n",
      "City not found. Skipping...\n",
      "Processing Record 40 of Set 1  | Inuvik\n",
      "Processing Record 41 of Set 1  | Abū Zabad\n",
      "Processing Record 42 of Set 1  | Avarua\n",
      "Processing Record 43 of Set 1  | Kropotkin\n",
      "Processing Record 44 of Set 1  | Port Alfred\n",
      "Processing Record 45 of Set 1  | Tuktoyaktuk\n",
      "Processing Record 46 of Set 1  | Cape Town\n",
      "Processing Record 47 of Set 1  | Gamba\n",
      "Processing Record 48 of Set 1  | Talnakh\n",
      "Processing Record 49 of Set 1  | Punta Arenas\n",
      "Processing Record 50 of Set 1  | Harper\n",
      "Processing Record 1 of Set 2  | Lafiagi\n",
      "Processing Record 2 of Set 2  | Puerto Ayora\n",
      "Processing Record 3 of Set 2  | Susanville\n",
      "Processing Record 4 of Set 2  | Shubarkuduk\n",
      "Processing Record 5 of Set 2  | Vanimo\n",
      "Processing Record 6 of Set 2  | Pandamatenga\n",
      "Processing Record 7 of Set 2  | Lebu\n",
      "Processing Record 8 of Set 2  | Wanning\n",
      "Processing Record 9 of Set 2  | Avera\n",
      "Processing Record 10 of Set 2  | Uyuni\n",
      "Processing Record 11 of Set 2  | Madang\n",
      "Processing Record 12 of Set 2  | Herat Province\n",
      "Processing Record 13 of Set 2  | Camacha\n",
      "Processing Record 14 of Set 2  | Gaza\n",
      "Processing Record 15 of Set 2  | Bilibino\n",
      "Processing Record 16 of Set 2  | Saint-Pierre\n",
      "Processing Record 17 of Set 2  | George Town\n",
      "Processing Record 18 of Set 2  | Jalu\n",
      "Processing Record 19 of Set 2  | Tuatapere\n",
      "Processing Record 20 of Set 2  | Vestmannaeyjar\n",
      "Processing Record 21 of Set 2  | Ndago\n",
      "Processing Record 22 of Set 2  | Hermanus\n",
      "Processing Record 23 of Set 2  | Kenai\n",
      "Processing Record 24 of Set 2  | Tasiilaq\n",
      "Processing Record 25 of Set 2  | Mahébourg\n",
      "Processing Record 26 of Set 2  | São Joaquim da Barra\n",
      "Processing Record 27 of Set 2  | Airai\n",
      "Processing Record 28 of Set 2  | Arraial do Cabo\n",
      "Processing Record 29 of Set 2  | Kruisfontein\n",
      "Processing Record 30 of Set 2  | Hong Kong\n",
      "Processing Record 31 of Set 2  | Kulhudhuffushi\n",
      "Processing Record 32 of Set 2  | Shimoda\n",
      "City not found. Skipping...\n",
      "Processing Record 33 of Set 2  | Mil'kovo\n",
      "City not found. Skipping...\n",
      "Processing Record 34 of Set 2  | Deputatsky\n",
      "Processing Record 35 of Set 2  | Phan Thiet\n",
      "Processing Record 36 of Set 2  | Mataura\n",
      "Processing Record 37 of Set 2  | Lompoc\n",
      "Processing Record 38 of Set 2  | Egvekinot\n",
      "Processing Record 39 of Set 2  | Srednekolymsk\n",
      "Processing Record 40 of Set 2  | Cabo San Lucas\n",
      "Processing Record 41 of Set 2  | Jamestown\n",
      "Processing Record 42 of Set 2  | ‘Ewa Beach\n",
      "Processing Record 43 of Set 2  | Thompson\n",
      "Processing Record 44 of Set 2  | Pacasmayo\n",
      "City not found. Skipping...\n",
      "Processing Record 45 of Set 2  | St. George's\n",
      "City not found. Skipping...\n",
      "Processing Record 46 of Set 2  | Letlhakane\n",
      "Processing Record 47 of Set 2  | Bathsheba\n",
      "Processing Record 48 of Set 2  | Aripuanã\n",
      "Processing Record 49 of Set 2  | La Ronge\n",
      "City not found. Skipping...\n",
      "Processing Record 50 of Set 2  | São Filipe\n",
      "City not found. Skipping...\n",
      "Processing Record 1 of Set 3  | Lata\n",
      "Processing Record 2 of Set 3  | Vardø\n",
      "Processing Record 3 of Set 3  | Kendari\n",
      "Processing Record 4 of Set 3  | Eilat\n",
      "Processing Record 5 of Set 3  | Yellowknife\n",
      "Processing Record 6 of Set 3  | Bengkulu\n",
      "City not found. Skipping...\n",
      "Processing Record 7 of Set 3  | Qaanaaq\n",
      "Processing Record 8 of Set 3  | Ust-Tsilma\n",
      "Processing Record 9 of Set 3  | Kieta\n",
      "Processing Record 10 of Set 3  | Oranjemund\n",
      "Processing Record 11 of Set 3  | Beyneu\n",
      "Processing Record 12 of Set 3  | Luganville\n",
      "Processing Record 13 of Set 3  | Norman Wells\n",
      "Processing Record 14 of Set 3  | Kaitangata\n",
      "Processing Record 15 of Set 3  | Ahipara\n",
      "Processing Record 16 of Set 3  | Codrington\n",
      "Processing Record 17 of Set 3  | Vanderhoof\n",
      "Processing Record 18 of Set 3  | Klaksvík\n",
      "Processing Record 19 of Set 3  | Eureka\n",
      "Processing Record 20 of Set 3  | Pisco\n",
      "Processing Record 21 of Set 3  | Cidreira\n",
      "Processing Record 22 of Set 3  | Singarāyakonda\n",
      "Processing Record 23 of Set 3  | Unaí\n",
      "Processing Record 24 of Set 3  | Adrar\n",
      "Processing Record 25 of Set 3  | Jackson\n",
      "Processing Record 26 of Set 3  | Sisimiut\n",
      "Processing Record 27 of Set 3  | Ponta do Sol\n",
      "City not found. Skipping...\n",
      "Processing Record 28 of Set 3  | Ushumun\n",
      "Processing Record 29 of Set 3  | Vila Franca do Campo\n",
      "Processing Record 30 of Set 3  | Bousso\n",
      "Processing Record 31 of Set 3  | Ust-Nera\n",
      "City not found. Skipping...\n",
      "Processing Record 32 of Set 3  | Leh\n",
      "Processing Record 33 of Set 3  | Quepos\n",
      "Processing Record 34 of Set 3  | Kalashnikovo\n",
      "Processing Record 35 of Set 3  | Tiksi\n",
      "Processing Record 36 of Set 3  | Lüderitz\n",
      "City not found. Skipping...\n",
      "Processing Record 37 of Set 3  | Marrakesh\n",
      "Processing Record 38 of Set 3  | Alofi\n",
      "Processing Record 39 of Set 3  | San Cristobal\n",
      "Processing Record 40 of Set 3  | Ludvika\n",
      "Processing Record 41 of Set 3  | Kamenka\n",
      "Processing Record 42 of Set 3  | Mehamn\n",
      "City not found. Skipping...\n",
      "Processing Record 43 of Set 3  | Saskylakh\n",
      "Processing Record 44 of Set 3  | Saint John\n",
      "Processing Record 45 of Set 3  | Štětí\n",
      "Processing Record 46 of Set 3  | Cururupu\n",
      "Processing Record 47 of Set 3  | Thul\n",
      "Processing Record 48 of Set 3  | Kirovskiy\n",
      "Processing Record 49 of Set 3  | Labuhan\n",
      "Processing Record 50 of Set 3  | Lityn\n",
      "Processing Record 1 of Set 4  | Saint-Philippe\n",
      "Processing Record 2 of Set 4  | Iaciara\n",
      "Processing Record 3 of Set 4  | Port Huron\n",
      "Processing Record 4 of Set 4  | Kungurtug\n",
      "Processing Record 5 of Set 4  | Hobart\n",
      "Processing Record 6 of Set 4  | Iqaluit\n",
      "Processing Record 7 of Set 4  | Rodeo\n",
      "Processing Record 8 of Set 4  | Muros\n",
      "Processing Record 9 of Set 4  | San Jose\n",
      "Processing Record 10 of Set 4  | Bethel\n",
      "Processing Record 11 of Set 4  | Castro\n",
      "Processing Record 12 of Set 4  | Tudela\n",
      "Processing Record 13 of Set 4  | Synya\n",
      "City not found. Skipping...\n",
      "Processing Record 14 of Set 4  | Port Elizabeth\n",
      "Processing Record 15 of Set 4  | Berea\n",
      "Processing Record 16 of Set 4  | Araouane\n",
      "Processing Record 17 of Set 4  | Coquimbo\n",
      "Processing Record 18 of Set 4  | Naze\n",
      "Processing Record 19 of Set 4  | Souris\n",
      "Processing Record 20 of Set 4  | Faanui\n",
      "Processing Record 21 of Set 4  | Charters Towers\n",
      "Processing Record 22 of Set 4  | Hithadhoo\n",
      "Processing Record 23 of Set 4  | Khatanga\n",
      "City not found. Skipping...\n",
      "Processing Record 24 of Set 4  | Sabzawār\n",
      "Processing Record 25 of Set 4  | Yuancheng\n",
      "Processing Record 26 of Set 4  | Bambous Virieux\n",
      "Processing Record 27 of Set 4  | Fortuna\n",
      "Processing Record 28 of Set 4  | Alice Springs\n",
      "City not found. Skipping...\n",
      "Processing Record 29 of Set 4  | Poronaysk\n"
     ]
    },
    {
     "name": "stdout",
     "output_type": "stream",
     "text": [
      "Processing Record 30 of Set 4  | Husavik\n",
      "Processing Record 31 of Set 4  | Itoman\n",
      "Processing Record 32 of Set 4  | Ballina\n",
      "Processing Record 33 of Set 4  | Muchkapskiy\n",
      "Processing Record 34 of Set 4  | Hamadan\n",
      "Processing Record 35 of Set 4  | East London\n",
      "Processing Record 36 of Set 4  | Formosa\n",
      "Processing Record 37 of Set 4  | Taltal\n",
      "Processing Record 38 of Set 4  | Byron Bay\n",
      "Processing Record 39 of Set 4  | Gwadar\n",
      "Processing Record 40 of Set 4  | Huarmey\n",
      "Processing Record 41 of Set 4  | Lázaro Cárdenas\n",
      "Processing Record 42 of Set 4  | Auki\n",
      "Processing Record 43 of Set 4  | Oistins\n",
      "Processing Record 44 of Set 4  | Suntar\n",
      "Processing Record 45 of Set 4  | Ryl'sk\n",
      "Processing Record 46 of Set 4  | Tromsø\n",
      "Processing Record 47 of Set 4  | Cuamba\n",
      "Processing Record 48 of Set 4  | Alegrete\n",
      "Processing Record 49 of Set 4  | Tevaitoa\n",
      "Processing Record 50 of Set 4  | Kutum\n",
      "Processing Record 1 of Set 5  | Baoding\n",
      "Processing Record 2 of Set 5  | Sarankhola\n",
      "Processing Record 3 of Set 5  | Manyoni\n",
      "Processing Record 4 of Set 5  | Fort Nelson\n",
      "Processing Record 5 of Set 5  | Dunedin\n",
      "Processing Record 6 of Set 5  | Kondinskoye\n",
      "Processing Record 7 of Set 5  | Nadym\n",
      "Processing Record 8 of Set 5  | Chokurdakh\n",
      "City not found. Skipping...\n",
      "Processing Record 9 of Set 5  | Chingirlau\n",
      "Processing Record 10 of Set 5  | Nukus\n",
      "City not found. Skipping...\n",
      "Processing Record 11 of Set 5  | Carnarvon\n",
      "Processing Record 12 of Set 5  | Mookane\n",
      "Processing Record 13 of Set 5  | Guba\n",
      "Processing Record 14 of Set 5  | ‘Āhuimanu\n",
      "Processing Record 15 of Set 5  | Severnoye\n",
      "Processing Record 16 of Set 5  | Winnemucca\n",
      "Processing Record 17 of Set 5  | Port Blair\n",
      "Processing Record 18 of Set 5  | Longyearbyen\n",
      "City not found. Skipping...\n",
      "Processing Record 19 of Set 5  | Hamilton\n",
      "Processing Record 20 of Set 5  | Cerro de Pasco\n",
      "Processing Record 21 of Set 5  | Xichang\n",
      "Processing Record 22 of Set 5  | Ambilobe\n",
      "Processing Record 23 of Set 5  | Korla\n",
      "Processing Record 24 of Set 5  | Dikson\n",
      "Processing Record 25 of Set 5  | Kovdor\n",
      "Processing Record 26 of Set 5  | Vila Velha\n",
      "Processing Record 27 of Set 5  | Walvis Bay\n",
      "City not found. Skipping...\n",
      "Processing Record 28 of Set 5  | Nantucket\n",
      "Processing Record 29 of Set 5  | Waddān\n",
      "Processing Record 30 of Set 5  | Yaoundé\n",
      "Processing Record 31 of Set 5  | Santa Cruz de la Sierra\n",
      "Processing Record 32 of Set 5  | Anadyr\n",
      "Processing Record 33 of Set 5  | Kramat\n",
      "Processing Record 34 of Set 5  | Paro\n",
      "Processing Record 35 of Set 5  | Tomatlán\n",
      "Processing Record 36 of Set 5  | Acaraú\n",
      "Processing Record 37 of Set 5  | Chengde\n",
      "Processing Record 38 of Set 5  | Kaita\n",
      "Processing Record 39 of Set 5  | Road Town\n",
      "Processing Record 40 of Set 5  | Aksu\n",
      "Processing Record 41 of Set 5  | Djibo\n",
      "Processing Record 42 of Set 5  | Catolé do Rocha\n",
      "Processing Record 43 of Set 5  | Marsaxlokk\n",
      "Processing Record 44 of Set 5  | Slave Lake\n",
      "Processing Record 45 of Set 5  | Cherskiy\n",
      "Processing Record 46 of Set 5  | Bontang\n",
      "City not found. Skipping...\n",
      "Processing Record 47 of Set 5  | Beloha\n",
      "City not found. Skipping...\n",
      "Processing Record 48 of Set 5  | Lavrentiya\n",
      "Processing Record 49 of Set 5  | Catherinas Lust\n",
      "Processing Record 50 of Set 5  | Spencer\n",
      "Processing Record 1 of Set 6  | Ancud\n",
      "Processing Record 2 of Set 6  | Mandalgovi\n",
      "Processing Record 3 of Set 6  | Tierralta\n",
      "Processing Record 4 of Set 6  | Solomenskoye\n",
      "Processing Record 5 of Set 6  | Saint Paul Harbor\n",
      "Processing Record 6 of Set 6  | Buala\n",
      "Processing Record 7 of Set 6  | Sola\n",
      "Processing Record 8 of Set 6  | Mankono\n",
      "Processing Record 9 of Set 6  | Boa Vista\n",
      "Processing Record 10 of Set 6  | Kushima\n",
      "Processing Record 11 of Set 6  | Tara\n",
      "Processing Record 12 of Set 6  | San Policarpo\n",
      "Processing Record 13 of Set 6  | Safi\n",
      "Processing Record 14 of Set 6  | Kloulklubed\n",
      "Processing Record 15 of Set 6  | Daru\n",
      "Processing Record 16 of Set 6  | Horsens\n",
      "City not found. Skipping...\n",
      "City not found. Skipping...\n",
      "Processing Record 17 of Set 6  | Peleduy\n",
      "Processing Record 18 of Set 6  | Guantánamo\n",
      "Processing Record 19 of Set 6  | Irbit\n",
      "Processing Record 20 of Set 6  | Sovetsk\n",
      "Processing Record 21 of Set 6  | High Level\n",
      "Processing Record 22 of Set 6  | Bamnet Narong\n",
      "Processing Record 23 of Set 6  | Kavieng\n",
      "Processing Record 24 of Set 6  | Port Lincoln\n",
      "Processing Record 25 of Set 6  | Nuquí\n",
      "Processing Record 26 of Set 6  | Camopi\n",
      "Processing Record 27 of Set 6  | Helong\n",
      "Processing Record 28 of Set 6  | Hobyo\n",
      "Processing Record 29 of Set 6  | Piaçabuçu\n",
      "Processing Record 30 of Set 6  | Taoudenni\n",
      "Processing Record 31 of Set 6  | Maningrida\n",
      "Processing Record 32 of Set 6  | Mamou\n",
      "Processing Record 33 of Set 6  | Awjilah\n",
      "Processing Record 34 of Set 6  | Arlit\n",
      "Processing Record 35 of Set 6  | Buraidah\n",
      "Processing Record 36 of Set 6  | Semnan\n",
      "Processing Record 37 of Set 6  | Narsaq\n",
      "Processing Record 38 of Set 6  | Provideniya\n",
      "Processing Record 39 of Set 6  | Antofagasta\n",
      "Processing Record 40 of Set 6  | Biak\n",
      "Processing Record 41 of Set 6  | Beira\n",
      "Processing Record 42 of Set 6  | Kavaratti\n",
      "Processing Record 43 of Set 6  | Fonte Boa\n",
      "Processing Record 44 of Set 6  | Half Moon Bay\n",
      "Processing Record 45 of Set 6  | Hof\n",
      "Processing Record 46 of Set 6  | Nanortalik\n",
      "Processing Record 47 of Set 6  | Aswān\n",
      "Processing Record 48 of Set 6  | Mailsi\n",
      "Processing Record 49 of Set 6  | Chapais\n",
      "Processing Record 50 of Set 6  | Yablochnyy\n",
      "Processing Record 1 of Set 7  | Slavutych\n",
      "Processing Record 2 of Set 7  | Waipawa\n",
      "Processing Record 3 of Set 7  | Makushino\n",
      "City not found. Skipping...\n",
      "Processing Record 4 of Set 7  | Magadan\n",
      "Processing Record 5 of Set 7  | Hervey Bay\n",
      "Processing Record 6 of Set 7  | Vaitape\n",
      "Processing Record 7 of Set 7  | Tautira\n",
      "Processing Record 8 of Set 7  | Santa Helena\n",
      "Processing Record 9 of Set 7  | Gibraltar\n",
      "Processing Record 10 of Set 7  | Chermoz\n",
      "Processing Record 11 of Set 7  | Roald\n",
      "Processing Record 12 of Set 7  | Rāvar\n",
      "Processing Record 13 of Set 7  | Kahului\n",
      "Processing Record 14 of Set 7  | Kumul\n",
      "Processing Record 15 of Set 7  | Nema\n",
      "Processing Record 16 of Set 7  | Tura\n",
      "Processing Record 17 of Set 7  | Manavgat\n",
      "Processing Record 18 of Set 7  | Barentu\n",
      "Processing Record 19 of Set 7  | Poltavka\n",
      "Processing Record 20 of Set 7  | Rivadavia\n",
      "Processing Record 21 of Set 7  | Hartselle\n",
      "Processing Record 22 of Set 7  | Clyde River\n",
      "Processing Record 23 of Set 7  | Inhambane\n",
      "Processing Record 24 of Set 7  | Shetpe\n",
      "Processing Record 25 of Set 7  | São João da Barra\n",
      "Processing Record 26 of Set 7  | Sierra Vista\n",
      "Processing Record 27 of Set 7  | Muroto-misakicho\n",
      "Processing Record 28 of Set 7  | Hurricane\n",
      "Processing Record 29 of Set 7  | Makungu\n",
      "Processing Record 30 of Set 7  | Dukat\n",
      "Processing Record 31 of Set 7  | Gijang\n",
      "Processing Record 32 of Set 7  | Melilla\n",
      "City not found. Skipping...\n",
      "Processing Record 33 of Set 7  | Tanout\n",
      "Processing Record 34 of Set 7  | Cotonou\n",
      "Processing Record 35 of Set 7  | Kemijärvi\n",
      "Processing Record 36 of Set 7  | Okhotsk\n",
      "Processing Record 37 of Set 7  | Mercedes\n",
      "Processing Record 38 of Set 7  | Superior\n",
      "Processing Record 39 of Set 7  | The Valley\n",
      "Processing Record 40 of Set 7  | Carballo\n",
      "Processing Record 41 of Set 7  | Nouadhibou\n",
      "Processing Record 42 of Set 7  | Riyadh\n",
      "Processing Record 43 of Set 7  | Grindavik\n",
      "Processing Record 44 of Set 7  | Sistranda\n",
      "Processing Record 45 of Set 7  | Inírida\n",
      "Processing Record 46 of Set 7  | Puerto del Rosario\n",
      "Processing Record 47 of Set 7  | Bowen\n",
      "Processing Record 48 of Set 7  | Osório\n",
      "Processing Record 49 of Set 7  | Huilong\n",
      "Processing Record 50 of Set 7  | Sovetskiy\n",
      "Processing Record 1 of Set 8  | Gachsaran\n",
      "Processing Record 2 of Set 8  | Quang Ngai\n",
      "City not found. Skipping...\n",
      "Processing Record 3 of Set 8  | Ankazoabo\n",
      "Processing Record 4 of Set 8  | Kidal\n",
      "Processing Record 5 of Set 8  | Mürzzuschlag\n",
      "Processing Record 6 of Set 8  | San Andrés\n",
      "Processing Record 7 of Set 8  | Smithers\n",
      "Processing Record 8 of Set 8  | Kovernino\n",
      "Processing Record 9 of Set 8  | Oktyabr'skiy\n",
      "Processing Record 10 of Set 8  | Red Bluff\n",
      "Processing Record 11 of Set 8  | Kyren\n",
      "Processing Record 12 of Set 8  | Baijiantan\n",
      "Processing Record 13 of Set 8  | Arrondissement de Saint-Jean-de-Maurienne\n",
      "Processing Record 14 of Set 8  | Meulaboh\n",
      "Processing Record 15 of Set 8  | Kalmunai\n",
      "Processing Record 16 of Set 8  | Timizart\n",
      "Processing Record 17 of Set 8  | Mitú\n"
     ]
    },
    {
     "name": "stdout",
     "output_type": "stream",
     "text": [
      "Processing Record 18 of Set 8  | Ust'-Ishim\n",
      "Processing Record 19 of Set 8  | Aras\n",
      "Processing Record 20 of Set 8  | Itaobim\n",
      "Processing Record 21 of Set 8  | Khani\n",
      "Processing Record 22 of Set 8  | Torquay\n",
      "Processing Record 23 of Set 8  | Ouadda\n",
      "Processing Record 24 of Set 8  | Tiradentes\n",
      "Processing Record 25 of Set 8  | Nichinan\n",
      "Processing Record 26 of Set 8  | Nouakchott\n",
      "Processing Record 27 of Set 8  | Chulym\n",
      "Processing Record 28 of Set 8  | Oltu\n",
      "Processing Record 29 of Set 8  | Jasper\n",
      "Processing Record 30 of Set 8  | Horadiz\n",
      "Processing Record 31 of Set 8  | Namatanai\n",
      "Processing Record 32 of Set 8  | Mazara del Vallo\n",
      "Processing Record 33 of Set 8  | West Wendover\n",
      "Processing Record 34 of Set 8  | Macheng\n",
      "City not found. Skipping...\n",
      "Processing Record 35 of Set 8  | Mūl\n",
      "Processing Record 36 of Set 8  | Hauterive\n",
      "Processing Record 37 of Set 8  | Bandarbeyla\n",
      "Processing Record 38 of Set 8  | Punta Alta\n",
      "Processing Record 39 of Set 8  | Igrim\n",
      "Processing Record 40 of Set 8  | Dūkštas\n",
      "Processing Record 41 of Set 8  | Todos Santos\n",
      "Processing Record 42 of Set 8  | San Jerónimo\n",
      "Processing Record 43 of Set 8  | Griffith\n",
      "Processing Record 44 of Set 8  | Berbera\n",
      "Processing Record 45 of Set 8  | Ostrovnoy\n",
      "Processing Record 46 of Set 8  | Port Hawkesbury\n",
      "City not found. Skipping...\n",
      "Processing Record 47 of Set 8  | Varzelândia\n",
      "Processing Record 48 of Set 8  | Grindu\n",
      "Processing Record 49 of Set 8  | Goryachegorsk\n",
      "Processing Record 50 of Set 8  | Nuuk\n",
      "City not found. Skipping...\n",
      "Processing Record 1 of Set 9  | Bara\n",
      "Processing Record 2 of Set 9  | Port Hueneme\n",
      "Processing Record 3 of Set 9  | Salalah\n",
      "Processing Record 4 of Set 9  | San Pedro de Tutule\n",
      "Processing Record 5 of Set 9  | Wagar\n",
      "Processing Record 6 of Set 9  | Baisha\n",
      "Processing Record 7 of Set 9  | Salinas\n",
      "Processing Record 8 of Set 9  | Takoradze\n",
      "Processing Record 9 of Set 9  | Owase\n",
      "Processing Record 10 of Set 9  | Saldanha\n",
      "Processing Record 11 of Set 9  | Caravelas\n",
      "Processing Record 12 of Set 9  | Lagoa\n",
      "Processing Record 13 of Set 9  | Agadez\n",
      "City not found. Skipping...\n",
      "Processing Record 14 of Set 9  | Saint-Ambroise\n",
      "Processing Record 15 of Set 9  | Amapá\n",
      "Processing Record 16 of Set 9  | Kapoeta\n",
      "Processing Record 17 of Set 9  | Lakatoro\n",
      "Processing Record 18 of Set 9  | Tynda\n",
      "Processing Record 19 of Set 9  | Mabaruma\n",
      "Processing Record 20 of Set 9  | Macusani\n",
      "Processing Record 21 of Set 9  | Bac Lieu\n",
      "Processing Record 22 of Set 9  | Souillac\n",
      "Processing Record 23 of Set 9  | Palmer\n",
      "Processing Record 24 of Set 9  | Ust'-Kut\n",
      "Processing Record 25 of Set 9  | Broni\n",
      "Processing Record 26 of Set 9  | Tshikapa\n",
      "Processing Record 27 of Set 9  | Syracuse\n",
      "Processing Record 28 of Set 9  | Canutama\n",
      "Processing Record 29 of Set 9  | Ambon City\n",
      "Processing Record 30 of Set 9  | Aykhal\n",
      "Processing Record 31 of Set 9  | Saint-Augustin\n",
      "Processing Record 32 of Set 9  | Council Bluffs\n",
      "Processing Record 33 of Set 9  | Krasnoarmiys'k\n",
      "Processing Record 34 of Set 9  | Geraldton\n",
      "Processing Record 35 of Set 9  | Pitman\n",
      "Processing Record 36 of Set 9  | Paamiut\n",
      "Processing Record 37 of Set 9  | Inyonga\n",
      "Processing Record 38 of Set 9  | Alta\n",
      "Processing Record 39 of Set 9  | Mozelos\n",
      "Processing Record 40 of Set 9  | Vodnyy\n",
      "Processing Record 41 of Set 9  | Aksarka\n",
      "Processing Record 42 of Set 9  | Bajil\n",
      "Processing Record 43 of Set 9  | Sorong\n",
      "Processing Record 44 of Set 9  | Teguise\n",
      "Processing Record 45 of Set 9  | Koumac\n",
      "Processing Record 46 of Set 9  | Ponta Delgada\n",
      "Processing Record 47 of Set 9  | Krasnaya Zarya\n",
      "Processing Record 48 of Set 9  | Mendi\n",
      "Processing Record 49 of Set 9  | Kharp\n",
      "Processing Record 50 of Set 9  | Batagay\n",
      "City not found. Skipping...\n",
      "Processing Record 1 of Set 10  | Suileng\n",
      "Processing Record 2 of Set 10  | Mitsamiouli\n",
      "Processing Record 3 of Set 10  | Methóni\n",
      "Processing Record 4 of Set 10  | Sebring\n",
      "Processing Record 5 of Set 10  | Farafangana\n",
      "Processing Record 6 of Set 10  | Lūnāvāda\n",
      "Processing Record 7 of Set 10  | Mokolo\n",
      "Processing Record 8 of Set 10  | Marau\n",
      "Processing Record 9 of Set 10  | New Plymouth\n",
      "City not found. Skipping...\n",
      "Processing Record 10 of Set 10  | Elko\n",
      "Processing Record 11 of Set 10  | Bud\n",
      "Processing Record 12 of Set 10  | Hasaki\n",
      "Processing Record 13 of Set 10  | Touros\n",
      "Processing Record 14 of Set 10  | Cayenne\n",
      "Processing Record 15 of Set 10  | Nabire\n",
      "Processing Record 16 of Set 10  | Polson\n",
      "Processing Record 17 of Set 10  | Ol'ga\n",
      "Processing Record 18 of Set 10  | Vostok\n",
      "Processing Record 19 of Set 10  | Chaozhou\n",
      "Processing Record 20 of Set 10  | Coyhaique\n",
      "Processing Record 21 of Set 10  | Flagstaff\n",
      "Processing Record 22 of Set 10  | Falam\n",
      "City not found. Skipping...\n",
      "Processing Record 23 of Set 10  | Haikou\n",
      "Processing Record 24 of Set 10  | Padang\n",
      "Processing Record 25 of Set 10  | Anloga\n",
      "City not found. Skipping...\n",
      "Processing Record 26 of Set 10  | Moranbah\n",
      "Processing Record 27 of Set 10  | Cabinda\n",
      "Processing Record 28 of Set 10  | Río Gallegos\n",
      "City not found. Skipping...\n",
      "Processing Record 29 of Set 10  | Kudahuvadhoo\n",
      "Processing Record 30 of Set 10  | Killybegs\n",
      "Processing Record 31 of Set 10  | Dawlatabad\n",
      "Processing Record 32 of Set 10  | Ascension\n",
      "Processing Record 33 of Set 10  | Tingi\n",
      "Processing Record 34 of Set 10  | Orbe\n",
      "Processing Record 35 of Set 10  | Sooke\n",
      "Processing Record 36 of Set 10  | Marfino\n",
      "Processing Record 37 of Set 10  | Yar-Sale\n",
      "Processing Record 38 of Set 10  | Soyo\n",
      "Processing Record 39 of Set 10  | Nogliki\n",
      "Processing Record 40 of Set 10  | Scarborough\n",
      "Processing Record 41 of Set 10  | Kiunga\n",
      "Processing Record 42 of Set 10  | Cascais\n",
      "Processing Record 43 of Set 10  | General Pico\n",
      "Processing Record 44 of Set 10  | Manadhoo\n",
      "Processing Record 45 of Set 10  | Koplik\n",
      "Processing Record 46 of Set 10  | Burē\n",
      "Processing Record 47 of Set 10  | Calatayud\n",
      "Processing Record 48 of Set 10  | Mujiayingzi\n",
      "Processing Record 49 of Set 10  | Nālūt\n",
      "City not found. Skipping...\n",
      "Processing Record 50 of Set 10  | Guangyuan\n",
      "Processing Record 1 of Set 11  | Ambulu\n",
      "Processing Record 2 of Set 11  | Muisne\n",
      "Processing Record 3 of Set 11  | Xining\n",
      "Processing Record 4 of Set 11  | Marabba\n",
      "Processing Record 5 of Set 11  | Rincon\n",
      "Processing Record 6 of Set 11  | Sitka\n",
      "Processing Record 7 of Set 11  | Vila\n",
      "Processing Record 8 of Set 11  | At-Bashi\n",
      "Processing Record 9 of Set 11  | Nagato\n",
      "Processing Record 10 of Set 11  | Nortelândia\n",
      "Processing Record 11 of Set 11  | Sydney\n",
      "Processing Record 12 of Set 11  | Constitución\n",
      "Processing Record 13 of Set 11  | Dingle\n",
      "City not found. Skipping...\n",
      "Processing Record 14 of Set 11  | Alamogordo\n",
      "Processing Record 15 of Set 11  | Isangel\n",
      "Processing Record 16 of Set 11  | Norfolk\n",
      "City not found. Skipping...\n",
      "Processing Record 17 of Set 11  | Carutapera\n",
      "Processing Record 18 of Set 11  | Mnogovershinnyy\n",
      "Processing Record 19 of Set 11  | Plettenberg Bay\n",
      "Processing Record 20 of Set 11  | Pangnirtung\n",
      "Processing Record 21 of Set 11  | Lyngseidet\n",
      "Processing Record 22 of Set 11  | Brigantine\n",
      "Processing Record 23 of Set 11  | Patos de Minas\n",
      "Processing Record 24 of Set 11  | Northam\n",
      "Processing Record 25 of Set 11  | Aykino\n",
      "Processing Record 26 of Set 11  | Trincomalee\n",
      "Processing Record 27 of Set 11  | Olafsvik\n",
      "Processing Record 28 of Set 11  | Ende\n",
      "Processing Record 29 of Set 11  | Manokwari\n",
      "Processing Record 30 of Set 11  | Dwārka\n",
      "Processing Record 31 of Set 11  | Chimoré\n",
      "Processing Record 32 of Set 11  | Ranfurly\n",
      "Processing Record 33 of Set 11  | Sioux Lookout\n",
      "Processing Record 34 of Set 11  | Khovd\n",
      "City not found. Skipping...\n",
      "Processing Record 35 of Set 11  | San Rafael\n",
      "Processing Record 36 of Set 11  | Şarkîkaraağaç\n",
      "Processing Record 37 of Set 11  | Laguna\n",
      "Processing Record 38 of Set 11  | Kathu\n",
      "Processing Record 39 of Set 11  | Nizhniy Lomov\n",
      "Processing Record 40 of Set 11  | Katsuura\n",
      "City not found. Skipping...\n",
      "Processing Record 41 of Set 11  | Birin\n",
      "Processing Record 42 of Set 11  | Duque de Caxias\n",
      "City not found. Skipping...\n",
      "Processing Record 43 of Set 11  | Zonguldak\n",
      "Processing Record 44 of Set 11  | Jinchang\n",
      "Processing Record 45 of Set 11  | Los Llanos de Aridane\n",
      "Processing Record 46 of Set 11  | Mumford\n",
      "Processing Record 47 of Set 11  | Mīzan Teferī\n",
      "Processing Record 48 of Set 11  | Mossamedes\n",
      "Processing Record 49 of Set 11  | Lorengau\n",
      "Processing Record 50 of Set 11  | Baiyin\n",
      "Processing Record 1 of Set 12  | Sinnamary\n"
     ]
    },
    {
     "name": "stdout",
     "output_type": "stream",
     "text": [
      "Processing Record 2 of Set 12  | Grand Gaube\n",
      "Processing Record 3 of Set 12  | Salto\n",
      "Processing Record 4 of Set 12  | Huánuco\n",
      "City not found. Skipping...\n",
      "Processing Record 5 of Set 12  | Stolbovaya\n",
      "Processing Record 6 of Set 12  | Yulara\n",
      "Processing Record 7 of Set 12  | Asău\n",
      "Processing Record 8 of Set 12  | Vallenar\n",
      "Processing Record 9 of Set 12  | Honningsvåg\n",
      "Processing Record 10 of Set 12  | Wamba\n",
      "Processing Record 11 of Set 12  | Dvinskoy Bereznik\n",
      "Processing Record 12 of Set 12  | Koygorodok\n",
      "Processing Record 13 of Set 12  | Sharjah city\n",
      "Processing Record 14 of Set 12  | Nome\n",
      "Processing Record 15 of Set 12  | Prince George\n",
      "Processing Record 16 of Set 12  | Fallon\n",
      "Processing Record 17 of Set 12  | Grand-Lahou\n",
      "Processing Record 18 of Set 12  | Wadi Maliz\n",
      "Processing Record 19 of Set 12  | Hay River\n",
      "Processing Record 20 of Set 12  | Bosaso\n",
      "Processing Record 21 of Set 12  | Marawi\n",
      "Processing Record 22 of Set 12  | Bubaque\n",
      "Processing Record 23 of Set 12  | Umm Hājar\n",
      "Processing Record 24 of Set 12  | Planadas\n",
      "Processing Record 25 of Set 12  | Atar\n",
      "Processing Record 26 of Set 12  | Shaunavon\n",
      "Processing Record 27 of Set 12  | Miyoshi City\n",
      "Processing Record 28 of Set 12  | Vao\n",
      "Processing Record 29 of Set 12  | Ugoofaaru\n",
      "Processing Record 30 of Set 12  | Manggar\n",
      "Processing Record 31 of Set 12  | Sabla\n",
      "Processing Record 32 of Set 12  | Henties Bay\n",
      "Processing Record 33 of Set 12  | Kaka\n"
     ]
    }
   ],
   "source": [
    "url = \"http://api.openweathermap.org/data/2.5/weather?units=Imperial&APPID=\" + weather_api_key \n",
    "\n",
    "city_name = []\n",
    "lat = []\n",
    "lng = []\n",
    "max_temp = []\n",
    "humidity = []\n",
    "cloudiness = []\n",
    "wind_speed = []\n",
    "country = []\n",
    "date = []\n",
    "\n",
    "\n",
    "record = 1\n",
    "city_record= 1\n",
    "\n",
    "# Header print statement\n",
    "print(f\"Beginning Data Retrieval\")\n",
    "print(f\"-\"*30)\n",
    "\n",
    "#Loop through the cities in the city list by making requests and storing response\n",
    "for city in cities:\n",
    "    try:\n",
    "        response = requests.get(f\"{url}&q={city}\").json() \n",
    "        #print(response)\n",
    "        city_name.append(response[\"name\"])\n",
    "        cloudiness.append(response[\"clouds\"][\"all\"])\n",
    "        country.append(response[\"sys\"][\"country\"])\n",
    "        date.append(response[\"dt\"])\n",
    "        humidity.append(response[\"main\"][\"humidity\"])\n",
    "        max_temp.append(response[\"main\"][\"temp_max\"])\n",
    "        lat.append(response[\"coord\"][\"lat\"])\n",
    "        lng.append(response[\"coord\"][\"lon\"])\n",
    "        wind_speed.append(response[\"wind\"][\"speed\"])\n",
    "        #city_record = response[\"name\"]\n",
    "        \n",
    "        \n",
    "        print(f\"Processing Record {record} of Set {city_record}  | {response ['name']}\")\n",
    "\n",
    "        \n",
    "        if record == 50 : \n",
    "            city_record= city_record + 1\n",
    "            record = 0\n",
    "        \n",
    "\n",
    "        record= record + 1\n",
    "\n",
    "    except:\n",
    "        print(\"City not found. Skipping...\")"
   ]
  },
  {
   "cell_type": "markdown",
   "metadata": {},
   "source": [
    "### Convert Raw Data to DataFrame\n",
    "* Export the city data into a .csv.\n",
    "* Display the DataFrame"
   ]
  },
  {
   "cell_type": "code",
   "execution_count": 46,
   "metadata": {},
   "outputs": [
    {
     "data": {
      "text/html": [
       "<div>\n",
       "<style scoped>\n",
       "    .dataframe tbody tr th:only-of-type {\n",
       "        vertical-align: middle;\n",
       "    }\n",
       "\n",
       "    .dataframe tbody tr th {\n",
       "        vertical-align: top;\n",
       "    }\n",
       "\n",
       "    .dataframe thead th {\n",
       "        text-align: right;\n",
       "    }\n",
       "</style>\n",
       "<table border=\"1\" class=\"dataframe\">\n",
       "  <thead>\n",
       "    <tr style=\"text-align: right;\">\n",
       "      <th></th>\n",
       "      <th>City</th>\n",
       "      <th>Lat</th>\n",
       "      <th>Lng</th>\n",
       "      <th>Max Temp</th>\n",
       "      <th>Humidity</th>\n",
       "      <th>Cloudiness</th>\n",
       "      <th>Wind Speed</th>\n",
       "      <th>Country</th>\n",
       "      <th>Date</th>\n",
       "    </tr>\n",
       "  </thead>\n",
       "  <tbody>\n",
       "    <tr>\n",
       "      <th>0</th>\n",
       "      <td>Ushuaia</td>\n",
       "      <td>-54.80</td>\n",
       "      <td>-68.30</td>\n",
       "      <td>39.20</td>\n",
       "      <td>69</td>\n",
       "      <td>20</td>\n",
       "      <td>2.24</td>\n",
       "      <td>AR</td>\n",
       "      <td>1606197438</td>\n",
       "    </tr>\n",
       "    <tr>\n",
       "      <th>1</th>\n",
       "      <td>Hofn</td>\n",
       "      <td>64.25</td>\n",
       "      <td>-15.21</td>\n",
       "      <td>37.92</td>\n",
       "      <td>77</td>\n",
       "      <td>100</td>\n",
       "      <td>17.25</td>\n",
       "      <td>IS</td>\n",
       "      <td>1606197438</td>\n",
       "    </tr>\n",
       "    <tr>\n",
       "      <th>2</th>\n",
       "      <td>Port Hedland</td>\n",
       "      <td>-20.32</td>\n",
       "      <td>118.57</td>\n",
       "      <td>96.80</td>\n",
       "      <td>34</td>\n",
       "      <td>40</td>\n",
       "      <td>16.11</td>\n",
       "      <td>AU</td>\n",
       "      <td>1606197439</td>\n",
       "    </tr>\n",
       "    <tr>\n",
       "      <th>3</th>\n",
       "      <td>Mar del Plata</td>\n",
       "      <td>-38.00</td>\n",
       "      <td>-57.56</td>\n",
       "      <td>66.99</td>\n",
       "      <td>93</td>\n",
       "      <td>90</td>\n",
       "      <td>9.17</td>\n",
       "      <td>AR</td>\n",
       "      <td>1606197149</td>\n",
       "    </tr>\n",
       "    <tr>\n",
       "      <th>4</th>\n",
       "      <td>Kapaa</td>\n",
       "      <td>22.08</td>\n",
       "      <td>-159.32</td>\n",
       "      <td>77.00</td>\n",
       "      <td>78</td>\n",
       "      <td>75</td>\n",
       "      <td>18.34</td>\n",
       "      <td>US</td>\n",
       "      <td>1606197439</td>\n",
       "    </tr>\n",
       "    <tr>\n",
       "      <th>...</th>\n",
       "      <td>...</td>\n",
       "      <td>...</td>\n",
       "      <td>...</td>\n",
       "      <td>...</td>\n",
       "      <td>...</td>\n",
       "      <td>...</td>\n",
       "      <td>...</td>\n",
       "      <td>...</td>\n",
       "      <td>...</td>\n",
       "    </tr>\n",
       "    <tr>\n",
       "      <th>578</th>\n",
       "      <td>Ugoofaaru</td>\n",
       "      <td>5.67</td>\n",
       "      <td>73.00</td>\n",
       "      <td>82.11</td>\n",
       "      <td>74</td>\n",
       "      <td>40</td>\n",
       "      <td>10.56</td>\n",
       "      <td>MV</td>\n",
       "      <td>1606197583</td>\n",
       "    </tr>\n",
       "    <tr>\n",
       "      <th>579</th>\n",
       "      <td>Manggar</td>\n",
       "      <td>-2.88</td>\n",
       "      <td>108.27</td>\n",
       "      <td>84.25</td>\n",
       "      <td>74</td>\n",
       "      <td>100</td>\n",
       "      <td>6.02</td>\n",
       "      <td>ID</td>\n",
       "      <td>1606197583</td>\n",
       "    </tr>\n",
       "    <tr>\n",
       "      <th>580</th>\n",
       "      <td>Sabla</td>\n",
       "      <td>12.75</td>\n",
       "      <td>4.71</td>\n",
       "      <td>72.05</td>\n",
       "      <td>30</td>\n",
       "      <td>44</td>\n",
       "      <td>6.15</td>\n",
       "      <td>NG</td>\n",
       "      <td>1606197583</td>\n",
       "    </tr>\n",
       "    <tr>\n",
       "      <th>581</th>\n",
       "      <td>Henties Bay</td>\n",
       "      <td>-22.12</td>\n",
       "      <td>14.28</td>\n",
       "      <td>57.99</td>\n",
       "      <td>85</td>\n",
       "      <td>28</td>\n",
       "      <td>1.01</td>\n",
       "      <td>NA</td>\n",
       "      <td>1606197583</td>\n",
       "    </tr>\n",
       "    <tr>\n",
       "      <th>582</th>\n",
       "      <td>Kaka</td>\n",
       "      <td>37.35</td>\n",
       "      <td>59.61</td>\n",
       "      <td>41.41</td>\n",
       "      <td>64</td>\n",
       "      <td>99</td>\n",
       "      <td>3.89</td>\n",
       "      <td>TM</td>\n",
       "      <td>1606197584</td>\n",
       "    </tr>\n",
       "  </tbody>\n",
       "</table>\n",
       "<p>583 rows × 9 columns</p>\n",
       "</div>"
      ],
      "text/plain": [
       "              City    Lat     Lng  Max Temp  Humidity  Cloudiness  Wind Speed  \\\n",
       "0          Ushuaia -54.80  -68.30     39.20        69          20        2.24   \n",
       "1             Hofn  64.25  -15.21     37.92        77         100       17.25   \n",
       "2     Port Hedland -20.32  118.57     96.80        34          40       16.11   \n",
       "3    Mar del Plata -38.00  -57.56     66.99        93          90        9.17   \n",
       "4            Kapaa  22.08 -159.32     77.00        78          75       18.34   \n",
       "..             ...    ...     ...       ...       ...         ...         ...   \n",
       "578      Ugoofaaru   5.67   73.00     82.11        74          40       10.56   \n",
       "579        Manggar  -2.88  108.27     84.25        74         100        6.02   \n",
       "580          Sabla  12.75    4.71     72.05        30          44        6.15   \n",
       "581    Henties Bay -22.12   14.28     57.99        85          28        1.01   \n",
       "582           Kaka  37.35   59.61     41.41        64          99        3.89   \n",
       "\n",
       "    Country        Date  \n",
       "0        AR  1606197438  \n",
       "1        IS  1606197438  \n",
       "2        AU  1606197439  \n",
       "3        AR  1606197149  \n",
       "4        US  1606197439  \n",
       "..      ...         ...  \n",
       "578      MV  1606197583  \n",
       "579      ID  1606197583  \n",
       "580      NG  1606197583  \n",
       "581      NA  1606197583  \n",
       "582      TM  1606197584  \n",
       "\n",
       "[583 rows x 9 columns]"
      ]
     },
     "execution_count": 46,
     "metadata": {},
     "output_type": "execute_result"
    }
   ],
   "source": [
    "weather_data= {\n",
    "    \"City\": city_name,\n",
    "    \"Lat\": lat,\n",
    "    \"Lng\": lng,\n",
    "    \"Max Temp\": max_temp,\n",
    "    \"Humidity\": humidity,\n",
    "    \"Cloudiness\": cloudiness,\n",
    "    \"Wind Speed\": wind_speed,\n",
    "    \"Country\":country,\n",
    "    \"Date\": date,\n",
    "}\n",
    "\n",
    "weather_df= pd.DataFrame(weather_data)\n",
    "weather_df\n",
    "#save as csv\n"
   ]
  },
  {
   "cell_type": "code",
   "execution_count": 47,
   "metadata": {},
   "outputs": [
    {
     "data": {
      "text/html": [
       "<div>\n",
       "<style scoped>\n",
       "    .dataframe tbody tr th:only-of-type {\n",
       "        vertical-align: middle;\n",
       "    }\n",
       "\n",
       "    .dataframe tbody tr th {\n",
       "        vertical-align: top;\n",
       "    }\n",
       "\n",
       "    .dataframe thead th {\n",
       "        text-align: right;\n",
       "    }\n",
       "</style>\n",
       "<table border=\"1\" class=\"dataframe\">\n",
       "  <thead>\n",
       "    <tr style=\"text-align: right;\">\n",
       "      <th></th>\n",
       "      <th>Lat</th>\n",
       "      <th>Lng</th>\n",
       "      <th>Max Temp</th>\n",
       "      <th>Humidity</th>\n",
       "      <th>Cloudiness</th>\n",
       "      <th>Wind Speed</th>\n",
       "      <th>Date</th>\n",
       "    </tr>\n",
       "  </thead>\n",
       "  <tbody>\n",
       "    <tr>\n",
       "      <th>count</th>\n",
       "      <td>583.000000</td>\n",
       "      <td>583.000000</td>\n",
       "      <td>583.000000</td>\n",
       "      <td>583.000000</td>\n",
       "      <td>583.000000</td>\n",
       "      <td>583.000000</td>\n",
       "      <td>5.830000e+02</td>\n",
       "    </tr>\n",
       "    <tr>\n",
       "      <th>mean</th>\n",
       "      <td>21.100789</td>\n",
       "      <td>17.770223</td>\n",
       "      <td>53.617547</td>\n",
       "      <td>74.965695</td>\n",
       "      <td>53.816467</td>\n",
       "      <td>7.849262</td>\n",
       "      <td>1.606197e+09</td>\n",
       "    </tr>\n",
       "    <tr>\n",
       "      <th>std</th>\n",
       "      <td>32.665151</td>\n",
       "      <td>88.916953</td>\n",
       "      <td>24.937473</td>\n",
       "      <td>19.087217</td>\n",
       "      <td>38.677745</td>\n",
       "      <td>5.355195</td>\n",
       "      <td>6.940440e+01</td>\n",
       "    </tr>\n",
       "    <tr>\n",
       "      <th>min</th>\n",
       "      <td>-54.800000</td>\n",
       "      <td>-179.170000</td>\n",
       "      <td>-18.530000</td>\n",
       "      <td>14.000000</td>\n",
       "      <td>0.000000</td>\n",
       "      <td>0.090000</td>\n",
       "      <td>1.606197e+09</td>\n",
       "    </tr>\n",
       "    <tr>\n",
       "      <th>25%</th>\n",
       "      <td>-5.935000</td>\n",
       "      <td>-58.415000</td>\n",
       "      <td>33.900000</td>\n",
       "      <td>65.000000</td>\n",
       "      <td>16.000000</td>\n",
       "      <td>3.635000</td>\n",
       "      <td>1.606197e+09</td>\n",
       "    </tr>\n",
       "    <tr>\n",
       "      <th>50%</th>\n",
       "      <td>27.900000</td>\n",
       "      <td>22.400000</td>\n",
       "      <td>58.690000</td>\n",
       "      <td>79.000000</td>\n",
       "      <td>62.000000</td>\n",
       "      <td>6.730000</td>\n",
       "      <td>1.606198e+09</td>\n",
       "    </tr>\n",
       "    <tr>\n",
       "      <th>75%</th>\n",
       "      <td>47.425000</td>\n",
       "      <td>89.600000</td>\n",
       "      <td>75.550000</td>\n",
       "      <td>90.000000</td>\n",
       "      <td>91.500000</td>\n",
       "      <td>10.310000</td>\n",
       "      <td>1.606198e+09</td>\n",
       "    </tr>\n",
       "    <tr>\n",
       "      <th>max</th>\n",
       "      <td>78.220000</td>\n",
       "      <td>179.320000</td>\n",
       "      <td>100.400000</td>\n",
       "      <td>100.000000</td>\n",
       "      <td>100.000000</td>\n",
       "      <td>31.090000</td>\n",
       "      <td>1.606198e+09</td>\n",
       "    </tr>\n",
       "  </tbody>\n",
       "</table>\n",
       "</div>"
      ],
      "text/plain": [
       "              Lat         Lng    Max Temp    Humidity  Cloudiness  Wind Speed  \\\n",
       "count  583.000000  583.000000  583.000000  583.000000  583.000000  583.000000   \n",
       "mean    21.100789   17.770223   53.617547   74.965695   53.816467    7.849262   \n",
       "std     32.665151   88.916953   24.937473   19.087217   38.677745    5.355195   \n",
       "min    -54.800000 -179.170000  -18.530000   14.000000    0.000000    0.090000   \n",
       "25%     -5.935000  -58.415000   33.900000   65.000000   16.000000    3.635000   \n",
       "50%     27.900000   22.400000   58.690000   79.000000   62.000000    6.730000   \n",
       "75%     47.425000   89.600000   75.550000   90.000000   91.500000   10.310000   \n",
       "max     78.220000  179.320000  100.400000  100.000000  100.000000   31.090000   \n",
       "\n",
       "               Date  \n",
       "count  5.830000e+02  \n",
       "mean   1.606197e+09  \n",
       "std    6.940440e+01  \n",
       "min    1.606197e+09  \n",
       "25%    1.606197e+09  \n",
       "50%    1.606198e+09  \n",
       "75%    1.606198e+09  \n",
       "max    1.606198e+09  "
      ]
     },
     "execution_count": 47,
     "metadata": {},
     "output_type": "execute_result"
    }
   ],
   "source": [
    "weather_df.describe()"
   ]
  },
  {
   "cell_type": "markdown",
   "metadata": {},
   "source": [
    "## Inspect the data and remove the cities where the humidity > 100%.\n",
    "----\n",
    "Skip this step if there are no cities that have humidity > 100%. "
   ]
  },
  {
   "cell_type": "code",
   "execution_count": 48,
   "metadata": {},
   "outputs": [
    {
     "data": {
      "text/plain": [
       "Int64Index([], dtype='int64')"
      ]
     },
     "execution_count": 48,
     "metadata": {},
     "output_type": "execute_result"
    }
   ],
   "source": [
    "#  Get the indices of cities that have humidity over 100%.\n",
    "weather_df.loc[weather_df[\"Humidity\"]>100].index"
   ]
  },
  {
   "cell_type": "code",
   "execution_count": 49,
   "metadata": {},
   "outputs": [],
   "source": [
    "# Make a new DataFrame equal to the city data to drop all humidity outliers by index.\n",
    "# Passing \"inplace=False\" will make a copy of the city_data DataFrame, which we call \"clean_city_data\".\n",
    "weather_df=weather_df.loc[weather_df[\"Humidity\"]<=100]"
   ]
  },
  {
   "cell_type": "markdown",
   "metadata": {},
   "source": [
    "## Plotting the Data\n",
    "* Use proper labeling of the plots using plot titles (including date of analysis) and axes labels.\n",
    "* Save the plotted figures as .pngs."
   ]
  },
  {
   "cell_type": "markdown",
   "metadata": {},
   "source": [
    "## Latitude vs. Temperature Plot"
   ]
  },
  {
   "cell_type": "code",
   "execution_count": 54,
   "metadata": {},
   "outputs": [],
   "source": [
    "def lat_scatter_plot(y_axis, y_label):\n",
    "    x_axis= weather_df[\"Lat\"]\n",
    "    plt.scatter(x_axis, weather_df[y_axis])\n",
    "    \n",
    "    plt.title(f'City Latitude vs. {y_axis}')\n",
    "    plt.ylabel(y_label)\n",
    "    plt.xlabel('Latitude')\n",
    "    \n",
    "    plt.show()"
   ]
  },
  {
   "cell_type": "code",
   "execution_count": 55,
   "metadata": {},
   "outputs": [
    {
     "data": {
      "image/png": "[encoded data removed]",
      "text/plain": [
       "<Figure size 432x288 with 1 Axes>"
      ]
     },
     "metadata": {
      "needs_background": "light"
     },
     "output_type": "display_data"
    }
   ],
   "source": [
    "lat_scatter_plot(\"Max Temp\", \"Max Temperature (F)\")"
   ]
  },
  {
   "cell_type": "code",
   "execution_count": null,
   "metadata": {
    "scrolled": true
   },
   "outputs": [],
   "source": []
  },
  {
   "cell_type": "markdown",
   "metadata": {},
   "source": [
    "## Latitude vs. Humidity Plot"
   ]
  },
  {
   "cell_type": "code",
   "execution_count": 56,
   "metadata": {},
   "outputs": [],
   "source": [
    "def lat_scatter_plot(y_axis, y_label):\n",
    "    x_axis= weather_df[\"Lat\"]\n",
    "    plt.scatter(x_axis, weather_df[y_axis])\n",
    "    \n",
    "    plt.title(f'City Latitude vs. {y_axis}')\n",
    "    plt.ylabel(y_label)\n",
    "    plt.xlabel('Latitude')\n",
    "    \n",
    "    plt.show()"
   ]
  },
  {
   "cell_type": "code",
   "execution_count": 57,
   "metadata": {},
   "outputs": [
    {
     "data": {
      "image/png": "[encoded data removed]",
      "text/plain": [
       "<Figure size 432x288 with 1 Axes>"
      ]
     },
     "metadata": {
      "needs_background": "light"
     },
     "output_type": "display_data"
    }
   ],
   "source": [
    "lat_scatter_plot(\"Humidity\", \"Humidity (%)\")"
   ]
  },
  {
   "cell_type": "markdown",
   "metadata": {},
   "source": [
    "## Latitude vs. Cloudiness Plot"
   ]
  },
  {
   "cell_type": "code",
   "execution_count": 12,
   "metadata": {},
   "outputs": [],
   "source": [
    "def lat_scatter_plot(y_axis, y_label):\n",
    "    x_axis= weather_df[\"Lat\"]\n",
    "    plt.scatter(x_axis, weather_df[y_axis])\n",
    "    \n",
    "    plt.title(f'City Latitude vs. {y_axis}')\n",
    "    plt.ylabel(y_label)\n",
    "    plt.xlabel('Latitude')\n",
    "    \n",
    "    plt.show()"
   ]
  },
  {
   "cell_type": "code",
   "execution_count": 13,
   "metadata": {},
   "outputs": [
    {
     "data": {
      "image/png": "[encoded data removed]",
      "text/plain": [
       "<Figure size 432x288 with 1 Axes>"
      ]
     },
     "metadata": {
      "needs_background": "light"
     },
     "output_type": "display_data"
    }
   ],
   "source": [
    "lat_scatter_plot(\"Cloudiness\", \"Cloudiness (%)\")"
   ]
  },
  {
   "cell_type": "markdown",
   "metadata": {},
   "source": [
    "## Latitude vs. Wind Speed Plot"
   ]
  },
  {
   "cell_type": "code",
   "execution_count": 14,
   "metadata": {},
   "outputs": [],
   "source": [
    "def lat_scatter_plot(y_axis, y_label):\n",
    "    x_axis= weather_df[\"Lat\"]\n",
    "    plt.scatter(x_axis, weather_df[y_axis])\n",
    "    \n",
    "    plt.title(f'City Latitude vs. {y_axis}')\n",
    "    plt.ylabel(y_label)\n",
    "    plt.xlabel('Latitude')\n",
    "    \n",
    "    plt.show()"
   ]
  },
  {
   "cell_type": "code",
   "execution_count": 15,
   "metadata": {},
   "outputs": [
    {
     "data": {
      "image/png": "[encoded data removed]",
      "text/plain": [
       "<Figure size 432x288 with 1 Axes>"
      ]
     },
     "metadata": {
      "needs_background": "light"
     },
     "output_type": "display_data"
    }
   ],
   "source": [
    "lat_scatter_plot(\"Wind Speed\", \"Wind Speed (mph)\")"
   ]
  },
  {
   "cell_type": "markdown",
   "metadata": {},
   "source": [
    "## Linear Regression"
   ]
  },
  {
   "cell_type": "markdown",
   "metadata": {},
   "source": [
    "####  Northern Hemisphere - Max Temp vs. Latitude Linear Regression"
   ]
  },
  {
   "cell_type": "code",
   "execution_count": 65,
   "metadata": {},
   "outputs": [
    {
     "name": "stdout",
     "output_type": "stream",
     "text": [
      "The r-value is: -0.8926922464151054\n"
     ]
    },
    {
     "data": {
      "image/png": "[encoded data removed]",
      "text/plain": [
       "<Figure size 432x288 with 1 Axes>"
      ]
     },
     "metadata": {
      "needs_background": "light"
     },
     "output_type": "display_data"
    }
   ],
   "source": [
    "# Calculate the correlation coefficient and linear regression model \n",
    "# for mouse weight and average tumor volume for the Capomulin regimen\n",
    "n_hem= weather_df.loc[weather_df[\"Lat\"]> 0.0]\n",
    "\n",
    "x_values = n_hem[\"Lat\"]\n",
    "y_values = n_hem['Max Temp']\n",
    "(slope, intercept, rvalue, pvalue, stderr) = linregress(x_values, y_values)\n",
    "regress_values = x_values * slope + intercept\n",
    "line_eq = \"y = \" + str(round(slope,2)) + \"x + \" + str(round(intercept,2))\n",
    "\n",
    "plt.scatter(x_values,y_values)\n",
    "plt.plot(x_values,regress_values,\"r-\")\n",
    "plt.annotate(line_eq,(6,10),fontsize=15,color=\"red\")\n",
    "\n",
    "plt.xlabel('Latitude')\n",
    "plt.ylabel('Max Temp')\n",
    "print(f\"The r-value is: {rvalue}\")\n",
    "plt.show()\n"
   ]
  },
  {
   "cell_type": "code",
   "execution_count": 25,
   "metadata": {},
   "outputs": [
    {
     "name": "stdout",
     "output_type": "stream",
     "text": [
      "The r-value is: 0.46937863826630627\n"
     ]
    },
    {
     "data": {
      "image/png": "[encoded data removed]",
      "text/plain": [
       "<Figure size 432x288 with 1 Axes>"
      ]
     },
     "metadata": {
      "needs_background": "light"
     },
     "output_type": "display_data"
    }
   ],
   "source": []
  },
  {
   "cell_type": "markdown",
   "metadata": {},
   "source": [
    "####  Southern Hemisphere - Max Temp vs. Latitude Linear Regression"
   ]
  },
  {
   "cell_type": "code",
   "execution_count": 67,
   "metadata": {},
   "outputs": [
    {
     "name": "stdout",
     "output_type": "stream",
     "text": [
      "The r-value is: 0.5037923280357751\n"
     ]
    },
    {
     "data": {
      "image/png": "[encoded data removed]",
      "text/plain": [
       "<Figure size 432x288 with 1 Axes>"
      ]
     },
     "metadata": {
      "needs_background": "light"
     },
     "output_type": "display_data"
    }
   ],
   "source": [
    "s_hem= weather_df.loc[weather_df[\"Lat\"]< 0.0]\n",
    "\n",
    "x_values = s_hem[\"Lat\"]\n",
    "y_values = s_hem['Max Temp']\n",
    "(slope, intercept, rvalue, pvalue, stderr) = linregress(x_values, y_values)\n",
    "regress_values = x_values * slope + intercept\n",
    "line_eq = \"y = \" + str(round(slope,2)) + \"x + \" + str(round(intercept,2))\n",
    "\n",
    "plt.scatter(x_values,y_values)\n",
    "plt.plot(x_values,regress_values,\"r-\")\n",
    "plt.annotate(line_eq,(6,10),fontsize=15,color=\"red\")\n",
    "\n",
    "plt.xlabel('Latitude')\n",
    "plt.ylabel('Max Temp')\n",
    "print(f\"The r-value is: {rvalue}\")\n",
    "plt.show()"
   ]
  },
  {
   "cell_type": "code",
   "execution_count": 26,
   "metadata": {},
   "outputs": [
    {
     "name": "stdout",
     "output_type": "stream",
     "text": [
      "The r-value is: 0.6082708688906918\n"
     ]
    },
    {
     "data": {
      "image/png": "[encoded data removed]",
      "text/plain": [
       "<Figure size 432x288 with 1 Axes>"
      ]
     },
     "metadata": {
      "needs_background": "light"
     },
     "output_type": "display_data"
    }
   ],
   "source": []
  },
  {
   "cell_type": "markdown",
   "metadata": {},
   "source": [
    "####  Northern Hemisphere - Humidity (%) vs. Latitude Linear Regression"
   ]
  },
  {
   "cell_type": "code",
   "execution_count": 27,
   "metadata": {},
   "outputs": [
    {
     "name": "stdout",
     "output_type": "stream",
     "text": [
      "The r-value is: 0.000543987878808455\n"
     ]
    },
    {
     "data": {
      "image/png": "[encoded data removed]",
      "text/plain": [
       "<Figure size 432x288 with 1 Axes>"
      ]
     },
     "metadata": {
      "needs_background": "light"
     },
     "output_type": "display_data"
    }
   ],
   "source": []
  },
  {
   "cell_type": "markdown",
   "metadata": {},
   "source": [
    "####  Southern Hemisphere - Humidity (%) vs. Latitude Linear Regression"
   ]
  },
  {
   "cell_type": "code",
   "execution_count": 28,
   "metadata": {},
   "outputs": [
    {
     "name": "stdout",
     "output_type": "stream",
     "text": [
      "The r-value is: 0.014985174297345524\n"
     ]
    },
    {
     "data": {
      "image/png": "[encoded data removed]",
      "text/plain": [
       "<Figure size 432x288 with 1 Axes>"
      ]
     },
     "metadata": {
      "needs_background": "light"
     },
     "output_type": "display_data"
    }
   ],
   "source": []
  },
  {
   "cell_type": "markdown",
   "metadata": {},
   "source": [
    "####  Northern Hemisphere - Cloudiness (%) vs. Latitude Linear Regression"
   ]
  },
  {
   "cell_type": "code",
   "execution_count": 29,
   "metadata": {},
   "outputs": [
    {
     "name": "stdout",
     "output_type": "stream",
     "text": [
      "The r-value is: 0.0020898727664228514\n"
     ]
    },
    {
     "data": {
      "image/png": "[encoded data removed]",
      "text/plain": [
       "<Figure size 432x288 with 1 Axes>"
      ]
     },
     "metadata": {
      "needs_background": "light"
     },
     "output_type": "display_data"
    }
   ],
   "source": []
  },
  {
   "cell_type": "markdown",
   "metadata": {},
   "source": [
    "####  Southern Hemisphere - Cloudiness (%) vs. Latitude Linear Regression"
   ]
  },
  {
   "cell_type": "code",
   "execution_count": 30,
   "metadata": {},
   "outputs": [
    {
     "name": "stdout",
     "output_type": "stream",
     "text": [
      "The r-value is: 0.0035263772085582894\n"
     ]
    },
    {
     "data": {
      "image/png": "[encoded data removed]",
      "text/plain": [
       "<Figure size 432x288 with 1 Axes>"
      ]
     },
     "metadata": {
      "needs_background": "light"
     },
     "output_type": "display_data"
    }
   ],
   "source": []
  },
  {
   "cell_type": "markdown",
   "metadata": {},
   "source": [
    "####  Northern Hemisphere - Wind Speed (mph) vs. Latitude Linear Regression"
   ]
  },
  {
   "cell_type": "code",
   "execution_count": 31,
   "metadata": {},
   "outputs": [
    {
     "name": "stdout",
     "output_type": "stream",
     "text": [
      "The r-value is: 0.04019723576144484\n"
     ]
    },
    {
     "data": {
      "image/png": "[encoded data removed]",
      "text/plain": [
       "<Figure size 432x288 with 1 Axes>"
      ]
     },
     "metadata": {
      "needs_background": "light"
     },
     "output_type": "display_data"
    }
   ],
   "source": []
  },
  {
   "cell_type": "markdown",
   "metadata": {},
   "source": [
    "####  Southern Hemisphere - Wind Speed (mph) vs. Latitude Linear Regression"
   ]
  },
  {
   "cell_type": "code",
   "execution_count": 32,
   "metadata": {},
   "outputs": [
    {
     "name": "stdout",
     "output_type": "stream",
     "text": [
      "The r-value is: 0.017128274759839232\n"
     ]
    },
    {
     "data": {
      "image/png": "[encoded data removed]",
      "text/plain": [
       "<Figure size 432x288 with 1 Axes>"
      ]
     },
     "metadata": {
      "needs_background": "light"
     },
     "output_type": "display_data"
    }
   ],
   "source": []
  },
  {
   "cell_type": "code",
   "execution_count": null,
   "metadata": {},
   "outputs": [],
   "source": []
  }
 ],
 "metadata": {
  "anaconda-cloud": {},
  "kernel_info": {
   "name": "python3"
  },
  "kernelspec": {
   "display_name": "Python [conda env:PythonData]",
   "language": "python",
   "name": "conda-env-PythonData-py"
  },
  "language_info": {
   "codemirror_mode": {
    "name": "ipython",
    "version": 3
   },
   "file_extension": ".py",
   "mimetype": "text/x-python",
   "name": "python",
   "nbconvert_exporter": "python",
   "pygments_lexer": "ipython3",
   "version": "3.6.10"
  },
  "latex_envs": {
   "LaTeX_envs_menu_present": true,
   "autoclose": false,
   "autocomplete": true,
   "bibliofile": "biblio.bib",
   "cite_by": "apalike",
   "current_citInitial": 1,
   "eqLabelWithNumbers": true,
   "eqNumInitial": 1,
   "hotkeys": {
    "equation": "Ctrl-E",
    "itemize": "Ctrl-I"
   },
   "labels_anchors": false,
   "latex_user_defs": false,
   "report_style_numbering": false,
   "user_envs_cfg": false
  },
  "nteract": {
   "version": "0.12.3"
  }
 },
 "nbformat": 4,
 "nbformat_minor": 2
}
