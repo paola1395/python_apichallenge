{
 "cells": [
  {
   "cell_type": "markdown",
   "metadata": {},
   "source": [
    "# WeatherPy\n",
    "----\n",
    "\n",
    "#### Note\n",
    "* Instructions have been included for each segment. You do not have to follow them exactly, but they are included to help you think through the steps."
   ]
  },
  {
   "cell_type": "markdown",
   "metadata": {},
   "source": [
    "3 OBSERVABLE TRENDS:\n",
    "\n",
    "1) Temperature is the highest slightly below 0 latitude (close to the equator around -20 Lat.). There is a strong negative linear relationship between maximum temperature and latitude in the Northern Hemisphere however there is a weak positive linear relationship in the Southern Hemisphere.\n",
    "2) There is a very weak positive linear relationship between humidity percentage and latitude in both hemispheres.\n",
    "3) There are no/extremely weak linear relationships between cloudiness percentage/wind speed and latitude in both hemispheres."
   ]
  },
  {
   "cell_type": "code",
   "execution_count": 2,
   "metadata": {},
   "outputs": [
    {
     "name": "stdout",
     "output_type": "stream",
     "text": [
      "Collecting citipy\n",
      "  Using cached citipy-0.0.5.tar.gz (557 kB)\n",
      "Collecting kdtree>=0.12\n",
      "  Using cached kdtree-0.16-py2.py3-none-any.whl (7.7 kB)\n",
      "Building wheels for collected packages: citipy\n",
      "  Building wheel for citipy (setup.py): started\n",
      "  Building wheel for citipy (setup.py): finished with status 'done'\n",
      "  Created wheel for citipy: filename=citipy-0.0.5-py3-none-any.whl size=559707 sha256=b51d13ba3e75871d5a3028599b0fa3b39c614a2215ead305acf1a21e75ea673a\n",
      "  Stored in directory: c:\\users\\alext\\appdata\\local\\pip\\cache\\wheels\\eb\\07\\14\\1c448d9fabf3aceac66270933ecae15693974a1b7f91266841\n",
      "Successfully built citipy\n",
      "Installing collected packages: kdtree, citipy\n",
      "Successfully installed citipy-0.0.5 kdtree-0.16\n"
     ]
    }
   ],
   "source": [
    "#!pip install citipy"
   ]
  },
  {
   "cell_type": "code",
   "execution_count": 68,
   "metadata": {
    "scrolled": true
   },
   "outputs": [],
   "source": [
    "# Dependencies and Setup\n",
    "import matplotlib.pyplot as plt\n",
    "import pandas as pd\n",
    "import numpy as np\n",
    "import requests\n",
    "import time\n",
    "import json\n",
    "from scipy.stats import linregress\n",
    "\n",
    "# Import API key\n",
    "from api_keys import weather_api_key\n",
    "\n",
    "# Incorporated citipy to determine city based on latitude and longitude\n",
    "from citipy import citipy\n",
    "\n",
    "# Output File (CSV)\n",
    "output_data_file = \"output_data/cities.csv\"\n",
    "\n",
    "# Range of latitudes and longitudes\n",
    "lat_range = (-90, 90)\n",
    "lng_range = (-180, 180)"
   ]
  },
  {
   "cell_type": "markdown",
   "metadata": {},
   "source": [
    "## Generate Cities List"
   ]
  },
  {
   "cell_type": "code",
   "execution_count": 69,
   "metadata": {},
   "outputs": [
    {
     "data": {
      "text/plain": [
       "601"
      ]
     },
     "execution_count": 69,
     "metadata": {},
     "output_type": "execute_result"
    }
   ],
   "source": [
    "# List for holding lat_lngs and cities\n",
    "lat_lngs = []\n",
    "cities = []\n",
    "\n",
    "# Create a set of random lat and lng combinations\n",
    "lats = np.random.uniform(lat_range[0], lat_range[1], size=1500)\n",
    "lngs = np.random.uniform(lng_range[0], lng_range[1], size=1500)\n",
    "lat_lngs = zip(lats, lngs)\n",
    "\n",
    "# Identify nearest city for each lat, lng combination\n",
    "for lat_lng in lat_lngs:\n",
    "    city = citipy.nearest_city(lat_lng[0], lat_lng[1]).city_name\n",
    "    \n",
    "    # If the city is unique, then add it to a our cities list\n",
    "    if city not in cities:\n",
    "        cities.append(city)\n",
    "\n",
    "# Print the city count to confirm sufficient count\n",
    "len(cities)"
   ]
  },
  {
   "cell_type": "markdown",
   "metadata": {},
   "source": [
    "### Perform API Calls\n",
    "* Perform a weather check on each city using a series of successive API calls.\n",
    "* Include a print log of each city as it'sbeing processed (with the city number and city name).\n"
   ]
  },
  {
   "cell_type": "code",
   "execution_count": 70,
   "metadata": {},
   "outputs": [
    {
     "name": "stdout",
     "output_type": "stream",
     "text": [
      "Beginning Data Retrieval\n",
      "------------------------------\n",
      "Processing Record 1 of Set 1  | Rikitea\n",
      "Processing Record 2 of Set 1  | Goderich\n",
      "City not found. Skipping...\n",
      "Processing Record 3 of Set 1  | Cabadiangan\n",
      "Processing Record 4 of Set 1  | Nouadhibou\n",
      "Processing Record 5 of Set 1  | Saldanha\n",
      "Processing Record 6 of Set 1  | Fortuna\n",
      "Processing Record 7 of Set 1  | Mount Gambier\n",
      "Processing Record 8 of Set 1  | Jangaon\n",
      "Processing Record 9 of Set 1  | Puerto Ayora\n",
      "Processing Record 10 of Set 1  | Souillac\n",
      "Processing Record 11 of Set 1  | Talnakh\n",
      "Processing Record 12 of Set 1  | George Town\n",
      "Processing Record 13 of Set 1  | Guanay\n",
      "Processing Record 14 of Set 1  | Butaritari\n",
      "Processing Record 15 of Set 1  | Burgos\n",
      "Processing Record 16 of Set 1  | Bluff\n",
      "Processing Record 17 of Set 1  | Albany\n",
      "Processing Record 18 of Set 1  | Mount Isa\n",
      "Processing Record 19 of Set 1  | Jilib\n",
      "City not found. Skipping...\n",
      "City not found. Skipping...\n",
      "Processing Record 20 of Set 1  | Chilca\n",
      "Processing Record 21 of Set 1  | Acarí\n",
      "Processing Record 22 of Set 1  | Punta Arenas\n",
      "Processing Record 23 of Set 1  | Umluj\n",
      "Processing Record 24 of Set 1  | Yellowknife\n",
      "Processing Record 25 of Set 1  | Tura\n",
      "Processing Record 26 of Set 1  | Ushuaia\n",
      "Processing Record 27 of Set 1  | Jamestown\n",
      "Processing Record 28 of Set 1  | Hong Kong\n",
      "Processing Record 29 of Set 1  | Marsh Harbour\n",
      "Processing Record 30 of Set 1  | Bambous Virieux\n",
      "Processing Record 31 of Set 1  | Vaini\n",
      "Processing Record 32 of Set 1  | Klaksvík\n",
      "Processing Record 33 of Set 1  | Wagga Wagga\n",
      "Processing Record 34 of Set 1  | Esim\n",
      "Processing Record 35 of Set 1  | Mataura\n",
      "Processing Record 36 of Set 1  | Kiama\n",
      "Processing Record 37 of Set 1  | Hofn\n",
      "Processing Record 38 of Set 1  | Bredasdorp\n",
      "Processing Record 39 of Set 1  | Qaanaaq\n",
      "Processing Record 40 of Set 1  | Chui\n",
      "Processing Record 41 of Set 1  | Kemalpaşa\n",
      "Processing Record 42 of Set 1  | Margate\n",
      "Processing Record 43 of Set 1  | Port Alfred\n",
      "Processing Record 44 of Set 1  | Zhigansk\n",
      "Processing Record 45 of Set 1  | Chennai\n",
      "Processing Record 46 of Set 1  | Baruun-Urt\n",
      "Processing Record 47 of Set 1  | San Quintín\n",
      "Processing Record 48 of Set 1  | Westport\n",
      "Processing Record 49 of Set 1  | Road Town\n",
      "City not found. Skipping...\n",
      "Processing Record 50 of Set 1  | Atuona\n",
      "Processing Record 1 of Set 2  | Laas\n",
      "Processing Record 2 of Set 2  | Mahébourg\n",
      "Processing Record 3 of Set 2  | Muslyumovo\n",
      "Processing Record 4 of Set 2  | Komatipoort\n",
      "Processing Record 5 of Set 2  | Mar del Plata\n",
      "Processing Record 6 of Set 2  | Dingle\n",
      "Processing Record 7 of Set 2  | Yangi Marg`ilon\n",
      "Processing Record 8 of Set 2  | Rochegda\n",
      "Processing Record 9 of Set 2  | Port Keats\n",
      "Processing Record 10 of Set 2  | Batagay-Alyta\n",
      "Processing Record 11 of Set 2  | Nikolskoye\n",
      "Processing Record 12 of Set 2  | Bethel\n",
      "Processing Record 13 of Set 2  | Fairbanks\n",
      "Processing Record 14 of Set 2  | Hambantota\n",
      "Processing Record 15 of Set 2  | Saint-Philippe\n",
      "Processing Record 16 of Set 2  | Jermuk\n",
      "Processing Record 17 of Set 2  | Luganville\n",
      "Processing Record 18 of Set 2  | Esperance\n",
      "Processing Record 19 of Set 2  | Barrow\n",
      "Processing Record 20 of Set 2  | Castro\n",
      "Processing Record 21 of Set 2  | Tasiilaq\n",
      "Processing Record 22 of Set 2  | Ostrovnoy\n",
      "Processing Record 23 of Set 2  | Hithadhoo\n",
      "City not found. Skipping...\n",
      "Processing Record 24 of Set 2  | Kahului\n",
      "Processing Record 25 of Set 2  | Ponta do Sol\n",
      "Processing Record 26 of Set 2  | Hamilton\n",
      "Processing Record 27 of Set 2  | Dunedin\n",
      "Processing Record 28 of Set 2  | San Felipe\n",
      "Processing Record 29 of Set 2  | Hilo\n",
      "Processing Record 30 of Set 2  | Kiryat Gat\n",
      "Processing Record 31 of Set 2  | Cidreira\n",
      "City not found. Skipping...\n",
      "Processing Record 32 of Set 2  | Salinópolis\n",
      "Processing Record 33 of Set 2  | Wau\n",
      "Processing Record 34 of Set 2  | Provideniya\n",
      "City not found. Skipping...\n",
      "Processing Record 35 of Set 2  | Verkhnetulomskiy\n",
      "Processing Record 36 of Set 2  | Torbay\n",
      "City not found. Skipping...\n",
      "Processing Record 37 of Set 2  | Waingapu\n",
      "Processing Record 38 of Set 2  | Kavieng\n",
      "Processing Record 39 of Set 2  | Kuruman\n",
      "Processing Record 40 of Set 2  | Arraial do Cabo\n",
      "Processing Record 41 of Set 2  | Otane\n",
      "City not found. Skipping...\n",
      "Processing Record 42 of Set 2  | Abnūb\n",
      "Processing Record 43 of Set 2  | Itimādpur\n",
      "Processing Record 44 of Set 2  | Aksu\n",
      "Processing Record 45 of Set 2  | Tuktoyaktuk\n",
      "Processing Record 46 of Set 2  | Aswān\n",
      "Processing Record 47 of Set 2  | Barcelos\n",
      "Processing Record 48 of Set 2  | Port Hedland\n",
      "Processing Record 49 of Set 2  | Hermanus\n",
      "City not found. Skipping...\n",
      "Processing Record 50 of Set 2  | Linxia Chengguanzhen\n",
      "Processing Record 1 of Set 3  | Necochea\n",
      "Processing Record 2 of Set 3  | Hobart\n",
      "City not found. Skipping...\n",
      "Processing Record 3 of Set 3  | Kangaatsiaq\n",
      "Processing Record 4 of Set 3  | Sola\n",
      "Processing Record 5 of Set 3  | Samarai\n",
      "Processing Record 6 of Set 3  | Severo-Kuril'sk\n",
      "Processing Record 7 of Set 3  | Kapaa\n",
      "Processing Record 8 of Set 3  | Nishihara\n",
      "Processing Record 9 of Set 3  | Lavrentiya\n",
      "Processing Record 10 of Set 3  | Zharkent\n",
      "City not found. Skipping...\n",
      "Processing Record 11 of Set 3  | Ancud\n",
      "Processing Record 12 of Set 3  | Khatanga\n",
      "Processing Record 13 of Set 3  | Arusha\n",
      "Processing Record 14 of Set 3  | Tiksi\n",
      "Processing Record 15 of Set 3  | Cockburn Town\n",
      "Processing Record 16 of Set 3  | Airai\n",
      "Processing Record 17 of Set 3  | New Norfolk\n",
      "Processing Record 18 of Set 3  | Cape Town\n",
      "Processing Record 19 of Set 3  | Piranshahr\n",
      "Processing Record 20 of Set 3  | Geraldton\n",
      "Processing Record 21 of Set 3  | Bolama\n",
      "Processing Record 22 of Set 3  | Duki\n",
      "Processing Record 23 of Set 3  | Pozo Colorado\n",
      "Processing Record 24 of Set 3  | Krasnosel'kup\n",
      "Processing Record 25 of Set 3  | Caledon\n",
      "Processing Record 26 of Set 3  | Dikson\n",
      "Processing Record 27 of Set 3  | Belmonte\n",
      "Processing Record 28 of Set 3  | Lompoc\n",
      "City not found. Skipping...\n",
      "Processing Record 29 of Set 3  | Port Elizabeth\n",
      "City not found. Skipping...\n",
      "Processing Record 30 of Set 3  | Cherskiy\n",
      "Processing Record 31 of Set 3  | Faanui\n",
      "Processing Record 32 of Set 3  | Hasaki\n",
      "Processing Record 33 of Set 3  | Tombouctou\n",
      "Processing Record 34 of Set 3  | Erdenet\n",
      "Processing Record 35 of Set 3  | Cabo San Lucas\n",
      "Processing Record 36 of Set 3  | Coquimbo\n",
      "Processing Record 37 of Set 3  | Busselton\n",
      "Processing Record 38 of Set 3  | Mossamedes\n",
      "Processing Record 39 of Set 3  | Samoded\n",
      "Processing Record 40 of Set 3  | Kyotera\n",
      "Processing Record 41 of Set 3  | St. George's\n",
      "Processing Record 42 of Set 3  | Ximeicun\n",
      "Processing Record 43 of Set 3  | Turan\n",
      "Processing Record 44 of Set 3  | Liwale\n",
      "Processing Record 45 of Set 3  | Douglas\n",
      "Processing Record 46 of Set 3  | East London\n",
      "Processing Record 47 of Set 3  | Rocha\n",
      "Processing Record 48 of Set 3  | Tiarei\n",
      "Processing Record 49 of Set 3  | Rovaniemi\n",
      "City not found. Skipping...\n",
      "Processing Record 50 of Set 3  | Mitú\n",
      "Processing Record 1 of Set 4  | Aloleng\n",
      "Processing Record 2 of Set 4  | Olafsvik\n",
      "Processing Record 3 of Set 4  | Weihai\n",
      "Processing Record 4 of Set 4  | Stutterheim\n",
      "Processing Record 5 of Set 4  | San Juan\n",
      "Processing Record 6 of Set 4  | Muisne\n",
      "Processing Record 7 of Set 4  | Guerrero Negro\n",
      "Processing Record 8 of Set 4  | Gīdolē\n",
      "Processing Record 9 of Set 4  | Evensk\n",
      "Processing Record 10 of Set 4  | Muzhi\n",
      "Processing Record 11 of Set 4  | Bonthe\n",
      "Processing Record 12 of Set 4  | Ahipara\n",
      "Processing Record 13 of Set 4  | Kununurra\n",
      "Processing Record 14 of Set 4  | Mutsu\n",
      "Processing Record 15 of Set 4  | Abu Kamal\n",
      "City not found. Skipping...\n",
      "Processing Record 16 of Set 4  | Saint George\n",
      "Processing Record 17 of Set 4  | Avarua\n",
      "Processing Record 18 of Set 4  | Camaná\n",
      "Processing Record 19 of Set 4  | São João da Barra\n",
      "Processing Record 20 of Set 4  | Grindavik\n",
      "Processing Record 21 of Set 4  | Sørland\n",
      "Processing Record 22 of Set 4  | Beloha\n",
      "Processing Record 23 of Set 4  | Pitsunda\n",
      "Processing Record 24 of Set 4  | Silveira\n",
      "Processing Record 25 of Set 4  | Khorixas\n",
      "Processing Record 26 of Set 4  | Sur\n",
      "Processing Record 27 of Set 4  | Bobiceşti\n",
      "Processing Record 28 of Set 4  | Keti Bandar\n",
      "Processing Record 29 of Set 4  | Kahama\n",
      "Processing Record 30 of Set 4  | Edd\n",
      "Processing Record 31 of Set 4  | Carnarvon\n",
      "Processing Record 32 of Set 4  | Leningradskiy\n",
      "Processing Record 33 of Set 4  | Haverhill\n"
     ]
    },
    {
     "name": "stdout",
     "output_type": "stream",
     "text": [
      "Processing Record 34 of Set 4  | Te Anau\n",
      "Processing Record 35 of Set 4  | El Copé\n",
      "Processing Record 36 of Set 4  | Omboué\n",
      "Processing Record 37 of Set 4  | Cayenne\n",
      "Processing Record 38 of Set 4  | Chokurdakh\n",
      "Processing Record 39 of Set 4  | Kerewan\n",
      "Processing Record 40 of Set 4  | Venezuela\n",
      "Processing Record 41 of Set 4  | Pangnirtung\n",
      "Processing Record 42 of Set 4  | Saint-François\n",
      "Processing Record 43 of Set 4  | Kaitangata\n",
      "Processing Record 44 of Set 4  | Half Moon Bay\n",
      "Processing Record 45 of Set 4  | Sioux Lookout\n",
      "Processing Record 46 of Set 4  | Vazante\n",
      "City not found. Skipping...\n",
      "Processing Record 47 of Set 4  | Saquarema\n",
      "Processing Record 48 of Set 4  | Grand-Santi\n",
      "Processing Record 49 of Set 4  | Norman Wells\n",
      "Processing Record 50 of Set 4  | Touros\n",
      "Processing Record 1 of Set 5  | Nizhniy Kuranakh\n",
      "Processing Record 2 of Set 5  | Shahrud\n",
      "City not found. Skipping...\n",
      "Processing Record 3 of Set 5  | Acaraú\n",
      "City not found. Skipping...\n",
      "Processing Record 4 of Set 5  | Kloulklubed\n",
      "Processing Record 5 of Set 5  | Bone\n",
      "Processing Record 6 of Set 5  | Carutapera\n",
      "Processing Record 7 of Set 5  | Danielskuil\n",
      "Processing Record 8 of Set 5  | Codrington\n",
      "Processing Record 9 of Set 5  | Inírida\n",
      "Processing Record 10 of Set 5  | Veinticinco de Mayo\n",
      "Processing Record 11 of Set 5  | Lascahobas\n",
      "Processing Record 12 of Set 5  | Potamiá\n",
      "Processing Record 13 of Set 5  | Davila\n",
      "Processing Record 14 of Set 5  | Yulara\n",
      "Processing Record 15 of Set 5  | Pevek\n",
      "Processing Record 16 of Set 5  | Fukuechō\n",
      "Processing Record 17 of Set 5  | Peniche\n",
      "Processing Record 18 of Set 5  | Okhotsk\n",
      "Processing Record 19 of Set 5  | Beaver Falls\n",
      "Processing Record 20 of Set 5  | Caravelas\n",
      "City not found. Skipping...\n",
      "City not found. Skipping...\n",
      "Processing Record 21 of Set 5  | Conway\n",
      "Processing Record 22 of Set 5  | Upernavik\n",
      "Processing Record 23 of Set 5  | Lapeer\n",
      "Processing Record 24 of Set 5  | Sitka\n",
      "Processing Record 25 of Set 5  | Gemeente Zeewolde\n",
      "Processing Record 26 of Set 5  | Lyuban'\n",
      "Processing Record 27 of Set 5  | Petukhovo\n",
      "Processing Record 28 of Set 5  | Longyearbyen\n",
      "Processing Record 29 of Set 5  | Coronado\n",
      "Processing Record 30 of Set 5  | Clonakilty\n",
      "Processing Record 31 of Set 5  | Sainte-Claire\n",
      "Processing Record 32 of Set 5  | Bambanglipuro\n",
      "Processing Record 33 of Set 5  | Mogadishu\n",
      "Processing Record 34 of Set 5  | Namatanai\n",
      "City not found. Skipping...\n",
      "Processing Record 35 of Set 5  | Goroka\n",
      "Processing Record 36 of Set 5  | Tautira\n",
      "Processing Record 37 of Set 5  | Vardø\n",
      "Processing Record 38 of Set 5  | Graciano Sánchez\n",
      "Processing Record 39 of Set 5  | Katobu\n",
      "Processing Record 40 of Set 5  | Le Port\n",
      "Processing Record 41 of Set 5  | Indiaroba\n",
      "Processing Record 42 of Set 5  | Ternate\n",
      "City not found. Skipping...\n",
      "Processing Record 43 of Set 5  | College\n",
      "Processing Record 44 of Set 5  | Moïssala\n",
      "Processing Record 45 of Set 5  | Kaiwaka\n",
      "Processing Record 46 of Set 5  | Forssa\n",
      "Processing Record 47 of Set 5  | Kutum\n",
      "City not found. Skipping...\n",
      "Processing Record 48 of Set 5  | Broome\n",
      "City not found. Skipping...\n",
      "Processing Record 49 of Set 5  | Terrace\n",
      "Processing Record 50 of Set 5  | Clyde River\n",
      "Processing Record 1 of Set 6  | Ukiah\n",
      "Processing Record 2 of Set 6  | Lorengau\n",
      "Processing Record 3 of Set 6  | Saint-Augustin\n",
      "Processing Record 4 of Set 6  | Karratha\n",
      "Processing Record 5 of Set 6  | Zyryanka\n",
      "Processing Record 6 of Set 6  | Severnyy\n",
      "Processing Record 7 of Set 6  | Mana\n",
      "Processing Record 8 of Set 6  | Yashan\n",
      "Processing Record 9 of Set 6  | Yamethin\n",
      "Processing Record 10 of Set 6  | Wanning\n",
      "Processing Record 11 of Set 6  | Majene\n",
      "Processing Record 12 of Set 6  | Brigantine\n",
      "Processing Record 13 of Set 6  | Thompson\n",
      "Processing Record 14 of Set 6  | Pastavy\n",
      "Processing Record 15 of Set 6  | Betsiamites\n",
      "Processing Record 16 of Set 6  | Seminole\n",
      "Processing Record 17 of Set 6  | Dīnhāta\n",
      "Processing Record 18 of Set 6  | Champerico\n",
      "Processing Record 19 of Set 6  | Saint-Pierre\n",
      "Processing Record 20 of Set 6  | Kavaratti\n",
      "Processing Record 21 of Set 6  | Faya\n",
      "Processing Record 22 of Set 6  | São José da Coroa Grande\n",
      "Processing Record 23 of Set 6  | Udachny\n",
      "Processing Record 24 of Set 6  | Baksan\n",
      "Processing Record 25 of Set 6  | Bubaque\n",
      "Processing Record 26 of Set 6  | Vestmannaeyjar\n",
      "Processing Record 27 of Set 6  | Maple Creek\n",
      "Processing Record 28 of Set 6  | Saint-Leu\n",
      "Processing Record 29 of Set 6  | Ilulissat\n",
      "Processing Record 30 of Set 6  | São Gabriel da Cachoeira\n",
      "Processing Record 31 of Set 6  | Yerbogachën\n",
      "Processing Record 32 of Set 6  | Noormarkku\n",
      "Processing Record 33 of Set 6  | Emerald\n",
      "Processing Record 34 of Set 6  | Skjervøy\n",
      "Processing Record 35 of Set 6  | Matara\n",
      "Processing Record 36 of Set 6  | Barentu\n",
      "City not found. Skipping...\n",
      "Processing Record 37 of Set 6  | Morges\n",
      "Processing Record 38 of Set 6  | Lianzhou\n",
      "Processing Record 39 of Set 6  | Puerto Berrío\n",
      "Processing Record 40 of Set 6  | Saskylakh\n",
      "Processing Record 41 of Set 6  | Agutaya\n",
      "Processing Record 42 of Set 6  | Ziyang\n",
      "Processing Record 43 of Set 6  | Lebu\n",
      "Processing Record 44 of Set 6  | San Roque\n",
      "Processing Record 45 of Set 6  | Sulat\n",
      "Processing Record 46 of Set 6  | Altay\n",
      "Processing Record 47 of Set 6  | High Level\n",
      "Processing Record 48 of Set 6  | Bucerías\n",
      "Processing Record 49 of Set 6  | Kimbe\n",
      "Processing Record 50 of Set 6  | Beaverlodge\n",
      "Processing Record 1 of Set 7  | Biak\n",
      "Processing Record 2 of Set 7  | Mugan\n",
      "Processing Record 3 of Set 7  | Houma\n",
      "Processing Record 4 of Set 7  | San Vicente\n",
      "Processing Record 5 of Set 7  | Río Gallegos\n",
      "Processing Record 6 of Set 7  | Richards Bay\n",
      "Processing Record 7 of Set 7  | Parāsia\n",
      "Processing Record 8 of Set 7  | Buraidah\n",
      "Processing Record 9 of Set 7  | Tilichiki\n",
      "Processing Record 10 of Set 7  | Puerto Lleras\n",
      "Processing Record 11 of Set 7  | Southbridge\n",
      "Processing Record 12 of Set 7  | Ures\n",
      "City not found. Skipping...\n",
      "City not found. Skipping...\n",
      "Processing Record 13 of Set 7  | Siocon\n",
      "Processing Record 14 of Set 7  | Chapais\n",
      "Processing Record 15 of Set 7  | Sechura\n",
      "Processing Record 16 of Set 7  | Gunjur\n",
      "Processing Record 17 of Set 7  | Homa Bay\n",
      "Processing Record 18 of Set 7  | Padang\n",
      "Processing Record 19 of Set 7  | Tamala\n",
      "Processing Record 20 of Set 7  | Cortez\n",
      "Processing Record 21 of Set 7  | San Patricio\n",
      "Processing Record 22 of Set 7  | Morón\n",
      "Processing Record 23 of Set 7  | Māngrol\n",
      "Processing Record 24 of Set 7  | Asău\n",
      "Processing Record 25 of Set 7  | Kruisfontein\n",
      "Processing Record 26 of Set 7  | La Paz\n",
      "Processing Record 27 of Set 7  | Máncora\n",
      "Processing Record 28 of Set 7  | Williamsport\n",
      "Processing Record 29 of Set 7  | Abū Zabad\n",
      "Processing Record 30 of Set 7  | Nantucket\n",
      "City not found. Skipping...\n",
      "Processing Record 31 of Set 7  | Magdagachi\n",
      "Processing Record 32 of Set 7  | Ossora\n",
      "City not found. Skipping...\n",
      "Processing Record 33 of Set 7  | Vila Velha\n",
      "Processing Record 34 of Set 7  | Garoowe\n",
      "Processing Record 35 of Set 7  | Manzanillo\n",
      "Processing Record 36 of Set 7  | Port Lincoln\n",
      "Processing Record 37 of Set 7  | Turiaçu\n",
      "Processing Record 38 of Set 7  | Gelnica\n",
      "Processing Record 39 of Set 7  | Quelimane\n",
      "Processing Record 40 of Set 7  | Vaitape\n",
      "Processing Record 41 of Set 7  | Bandarbeyla\n",
      "Processing Record 42 of Set 7  | Ribeira Grande\n",
      "Processing Record 43 of Set 7  | Lüderitz\n",
      "Processing Record 44 of Set 7  | Hualmay\n",
      "Processing Record 45 of Set 7  | São Filipe\n",
      "Processing Record 46 of Set 7  | Vao\n",
      "City not found. Skipping...\n",
      "Processing Record 47 of Set 7  | Noumea\n",
      "City not found. Skipping...\n",
      "Processing Record 48 of Set 7  | Paamiut\n",
      "Processing Record 49 of Set 7  | Kamiiso\n",
      "Processing Record 50 of Set 7  | Manokwari\n",
      "Processing Record 1 of Set 8  | West Bay\n",
      "Processing Record 2 of Set 8  | Huarmey\n",
      "City not found. Skipping...\n",
      "City not found. Skipping...\n",
      "Processing Record 3 of Set 8  | Constitución\n",
      "Processing Record 4 of Set 8  | Berezyne\n",
      "Processing Record 5 of Set 8  | Challapata\n",
      "Processing Record 6 of Set 8  | Nālūt\n",
      "Processing Record 7 of Set 8  | Praxédis Guerrero\n",
      "Processing Record 8 of Set 8  | Bengkulu\n",
      "Processing Record 9 of Set 8  | Lagoa\n",
      "Processing Record 10 of Set 8  | Nome\n",
      "Processing Record 11 of Set 8  | Eyl\n",
      "Processing Record 12 of Set 8  | Fayaoué\n",
      "Processing Record 13 of Set 8  | Srikakulam\n",
      "Processing Record 14 of Set 8  | Gijang\n",
      "Processing Record 15 of Set 8  | Acapulco de Juárez\n"
     ]
    },
    {
     "name": "stdout",
     "output_type": "stream",
     "text": [
      "Processing Record 16 of Set 8  | Tuatapere\n",
      "Processing Record 17 of Set 8  | Babu\n",
      "Processing Record 18 of Set 8  | Shache\n",
      "Processing Record 19 of Set 8  | Fairlie\n",
      "Processing Record 20 of Set 8  | Vila\n",
      "Processing Record 21 of Set 8  | Gilgit\n",
      "Processing Record 22 of Set 8  | Wangaratta\n",
      "Processing Record 23 of Set 8  | Ushtobe\n",
      "Processing Record 24 of Set 8  | Irituia\n",
      "City not found. Skipping...\n",
      "Processing Record 25 of Set 8  | Iqaluit\n",
      "Processing Record 26 of Set 8  | Khovd\n",
      "City not found. Skipping...\n",
      "Processing Record 27 of Set 8  | Nanga Eboko\n",
      "Processing Record 28 of Set 8  | Mersing\n",
      "Processing Record 29 of Set 8  | Baloda Bāzār\n",
      "Processing Record 30 of Set 8  | Luau\n",
      "Processing Record 31 of Set 8  | Nelson Bay\n",
      "Processing Record 32 of Set 8  | Keningau\n",
      "Processing Record 33 of Set 8  | Korāput\n",
      "Processing Record 34 of Set 8  | Morondava\n",
      "Processing Record 35 of Set 8  | Tromsø\n",
      "Processing Record 36 of Set 8  | Yar-Sale\n",
      "Processing Record 37 of Set 8  | Atbasar\n",
      "Processing Record 38 of Set 8  | Porto União\n",
      "Processing Record 39 of Set 8  | Peleduy\n",
      "Processing Record 40 of Set 8  | Camden\n",
      "Processing Record 41 of Set 8  | Emporia\n",
      "Processing Record 42 of Set 8  | Kirakira\n",
      "Processing Record 43 of Set 8  | Daphne\n",
      "Processing Record 44 of Set 8  | Pelym\n",
      "Processing Record 45 of Set 8  | Kamari\n",
      "Processing Record 46 of Set 8  | Aksay\n",
      "Processing Record 47 of Set 8  | Rurrenabaque\n",
      "Processing Record 48 of Set 8  | Saint Paul Harbor\n",
      "Processing Record 49 of Set 8  | Pisco\n",
      "Processing Record 50 of Set 8  | Poum\n",
      "Processing Record 1 of Set 9  | Mali\n",
      "Processing Record 2 of Set 9  | Omsukchan\n",
      "Processing Record 3 of Set 9  | San Cristobal\n",
      "Processing Record 4 of Set 9  | Sohag\n",
      "City not found. Skipping...\n",
      "Processing Record 5 of Set 9  | Carmo do Paranaíba\n",
      "Processing Record 6 of Set 9  | Siirt\n",
      "Processing Record 7 of Set 9  | Arlit\n",
      "Processing Record 8 of Set 9  | Vostok\n",
      "Processing Record 9 of Set 9  | Marsaxlokk\n",
      "Processing Record 10 of Set 9  | Iskateley\n",
      "Processing Record 11 of Set 9  | Sępólno Krajeńskie\n",
      "Processing Record 12 of Set 9  | Kudahuvadhoo\n",
      "Processing Record 13 of Set 9  | Aklavik\n",
      "Processing Record 14 of Set 9  | Olinda\n",
      "Processing Record 15 of Set 9  | Katsuura\n",
      "Processing Record 16 of Set 9  | Santa Cruz de la Sierra\n",
      "Processing Record 17 of Set 9  | Ulaanbaatar\n",
      "Processing Record 18 of Set 9  | Kungurtug\n",
      "Processing Record 19 of Set 9  | Abbeville\n",
      "Processing Record 20 of Set 9  | Jinka\n",
      "Processing Record 21 of Set 9  | Aojiang\n",
      "Processing Record 22 of Set 9  | Honningsvåg\n",
      "Processing Record 23 of Set 9  | Lashio\n",
      "Processing Record 24 of Set 9  | Saint Anthony\n",
      "Processing Record 25 of Set 9  | Jand\n",
      "Processing Record 26 of Set 9  | Harper\n",
      "Processing Record 27 of Set 9  | Narsaq\n",
      "Processing Record 28 of Set 9  | Mandan\n",
      "Processing Record 29 of Set 9  | Kiunga\n",
      "Processing Record 30 of Set 9  | Soyo\n",
      "Processing Record 31 of Set 9  | Andenes\n",
      "Processing Record 32 of Set 9  | Ndélé\n",
      "Processing Record 33 of Set 9  | Bongor\n",
      "Processing Record 34 of Set 9  | Sirte\n",
      "Processing Record 35 of Set 9  | Wilmington Island\n",
      "Processing Record 36 of Set 9  | Wahiawā\n",
      "Processing Record 37 of Set 9  | Pouembout\n",
      "Processing Record 38 of Set 9  | Korla\n",
      "Processing Record 39 of Set 9  | General Roca\n",
      "Processing Record 40 of Set 9  | Władysławowo\n",
      "Processing Record 41 of Set 9  | Adré\n",
      "Processing Record 42 of Set 9  | Mirny\n",
      "Processing Record 43 of Set 9  | Kodinsk\n",
      "Processing Record 44 of Set 9  | Hauterive\n",
      "Processing Record 45 of Set 9  | Rongcheng\n",
      "Processing Record 46 of Set 9  | Flinders\n",
      "Processing Record 47 of Set 9  | Ugoofaaru\n",
      "Processing Record 48 of Set 9  | Nemuro\n",
      "Processing Record 49 of Set 9  | Yeniseysk\n",
      "Processing Record 50 of Set 9  | Yārāda\n",
      "Processing Record 1 of Set 10  | Cap-aux-Meules\n",
      "City not found. Skipping...\n",
      "Processing Record 2 of Set 10  | Palana\n",
      "Processing Record 3 of Set 10  | Constantine\n",
      "Processing Record 4 of Set 10  | Auki\n",
      "Processing Record 5 of Set 10  | Rumonge\n",
      "Processing Record 6 of Set 10  | Srednekolymsk\n",
      "Processing Record 7 of Set 10  | Pital\n",
      "Processing Record 8 of Set 10  | Los Llanos de Aridane\n",
      "Processing Record 9 of Set 10  | Camacha\n",
      "Processing Record 10 of Set 10  | Carupano\n",
      "City not found. Skipping...\n",
      "Processing Record 11 of Set 10  | Hūn\n",
      "Processing Record 12 of Set 10  | Shanghai\n",
      "Processing Record 13 of Set 10  | Gamba\n",
      "Processing Record 14 of Set 10  | Parrita\n",
      "Processing Record 15 of Set 10  | Carauari\n",
      "Processing Record 16 of Set 10  | Vanimo\n",
      "City not found. Skipping...\n",
      "Processing Record 17 of Set 10  | Aguié\n",
      "Processing Record 18 of Set 10  | Homer\n",
      "Processing Record 19 of Set 10  | Puerto Escondido\n",
      "Processing Record 20 of Set 10  | Clarence Town\n",
      "Processing Record 21 of Set 10  | Pacifica\n",
      "City not found. Skipping...\n",
      "Processing Record 22 of Set 10  | Arrondissement d'Arcachon\n",
      "Processing Record 23 of Set 10  | Grand Gaube\n",
      "Processing Record 24 of Set 10  | Aksarka\n",
      "Processing Record 25 of Set 10  | Bulgan\n",
      "Processing Record 26 of Set 10  | Sūsangerd\n",
      "Processing Record 27 of Set 10  | Waitati\n",
      "Processing Record 28 of Set 10  | Dinghaicun\n",
      "Processing Record 29 of Set 10  | Muyezerskiy\n",
      "Processing Record 30 of Set 10  | Beringovskiy\n",
      "Processing Record 31 of Set 10  | Henties Bay\n",
      "Processing Record 32 of Set 10  | Joshīmath\n",
      "Processing Record 33 of Set 10  | Khiri Mat\n",
      "Processing Record 34 of Set 10  | Hay River\n",
      "Processing Record 35 of Set 10  | Ulaangom\n",
      "Processing Record 36 of Set 10  | Killybegs\n",
      "City not found. Skipping...\n",
      "Processing Record 37 of Set 10  | Kibaya\n",
      "Processing Record 38 of Set 10  | Bouar\n",
      "Processing Record 39 of Set 10  | Mananjary\n",
      "Processing Record 40 of Set 10  | Elko\n",
      "Processing Record 41 of Set 10  | Sibu\n",
      "Processing Record 42 of Set 10  | Scottsbluff\n",
      "Processing Record 43 of Set 10  | Oistins\n",
      "City not found. Skipping...\n",
      "Processing Record 44 of Set 10  | Buckeye\n",
      "Processing Record 45 of Set 10  | Itarema\n",
      "Processing Record 46 of Set 10  | Wamba\n",
      "Processing Record 47 of Set 10  | Dutlwe\n",
      "City not found. Skipping...\n",
      "Processing Record 48 of Set 10  | San Jose\n",
      "Processing Record 49 of Set 10  | La Rioja\n",
      "Processing Record 50 of Set 10  | Wilmington\n",
      "City not found. Skipping...\n",
      "Processing Record 1 of Set 11  | Salalah\n",
      "City not found. Skipping...\n",
      "Processing Record 2 of Set 11  | Alanya\n",
      "Processing Record 3 of Set 11  | ‘Āhuimanu\n",
      "Processing Record 4 of Set 11  | Kalabo\n",
      "City not found. Skipping...\n",
      "Processing Record 5 of Set 11  | Jalu\n",
      "Processing Record 6 of Set 11  | Mozarlândia\n",
      "Processing Record 7 of Set 11  | Inhambane\n",
      "Processing Record 8 of Set 11  | Sambava\n",
      "Processing Record 9 of Set 11  | Los Algarrobos\n",
      "Processing Record 10 of Set 11  | Husavik\n",
      "Processing Record 11 of Set 11  | Agüimes\n",
      "Processing Record 12 of Set 11  | Vanavara\n",
      "Processing Record 13 of Set 11  | Catumbela\n",
      "Processing Record 14 of Set 11  | Abu Dhabi\n",
      "Processing Record 15 of Set 11  | Taoudenni\n",
      "Processing Record 16 of Set 11  | Tocopilla\n",
      "City not found. Skipping...\n",
      "Processing Record 17 of Set 11  | Broken Hill\n",
      "Processing Record 18 of Set 11  | São Marcos\n",
      "Processing Record 19 of Set 11  | Diego de Almagro\n",
      "Processing Record 20 of Set 11  | Tazovsky\n",
      "Processing Record 21 of Set 11  | Arrondissement de Thonon-les-Bains\n",
      "Processing Record 22 of Set 11  | Alekseyevsk\n",
      "Processing Record 23 of Set 11  | Makakilo City\n",
      "Processing Record 24 of Set 11  | Kholmogory\n",
      "Processing Record 25 of Set 11  | Maragogi\n",
      "Processing Record 26 of Set 11  | Abong Mbang\n",
      "Processing Record 27 of Set 11  | Ouadda\n",
      "Processing Record 28 of Set 11  | Haines Junction\n",
      "Processing Record 29 of Set 11  | Kim\n",
      "City not found. Skipping...\n",
      "Processing Record 30 of Set 11  | Urucará\n",
      "Processing Record 31 of Set 11  | Verkhnevilyuysk\n",
      "Processing Record 32 of Set 11  | Sabha\n",
      "Processing Record 33 of Set 11  | Manacapuru\n",
      "Processing Record 34 of Set 11  | Roald\n",
      "Processing Record 35 of Set 11  | Mīnāb\n",
      "Processing Record 36 of Set 11  | Along\n",
      "Processing Record 37 of Set 11  | Laredo\n",
      "Processing Record 38 of Set 11  | Beidao\n",
      "Processing Record 39 of Set 11  | Savinskiy\n",
      "Processing Record 40 of Set 11  | Karatuzskoye\n",
      "Processing Record 41 of Set 11  | Markova\n",
      "Processing Record 42 of Set 11  | Äänekoski\n",
      "Processing Record 43 of Set 11  | Semnan\n",
      "City not found. Skipping...\n",
      "Processing Record 44 of Set 11  | Fuyang\n",
      "Processing Record 45 of Set 11  | Nanortalik\n",
      "Processing Record 46 of Set 11  | La Tuque\n"
     ]
    },
    {
     "name": "stdout",
     "output_type": "stream",
     "text": [
      "Processing Record 47 of Set 11  | Ixtapa\n",
      "Processing Record 48 of Set 11  | Chernyshevskiy\n",
      "City not found. Skipping...\n",
      "Processing Record 49 of Set 11  | Bairiki Village\n",
      "Processing Record 50 of Set 11  | Al Bardīyah\n"
     ]
    }
   ],
   "source": [
    "url = \"http://api.openweathermap.org/data/2.5/weather?units=Imperial&APPID=\" + weather_api_key \n",
    "\n",
    "city_name = []\n",
    "lat = []\n",
    "lng = []\n",
    "max_temp = []\n",
    "humidity = []\n",
    "cloudiness = []\n",
    "wind_speed = []\n",
    "country = []\n",
    "date = []\n",
    "\n",
    "\n",
    "record = 1\n",
    "city_record= 1\n",
    "\n",
    "# Header print statement\n",
    "print(f\"Beginning Data Retrieval\")\n",
    "print(f\"-\"*30)\n",
    "\n",
    "#Loop through the cities in the city list by making requests and storing response\n",
    "for city in cities:\n",
    "    try:\n",
    "        response = requests.get(f\"{url}&q={city}\").json() \n",
    "        #print(response)\n",
    "        city_name.append(response[\"name\"])\n",
    "        cloudiness.append(response[\"clouds\"][\"all\"])\n",
    "        country.append(response[\"sys\"][\"country\"])\n",
    "        date.append(response[\"dt\"])\n",
    "        humidity.append(response[\"main\"][\"humidity\"])\n",
    "        max_temp.append(response[\"main\"][\"temp_max\"])\n",
    "        lat.append(response[\"coord\"][\"lat\"])\n",
    "        lng.append(response[\"coord\"][\"lon\"])\n",
    "        wind_speed.append(response[\"wind\"][\"speed\"])\n",
    "        #city_record = response[\"name\"]\n",
    "        \n",
    "        \n",
    "        print(f\"Processing Record {record} of Set {city_record}  | {response ['name']}\")\n",
    "\n",
    "        \n",
    "        if record == 50 : \n",
    "            city_record= city_record + 1\n",
    "            record = 0\n",
    "        \n",
    "\n",
    "        record= record + 1\n",
    "\n",
    "    except:\n",
    "        print(\"City not found. Skipping...\")"
   ]
  },
  {
   "cell_type": "markdown",
   "metadata": {},
   "source": [
    "### Convert Raw Data to DataFrame\n",
    "* Export the city data into a .csv.\n",
    "* Display the DataFrame"
   ]
  },
  {
   "cell_type": "code",
   "execution_count": 122,
   "metadata": {},
   "outputs": [],
   "source": [
    "weather_data= {\n",
    "    \"City\": city_name,\n",
    "    \"Lat\": lat,\n",
    "    \"Lng\": lng,\n",
    "    \"Max Temp\": max_temp,\n",
    "    \"Humidity\": humidity,\n",
    "    \"Cloudiness\": cloudiness,\n",
    "    \"Wind Speed\": wind_speed,\n",
    "    \"Country\":country,\n",
    "    \"Date\": date,\n",
    "}\n",
    "\n",
    "weather_df= pd.DataFrame(weather_data)\n",
    "weather_df\n",
    "\n",
    "weather_df.to_csv('weather_data.csv')"
   ]
  },
  {
   "cell_type": "code",
   "execution_count": 121,
   "metadata": {},
   "outputs": [
    {
     "data": {
      "text/html": [
       "<div>\n",
       "<style scoped>\n",
       "    .dataframe tbody tr th:only-of-type {\n",
       "        vertical-align: middle;\n",
       "    }\n",
       "\n",
       "    .dataframe tbody tr th {\n",
       "        vertical-align: top;\n",
       "    }\n",
       "\n",
       "    .dataframe thead th {\n",
       "        text-align: right;\n",
       "    }\n",
       "</style>\n",
       "<table border=\"1\" class=\"dataframe\">\n",
       "  <thead>\n",
       "    <tr style=\"text-align: right;\">\n",
       "      <th></th>\n",
       "      <th>Lat</th>\n",
       "      <th>Lng</th>\n",
       "      <th>Max Temp</th>\n",
       "      <th>Humidity</th>\n",
       "      <th>Cloudiness</th>\n",
       "      <th>Wind Speed</th>\n",
       "      <th>Date</th>\n",
       "    </tr>\n",
       "  </thead>\n",
       "  <tbody>\n",
       "    <tr>\n",
       "      <th>count</th>\n",
       "      <td>550.000000</td>\n",
       "      <td>550.000000</td>\n",
       "      <td>550.000000</td>\n",
       "      <td>550.000000</td>\n",
       "      <td>550.000000</td>\n",
       "      <td>550.000000</td>\n",
       "      <td>5.500000e+02</td>\n",
       "    </tr>\n",
       "    <tr>\n",
       "      <th>mean</th>\n",
       "      <td>19.026309</td>\n",
       "      <td>17.651800</td>\n",
       "      <td>54.653218</td>\n",
       "      <td>75.563636</td>\n",
       "      <td>53.574545</td>\n",
       "      <td>8.070655</td>\n",
       "      <td>1.606267e+09</td>\n",
       "    </tr>\n",
       "    <tr>\n",
       "      <th>std</th>\n",
       "      <td>33.126250</td>\n",
       "      <td>89.982584</td>\n",
       "      <td>25.285467</td>\n",
       "      <td>18.319830</td>\n",
       "      <td>41.132919</td>\n",
       "      <td>6.528083</td>\n",
       "      <td>1.052696e+02</td>\n",
       "    </tr>\n",
       "    <tr>\n",
       "      <th>min</th>\n",
       "      <td>-54.800000</td>\n",
       "      <td>-175.200000</td>\n",
       "      <td>-11.360000</td>\n",
       "      <td>12.000000</td>\n",
       "      <td>0.000000</td>\n",
       "      <td>0.360000</td>\n",
       "      <td>1.606267e+09</td>\n",
       "    </tr>\n",
       "    <tr>\n",
       "      <th>25%</th>\n",
       "      <td>-7.995000</td>\n",
       "      <td>-64.280000</td>\n",
       "      <td>35.650000</td>\n",
       "      <td>65.000000</td>\n",
       "      <td>3.000000</td>\n",
       "      <td>3.365000</td>\n",
       "      <td>1.606267e+09</td>\n",
       "    </tr>\n",
       "    <tr>\n",
       "      <th>50%</th>\n",
       "      <td>21.585000</td>\n",
       "      <td>23.055000</td>\n",
       "      <td>61.845000</td>\n",
       "      <td>79.000000</td>\n",
       "      <td>67.500000</td>\n",
       "      <td>6.070000</td>\n",
       "      <td>1.606268e+09</td>\n",
       "    </tr>\n",
       "    <tr>\n",
       "      <th>75%</th>\n",
       "      <td>46.427500</td>\n",
       "      <td>95.805000</td>\n",
       "      <td>75.200000</td>\n",
       "      <td>90.000000</td>\n",
       "      <td>96.000000</td>\n",
       "      <td>10.800000</td>\n",
       "      <td>1.606268e+09</td>\n",
       "    </tr>\n",
       "    <tr>\n",
       "      <th>max</th>\n",
       "      <td>78.220000</td>\n",
       "      <td>179.320000</td>\n",
       "      <td>100.400000</td>\n",
       "      <td>100.000000</td>\n",
       "      <td>100.000000</td>\n",
       "      <td>38.650000</td>\n",
       "      <td>1.606268e+09</td>\n",
       "    </tr>\n",
       "  </tbody>\n",
       "</table>\n",
       "</div>"
      ],
      "text/plain": [
       "              Lat         Lng    Max Temp    Humidity  Cloudiness  Wind Speed  \\\n",
       "count  550.000000  550.000000  550.000000  550.000000  550.000000  550.000000   \n",
       "mean    19.026309   17.651800   54.653218   75.563636   53.574545    8.070655   \n",
       "std     33.126250   89.982584   25.285467   18.319830   41.132919    6.528083   \n",
       "min    -54.800000 -175.200000  -11.360000   12.000000    0.000000    0.360000   \n",
       "25%     -7.995000  -64.280000   35.650000   65.000000    3.000000    3.365000   \n",
       "50%     21.585000   23.055000   61.845000   79.000000   67.500000    6.070000   \n",
       "75%     46.427500   95.805000   75.200000   90.000000   96.000000   10.800000   \n",
       "max     78.220000  179.320000  100.400000  100.000000  100.000000   38.650000   \n",
       "\n",
       "               Date  \n",
       "count  5.500000e+02  \n",
       "mean   1.606267e+09  \n",
       "std    1.052696e+02  \n",
       "min    1.606267e+09  \n",
       "25%    1.606267e+09  \n",
       "50%    1.606268e+09  \n",
       "75%    1.606268e+09  \n",
       "max    1.606268e+09  "
      ]
     },
     "execution_count": 121,
     "metadata": {},
     "output_type": "execute_result"
    }
   ],
   "source": [
    "weather_df.describe()"
   ]
  },
  {
   "cell_type": "markdown",
   "metadata": {},
   "source": [
    "## Inspect the data and remove the cities where the humidity > 100%.\n",
    "----\n",
    "Skip this step if there are no cities that have humidity > 100%. "
   ]
  },
  {
   "cell_type": "code",
   "execution_count": 73,
   "metadata": {},
   "outputs": [
    {
     "data": {
      "text/plain": [
       "Int64Index([], dtype='int64')"
      ]
     },
     "execution_count": 73,
     "metadata": {},
     "output_type": "execute_result"
    }
   ],
   "source": [
    "#  Get the indices of cities that have humidity over 100%.\n",
    "weather_df.loc[weather_df[\"Humidity\"]>100].index"
   ]
  },
  {
   "cell_type": "code",
   "execution_count": 74,
   "metadata": {},
   "outputs": [],
   "source": [
    "# Make a new DataFrame equal to the city data to drop all humidity outliers by index.\n",
    "# Passing \"inplace=False\" will make a copy of the city_data DataFrame, which we call \"clean_city_data\".\n",
    "weather_df=weather_df.loc[weather_df[\"Humidity\"]<=100]"
   ]
  },
  {
   "cell_type": "markdown",
   "metadata": {},
   "source": [
    "## Plotting the Data\n",
    "* Use proper labeling of the plots using plot titles (including date of analysis) and axes labels.\n",
    "* Save the plotted figures as .pngs."
   ]
  },
  {
   "cell_type": "markdown",
   "metadata": {},
   "source": [
    "## Latitude vs. Temperature Plot"
   ]
  },
  {
   "cell_type": "code",
   "execution_count": 75,
   "metadata": {},
   "outputs": [],
   "source": [
    "def lat_scatter_plot(y_axis, y_label):\n",
    "    x_axis= weather_df[\"Lat\"]\n",
    "    plt.scatter(x_axis, weather_df[y_axis])\n",
    "    \n",
    "    plt.title(f'City Latitude vs. {y_axis}')\n",
    "    plt.ylabel(y_label)\n",
    "    plt.xlabel('Latitude')\n",
    "    \n",
    "    plt.show()"
   ]
  },
  {
   "cell_type": "code",
   "execution_count": 76,
   "metadata": {},
   "outputs": [
    {
     "data": {
      "image/png": "[encoded data removed]",
      "text/plain": [
       "<Figure size 432x288 with 1 Axes>"
      ]
     },
     "metadata": {
      "needs_background": "light"
     },
     "output_type": "display_data"
    }
   ],
   "source": [
    "lat_scatter_plot(\"Max Temp\", \"Max Temperature (F)\")"
   ]
  },
  {
   "cell_type": "code",
   "execution_count": null,
   "metadata": {
    "scrolled": true
   },
   "outputs": [],
   "source": []
  },
  {
   "cell_type": "markdown",
   "metadata": {},
   "source": [
    "## Latitude vs. Humidity Plot"
   ]
  },
  {
   "cell_type": "code",
   "execution_count": 77,
   "metadata": {},
   "outputs": [],
   "source": [
    "def lat_scatter_plot(y_axis, y_label):\n",
    "    x_axis= weather_df[\"Lat\"]\n",
    "    plt.scatter(x_axis, weather_df[y_axis])\n",
    "    \n",
    "    plt.title(f'City Latitude vs. {y_axis}')\n",
    "    plt.ylabel(y_label)\n",
    "    plt.xlabel('Latitude')\n",
    "    \n",
    "    plt.show()"
   ]
  },
  {
   "cell_type": "code",
   "execution_count": 78,
   "metadata": {},
   "outputs": [
    {
     "data": {
      "image/png": "[encoded data removed]",
      "text/plain": [
       "<Figure size 432x288 with 1 Axes>"
      ]
     },
     "metadata": {
      "needs_background": "light"
     },
     "output_type": "display_data"
    }
   ],
   "source": [
    "lat_scatter_plot(\"Humidity\", \"Humidity (%)\")"
   ]
  },
  {
   "cell_type": "markdown",
   "metadata": {},
   "source": [
    "## Latitude vs. Cloudiness Plot"
   ]
  },
  {
   "cell_type": "code",
   "execution_count": 79,
   "metadata": {},
   "outputs": [],
   "source": [
    "def lat_scatter_plot(y_axis, y_label):\n",
    "    x_axis= weather_df[\"Lat\"]\n",
    "    plt.scatter(x_axis, weather_df[y_axis])\n",
    "    \n",
    "    plt.title(f'City Latitude vs. {y_axis}')\n",
    "    plt.ylabel(y_label)\n",
    "    plt.xlabel('Latitude')\n",
    "    \n",
    "    plt.show()"
   ]
  },
  {
   "cell_type": "code",
   "execution_count": 80,
   "metadata": {},
   "outputs": [
    {
     "data": {
      "image/png": "[encoded data removed]",
      "text/plain": [
       "<Figure size 432x288 with 1 Axes>"
      ]
     },
     "metadata": {
      "needs_background": "light"
     },
     "output_type": "display_data"
    }
   ],
   "source": [
    "lat_scatter_plot(\"Cloudiness\", \"Cloudiness (%)\")"
   ]
  },
  {
   "cell_type": "markdown",
   "metadata": {},
   "source": [
    "## Latitude vs. Wind Speed Plot"
   ]
  },
  {
   "cell_type": "code",
   "execution_count": 81,
   "metadata": {},
   "outputs": [],
   "source": [
    "def lat_scatter_plot(y_axis, y_label):\n",
    "    x_axis= weather_df[\"Lat\"]\n",
    "    plt.scatter(x_axis, weather_df[y_axis])\n",
    "    \n",
    "    plt.title(f'City Latitude vs. {y_axis}')\n",
    "    plt.ylabel(y_label)\n",
    "    plt.xlabel('Latitude')\n",
    "    \n",
    "    plt.show()"
   ]
  },
  {
   "cell_type": "code",
   "execution_count": 82,
   "metadata": {},
   "outputs": [
    {
     "data": {
      "image/png": "[encoded data removed]",
      "text/plain": [
       "<Figure size 432x288 with 1 Axes>"
      ]
     },
     "metadata": {
      "needs_background": "light"
     },
     "output_type": "display_data"
    }
   ],
   "source": [
    "lat_scatter_plot(\"Wind Speed\", \"Wind Speed (mph)\")"
   ]
  },
  {
   "cell_type": "markdown",
   "metadata": {},
   "source": [
    "## Linear Regression"
   ]
  },
  {
   "cell_type": "markdown",
   "metadata": {},
   "source": [
    "####  Northern Hemisphere - Max Temp vs. Latitude Linear Regression"
   ]
  },
  {
   "cell_type": "code",
   "execution_count": 111,
   "metadata": {},
   "outputs": [
    {
     "name": "stdout",
     "output_type": "stream",
     "text": [
      "The r-value is: -0.8786335022018134\n"
     ]
    },
    {
     "data": {
      "image/png": "[encoded data removed]",
      "text/plain": [
       "<Figure size 432x288 with 1 Axes>"
      ]
     },
     "metadata": {
      "needs_background": "light"
     },
     "output_type": "display_data"
    },
    {
     "data": {
      "text/plain": [
       "<Figure size 432x288 with 0 Axes>"
      ]
     },
     "metadata": {},
     "output_type": "display_data"
    }
   ],
   "source": [
    "# Calculate the correlation coefficient and linear regression model \n",
    "\n",
    "n_hem= weather_df.loc[weather_df[\"Lat\"]> 0.0]\n",
    "\n",
    "x_values = n_hem[\"Lat\"]\n",
    "temp_y_values = n_hem['Max Temp']\n",
    "(slope, intercept, rvalue, pvalue, stderr) = linregress(x_values, temp_y_values)\n",
    "regress_values = x_values * slope + intercept\n",
    "line_eq = \"y = \" + str(round(slope,2)) + \"x + \" + str(round(intercept,2))\n",
    "\n",
    "plt.scatter(x_values,temp_y_values)\n",
    "plt.plot(x_values,regress_values,\"r-\")\n",
    "plt.annotate(line_eq,(6,10),fontsize=15,color=\"red\")\n",
    "\n",
    "plt.xlabel('Latitude')\n",
    "plt.ylabel('Max Temp')\n",
    "print(f\"The r-value is: {rvalue}\")\n",
    "plt.show()\n",
    "\n",
    "plt.savefig(\"Plots/Max_Temp_vs_nLat.png\")"
   ]
  },
  {
   "cell_type": "markdown",
   "metadata": {},
   "source": [
    "####  Southern Hemisphere - Max Temp vs. Latitude Linear Regression"
   ]
  },
  {
   "cell_type": "code",
   "execution_count": 112,
   "metadata": {},
   "outputs": [
    {
     "name": "stdout",
     "output_type": "stream",
     "text": [
      "The r-value is: 0.45451072283190685\n"
     ]
    },
    {
     "data": {
      "image/png": "[encoded data removed]",
      "text/plain": [
       "<Figure size 432x288 with 1 Axes>"
      ]
     },
     "metadata": {
      "needs_background": "light"
     },
     "output_type": "display_data"
    },
    {
     "data": {
      "text/plain": [
       "<Figure size 432x288 with 0 Axes>"
      ]
     },
     "metadata": {},
     "output_type": "display_data"
    }
   ],
   "source": [
    "s_hem= weather_df.loc[weather_df[\"Lat\"]< 0.0]\n",
    "\n",
    "x_values = s_hem[\"Lat\"]\n",
    "y_values = s_hem['Max Temp']\n",
    "(slope, intercept, rvalue, pvalue, stderr) = linregress(x_values, y_values)\n",
    "regress_values = x_values * slope + intercept\n",
    "line_eq = \"y = \" + str(round(slope,2)) + \"x + \" + str(round(intercept,2))\n",
    "\n",
    "plt.scatter(x_values,y_values)\n",
    "plt.plot(x_values,regress_values,\"r-\")\n",
    "plt.annotate(line_eq,(6,10),fontsize=15,color=\"red\")\n",
    "\n",
    "plt.xlabel('Latitude')\n",
    "plt.ylabel('Max Temp')\n",
    "print(f\"The r-value is: {rvalue}\")\n",
    "plt.show()\n",
    "\n",
    "plt.savefig(\"Plots/Max_Temp_vs_sLat.png\")"
   ]
  },
  {
   "cell_type": "markdown",
   "metadata": {},
   "source": [
    "####  Northern Hemisphere - Humidity (%) vs. Latitude Linear Regression"
   ]
  },
  {
   "cell_type": "code",
   "execution_count": 113,
   "metadata": {},
   "outputs": [
    {
     "name": "stdout",
     "output_type": "stream",
     "text": [
      "The r-value is: 0.3804844883174032\n"
     ]
    },
    {
     "data": {
      "image/png": "[encoded data removed]",
      "text/plain": [
       "<Figure size 432x288 with 1 Axes>"
      ]
     },
     "metadata": {
      "needs_background": "light"
     },
     "output_type": "display_data"
    },
    {
     "data": {
      "text/plain": [
       "<Figure size 432x288 with 0 Axes>"
      ]
     },
     "metadata": {},
     "output_type": "display_data"
    }
   ],
   "source": [
    "n_hem= weather_df.loc[weather_df[\"Lat\"]> 0.0]\n",
    "\n",
    "x_values = n_hem[\"Lat\"]\n",
    "y_values = n_hem['Humidity']\n",
    "(slope, intercept, rvalue, pvalue, stderr) = linregress(x_values, y_values)\n",
    "regress_values = x_values * slope + intercept\n",
    "line_eq = \"y = \" + str(round(slope,2)) + \"x + \" + str(round(intercept,2))\n",
    "\n",
    "plt.scatter(x_values,y_values)\n",
    "plt.plot(x_values,regress_values,\"r-\")\n",
    "plt.annotate(line_eq,(6,10),fontsize=15,color=\"red\")\n",
    "\n",
    "plt.xlabel('Latitude')\n",
    "plt.ylabel('Humidity')\n",
    "print(f\"The r-value is: {rvalue}\")\n",
    "plt.show()\n",
    "\n",
    "plt.savefig(\"Plots/Humidity_vs_nLat.png\")"
   ]
  },
  {
   "cell_type": "markdown",
   "metadata": {},
   "source": [
    "####  Southern Hemisphere - Humidity (%) vs. Latitude Linear Regression"
   ]
  },
  {
   "cell_type": "code",
   "execution_count": 114,
   "metadata": {},
   "outputs": [
    {
     "name": "stdout",
     "output_type": "stream",
     "text": [
      "The r-value is: 0.3279074356976461\n"
     ]
    },
    {
     "data": {
      "image/png": "[encoded data removed]",
      "text/plain": [
       "<Figure size 432x288 with 1 Axes>"
      ]
     },
     "metadata": {
      "needs_background": "light"
     },
     "output_type": "display_data"
    },
    {
     "data": {
      "text/plain": [
       "<Figure size 432x288 with 0 Axes>"
      ]
     },
     "metadata": {},
     "output_type": "display_data"
    }
   ],
   "source": [
    "s_hem= weather_df.loc[weather_df[\"Lat\"]< 0.0]\n",
    "\n",
    "x_values = s_hem[\"Lat\"]\n",
    "y_values = s_hem['Humidity']\n",
    "(slope, intercept, rvalue, pvalue, stderr) = linregress(x_values, y_values)\n",
    "regress_values = x_values * slope + intercept\n",
    "line_eq = \"y = \" + str(round(slope,2)) + \"x + \" + str(round(intercept,2))\n",
    "\n",
    "plt.scatter(x_values,y_values)\n",
    "plt.plot(x_values,regress_values,\"r-\")\n",
    "plt.annotate(line_eq,(6,10),fontsize=15,color=\"red\")\n",
    "\n",
    "plt.xlabel('Latitude')\n",
    "plt.ylabel('Humidity')\n",
    "print(f\"The r-value is: {rvalue}\")\n",
    "plt.show()\n",
    "\n",
    "plt.savefig(\"Plots/Humidity_vs_sLat.png\")"
   ]
  },
  {
   "cell_type": "markdown",
   "metadata": {},
   "source": [
    "####  Northern Hemisphere - Cloudiness (%) vs. Latitude Linear Regression"
   ]
  },
  {
   "cell_type": "code",
   "execution_count": 115,
   "metadata": {},
   "outputs": [
    {
     "name": "stdout",
     "output_type": "stream",
     "text": [
      "The r-value is: 0.2668127889937744\n"
     ]
    },
    {
     "data": {
      "image/png": "[encoded data removed]",
      "text/plain": [
       "<Figure size 432x288 with 1 Axes>"
      ]
     },
     "metadata": {
      "needs_background": "light"
     },
     "output_type": "display_data"
    },
    {
     "data": {
      "text/plain": [
       "<Figure size 432x288 with 0 Axes>"
      ]
     },
     "metadata": {},
     "output_type": "display_data"
    }
   ],
   "source": [
    "n_hem= weather_df.loc[weather_df[\"Lat\"]> 0.0]\n",
    "\n",
    "x_values = n_hem[\"Lat\"]\n",
    "y_values = n_hem['Cloudiness']\n",
    "(slope, intercept, rvalue, pvalue, stderr) = linregress(x_values, y_values)\n",
    "regress_values = x_values * slope + intercept\n",
    "line_eq = \"y = \" + str(round(slope,2)) + \"x + \" + str(round(intercept,2))\n",
    "\n",
    "plt.scatter(x_values,y_values)\n",
    "plt.plot(x_values,regress_values,\"r-\")\n",
    "plt.annotate(line_eq,(6,10),fontsize=15,color=\"red\")\n",
    "\n",
    "plt.xlabel('Latitude')\n",
    "plt.ylabel('Cloudiness')\n",
    "print(f\"The r-value is: {rvalue}\")\n",
    "plt.show()\n",
    "\n",
    "plt.savefig(\"Plots/Cloudiness_vs_nLat.png\")"
   ]
  },
  {
   "cell_type": "markdown",
   "metadata": {},
   "source": [
    "####  Southern Hemisphere - Cloudiness (%) vs. Latitude Linear Regression"
   ]
  },
  {
   "cell_type": "code",
   "execution_count": 116,
   "metadata": {},
   "outputs": [
    {
     "name": "stdout",
     "output_type": "stream",
     "text": [
      "The r-value is: 0.3095577513464293\n"
     ]
    },
    {
     "data": {
      "image/png": "[encoded data removed]",
      "text/plain": [
       "<Figure size 432x288 with 1 Axes>"
      ]
     },
     "metadata": {
      "needs_background": "light"
     },
     "output_type": "display_data"
    },
    {
     "data": {
      "text/plain": [
       "<Figure size 432x288 with 0 Axes>"
      ]
     },
     "metadata": {},
     "output_type": "display_data"
    }
   ],
   "source": [
    "s_hem= weather_df.loc[weather_df[\"Lat\"]< 0.0]\n",
    "\n",
    "x_values = s_hem[\"Lat\"]\n",
    "y_values = s_hem['Cloudiness']\n",
    "(slope, intercept, rvalue, pvalue, stderr) = linregress(x_values, y_values)\n",
    "regress_values = x_values * slope + intercept\n",
    "line_eq = \"y = \" + str(round(slope,2)) + \"x + \" + str(round(intercept,2))\n",
    "\n",
    "plt.scatter(x_values,y_values)\n",
    "plt.plot(x_values,regress_values,\"r-\")\n",
    "plt.annotate(line_eq,(6,10),fontsize=15,color=\"red\")\n",
    "\n",
    "plt.xlabel('Latitude')\n",
    "plt.ylabel('Cloudiness')\n",
    "print(f\"The r-value is: {rvalue}\")\n",
    "plt.show()\n",
    "\n",
    "plt.savefig(\"Plots/Cloudiness_vs_sLat.png\")"
   ]
  },
  {
   "cell_type": "markdown",
   "metadata": {},
   "source": [
    "####  Northern Hemisphere - Wind Speed (mph) vs. Latitude Linear Regression"
   ]
  },
  {
   "cell_type": "code",
   "execution_count": 117,
   "metadata": {},
   "outputs": [
    {
     "name": "stdout",
     "output_type": "stream",
     "text": [
      "The r-value is: 0.19941108722463485\n"
     ]
    },
    {
     "data": {
      "image/png": "[encoded data removed]",
      "text/plain": [
       "<Figure size 432x288 with 1 Axes>"
      ]
     },
     "metadata": {
      "needs_background": "light"
     },
     "output_type": "display_data"
    },
    {
     "data": {
      "text/plain": [
       "<Figure size 432x288 with 0 Axes>"
      ]
     },
     "metadata": {},
     "output_type": "display_data"
    }
   ],
   "source": [
    "n_hem= weather_df.loc[weather_df[\"Lat\"]> 0.0]\n",
    "\n",
    "x_values = n_hem[\"Lat\"]\n",
    "y_values = n_hem['Wind Speed']\n",
    "(slope, intercept, rvalue, pvalue, stderr) = linregress(x_values,y_values)\n",
    "regress_values = x_values * slope + intercept\n",
    "line_eq = \"y = \" + str(round(slope,2)) + \"x + \" + str(round(intercept,2))\n",
    "\n",
    "plt.scatter(x_values,y_values)\n",
    "plt.plot(x_values,regress_values,\"r-\")\n",
    "plt.annotate(line_eq,(6,10),fontsize=15,color=\"red\")\n",
    "\n",
    "plt.xlabel('Latitude')\n",
    "plt.ylabel('Humidity')\n",
    "print(f\"The r-value is: {rvalue}\")\n",
    "plt.show()\n",
    "\n",
    "plt.savefig(\"Plots/Wind_Speed_vs_nLat.png\")"
   ]
  },
  {
   "cell_type": "markdown",
   "metadata": {},
   "source": [
    "####  Southern Hemisphere - Wind Speed (mph) vs. Latitude Linear Regression"
   ]
  },
  {
   "cell_type": "code",
   "execution_count": 118,
   "metadata": {},
   "outputs": [
    {
     "name": "stdout",
     "output_type": "stream",
     "text": [
      "The r-value is: -0.25623756547394316\n"
     ]
    },
    {
     "data": {
      "image/png": "[encoded data removed]",
      "text/plain": [
       "<Figure size 432x288 with 1 Axes>"
      ]
     },
     "metadata": {
      "needs_background": "light"
     },
     "output_type": "display_data"
    },
    {
     "data": {
      "text/plain": [
       "<Figure size 432x288 with 0 Axes>"
      ]
     },
     "metadata": {},
     "output_type": "display_data"
    }
   ],
   "source": [
    "s_hem= weather_df.loc[weather_df[\"Lat\"]< 0.0]\n",
    "\n",
    "x_values = s_hem[\"Lat\"]\n",
    "y_values = s_hem['Wind Speed']\n",
    "(slope, intercept, rvalue, pvalue, stderr) = linregress(x_values, y_values)\n",
    "regress_values = x_values * slope + intercept\n",
    "line_eq = \"y = \" + str(round(slope,2)) + \"x + \" + str(round(intercept,2))\n",
    "\n",
    "plt.scatter(x_values,y_values)\n",
    "plt.plot(x_values,regress_values,\"r-\")\n",
    "plt.annotate(line_eq,(6,10),fontsize=15,color=\"red\")\n",
    "\n",
    "plt.xlabel('Latitude')\n",
    "plt.ylabel('Wind Speed')\n",
    "print(f\"The r-value is: {rvalue}\")\n",
    "plt.show()\n",
    "\n",
    "plt.savefig(\"Plots/Wind_Speed_vs_sLat.png\")"
   ]
  },
  {
   "cell_type": "code",
   "execution_count": null,
   "metadata": {},
   "outputs": [],
   "source": []
  }
 ],
 "metadata": {
  "anaconda-cloud": {},
  "kernel_info": {
   "name": "python3"
  },
  "kernelspec": {
   "display_name": "Python [conda env:PythonData]",
   "language": "python",
   "name": "conda-env-PythonData-py"
  },
  "language_info": {
   "codemirror_mode": {
    "name": "ipython",
    "version": 3
   },
   "file_extension": ".py",
   "mimetype": "text/x-python",
   "name": "python",
   "nbconvert_exporter": "python",
   "pygments_lexer": "ipython3",
   "version": "3.6.10"
  },
  "latex_envs": {
   "LaTeX_envs_menu_present": true,
   "autoclose": false,
   "autocomplete": true,
   "bibliofile": "biblio.bib",
   "cite_by": "apalike",
   "current_citInitial": 1,
   "eqLabelWithNumbers": true,
   "eqNumInitial": 1,
   "hotkeys": {
    "equation": "Ctrl-E",
    "itemize": "Ctrl-I"
   },
   "labels_anchors": false,
   "latex_user_defs": false,
   "report_style_numbering": false,
   "user_envs_cfg": false
  },
  "nteract": {
   "version": "0.12.3"
  }
 },
 "nbformat": 4,
 "nbformat_minor": 2
}
